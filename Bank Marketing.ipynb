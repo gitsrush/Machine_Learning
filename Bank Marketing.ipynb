{
 "cells": [
  {
   "cell_type": "markdown",
   "metadata": {},
   "source": [
    "##### For the classification part of this project, we will be classifying clients who will/will not subscribe to the term deposit in a Portugese bank. Following information will give you an overview of the dataset.\n",
    "\n",
    "Dataset source: bank-additional.csv from https://archive.ics.uci.edu/ml/machine-learning-databases/00222/\n",
    "\n",
    "# Data Set Information:\n",
    "\n",
    "The data is related with direct marketing campaigns of a Portuguese banking institution. The marketing campaigns were based on phone calls. Often, more than one contact to the same client was required, in order to access if the product (bank term deposit) would be ('yes') or not ('no') subscribed.\n",
    "\n",
    "**Attribute Information:**\n",
    "\n",
    "Input variables:\n",
    "# bank client data:\n",
    "1 - age (numeric)\n",
    "2 - job : type of job (categorical: 'admin.','blue-collar','entrepreneur','housemaid','management','retired','self-employed','services','student','technician','unemployed','unknown')\n",
    "3 - marital : marital status (categorical: 'divorced','married','single','unknown'; note: 'divorced' means divorced or widowed)\n",
    "4 - education (categorical: 'basic.4y','basic.6y','basic.9y','high.school','illiterate','professional.course','university.degree','unknown')\n",
    "5 - default: has credit in default? (categorical: 'no','yes','unknown')\n",
    "6 - housing: has housing loan? (categorical: 'no','yes','unknown')\n",
    "7 - loan: has personal loan? (categorical: 'no','yes','unknown')\n",
    "# related with the last contact of the current campaign:\n",
    "8 - contact: contact communication type (categorical: 'cellular','telephone')\n",
    "9 - month: last contact month of year (categorical: 'jan', 'feb', 'mar', ..., 'nov', 'dec')\n",
    "10 - day_of_week: last contact day of the week (categorical: 'mon','tue','wed','thu','fri')\n",
    "11 - duration: last contact duration, in seconds (numeric). Important note: this attribute highly affects the output target (e.g., if duration=0 then y='no'). Yet, the duration is not known before a call is performed. Also, after the end of the call y is obviously known. Thus, this input should only be included for benchmark purposes and should be discarded if the intention is to have a realistic predictive model.\n",
    "# other attributes:\n",
    "12 - campaign: number of contacts performed during this campaign and for this client (numeric, includes last contact)\n",
    "13 - pdays: number of days that passed by after the client was last contacted from a previous campaign (numeric; 999 means client was not previously contacted)\n",
    "14 - previous: number of contacts performed before this campaign and for this client (numeric)\n",
    "15 - poutcome: outcome of the previous marketing campaign (categorical: 'failure','nonexistent','success')\n",
    "# social and economic context attributes\n",
    "16 - emp.var.rate: employment variation rate - quarterly indicator (numeric)\n",
    "17 - cons.price.idx: consumer price index - monthly indicator (numeric)\n",
    "18 - cons.conf.idx: consumer confidence index - monthly indicator (numeric)\n",
    "19 - euribor3m: euribor 3 month rate - daily indicator (numeric)\n",
    "20 - nr.employed: number of employees - quarterly indicator (numeric)\n",
    "\n",
    "**Output variable (desired target):**\n",
    "21 - y - has the client subscribed a term deposit? (binary: 'yes','no')\n",
    "\n",
    "The data contains 4119 instances and 21 features."
   ]
  },
  {
   "cell_type": "markdown",
   "metadata": {},
   "source": [
    "### We will be using various machine learning techniques like classification models, ensemble learning, PCA and neural networks to determine the outcome of the marketing campaign."
   ]
  },
  {
   "cell_type": "markdown",
   "metadata": {},
   "source": [
    "## Import libraries"
   ]
  },
  {
   "cell_type": "code",
   "execution_count": 1,
   "metadata": {},
   "outputs": [],
   "source": [
    "#Import libraries\n",
    "import numpy as np\n",
    "import pandas as pd\n",
    "from imblearn.over_sampling import ADASYN\n",
    "import matplotlib.pyplot as plt\n",
    "import seaborn as sns\n",
    "from sklearn.preprocessing import MinMaxScaler\n",
    "from sklearn.ensemble import AdaBoostClassifier\n",
    "from sklearn.tree import DecisionTreeClassifier\n",
    "from sklearn.metrics import confusion_matrix\n",
    "from sklearn.model_selection import GridSearchCV\n",
    "from sklearn.metrics import classification_report\n",
    "from sklearn.svm import SVC\n",
    "from sklearn.ensemble import BaggingClassifier\n",
    "from sklearn.ensemble import GradientBoostingClassifier\n",
    "from sklearn.metrics import roc_auc_score\n",
    "from sklearn.neighbors import KNeighborsClassifier\n",
    "from sklearn.ensemble import VotingClassifier\n",
    "from sklearn.linear_model import LogisticRegression\n",
    "from sklearn.svm import SVC\n",
    "\n",
    "%matplotlib inline\n",
    "import warnings\n",
    "warnings.filterwarnings('ignore')"
   ]
  },
  {
   "cell_type": "markdown",
   "metadata": {},
   "source": [
    "# Data exploration"
   ]
  },
  {
   "cell_type": "code",
   "execution_count": 2,
   "metadata": {},
   "outputs": [],
   "source": [
    "bank = pd.read_csv('bank-additional.csv', sep=';')"
   ]
  },
  {
   "cell_type": "code",
   "execution_count": 3,
   "metadata": {},
   "outputs": [],
   "source": [
    "bank.drop(['duration', 'campaign', 'month', 'contact', 'day_of_week'], axis=1, inplace=True)"
   ]
  },
  {
   "cell_type": "markdown",
   "metadata": {},
   "source": [
    "The above variables are related to the current campaign and can falsely influence our predictions. We do not have access to this information at the start of the new campaign, so it will not be realistic to include these variables in our prediction models."
   ]
  },
  {
   "cell_type": "code",
   "execution_count": 4,
   "metadata": {},
   "outputs": [
    {
     "data": {
      "text/html": [
       "<div>\n",
       "<style scoped>\n",
       "    .dataframe tbody tr th:only-of-type {\n",
       "        vertical-align: middle;\n",
       "    }\n",
       "\n",
       "    .dataframe tbody tr th {\n",
       "        vertical-align: top;\n",
       "    }\n",
       "\n",
       "    .dataframe thead th {\n",
       "        text-align: right;\n",
       "    }\n",
       "</style>\n",
       "<table border=\"1\" class=\"dataframe\">\n",
       "  <thead>\n",
       "    <tr style=\"text-align: right;\">\n",
       "      <th></th>\n",
       "      <th>age</th>\n",
       "      <th>job</th>\n",
       "      <th>marital</th>\n",
       "      <th>education</th>\n",
       "      <th>default</th>\n",
       "      <th>housing</th>\n",
       "      <th>loan</th>\n",
       "      <th>pdays</th>\n",
       "      <th>previous</th>\n",
       "      <th>poutcome</th>\n",
       "      <th>emp.var.rate</th>\n",
       "      <th>cons.price.idx</th>\n",
       "      <th>cons.conf.idx</th>\n",
       "      <th>euribor3m</th>\n",
       "      <th>nr.employed</th>\n",
       "      <th>y</th>\n",
       "    </tr>\n",
       "  </thead>\n",
       "  <tbody>\n",
       "    <tr>\n",
       "      <th>0</th>\n",
       "      <td>30</td>\n",
       "      <td>blue-collar</td>\n",
       "      <td>married</td>\n",
       "      <td>basic.9y</td>\n",
       "      <td>no</td>\n",
       "      <td>yes</td>\n",
       "      <td>no</td>\n",
       "      <td>999</td>\n",
       "      <td>0</td>\n",
       "      <td>nonexistent</td>\n",
       "      <td>-1.8</td>\n",
       "      <td>92.893</td>\n",
       "      <td>-46.2</td>\n",
       "      <td>1.313</td>\n",
       "      <td>5099.1</td>\n",
       "      <td>no</td>\n",
       "    </tr>\n",
       "    <tr>\n",
       "      <th>1</th>\n",
       "      <td>39</td>\n",
       "      <td>services</td>\n",
       "      <td>single</td>\n",
       "      <td>high.school</td>\n",
       "      <td>no</td>\n",
       "      <td>no</td>\n",
       "      <td>no</td>\n",
       "      <td>999</td>\n",
       "      <td>0</td>\n",
       "      <td>nonexistent</td>\n",
       "      <td>1.1</td>\n",
       "      <td>93.994</td>\n",
       "      <td>-36.4</td>\n",
       "      <td>4.855</td>\n",
       "      <td>5191.0</td>\n",
       "      <td>no</td>\n",
       "    </tr>\n",
       "    <tr>\n",
       "      <th>2</th>\n",
       "      <td>25</td>\n",
       "      <td>services</td>\n",
       "      <td>married</td>\n",
       "      <td>high.school</td>\n",
       "      <td>no</td>\n",
       "      <td>yes</td>\n",
       "      <td>no</td>\n",
       "      <td>999</td>\n",
       "      <td>0</td>\n",
       "      <td>nonexistent</td>\n",
       "      <td>1.4</td>\n",
       "      <td>94.465</td>\n",
       "      <td>-41.8</td>\n",
       "      <td>4.962</td>\n",
       "      <td>5228.1</td>\n",
       "      <td>no</td>\n",
       "    </tr>\n",
       "    <tr>\n",
       "      <th>3</th>\n",
       "      <td>38</td>\n",
       "      <td>services</td>\n",
       "      <td>married</td>\n",
       "      <td>basic.9y</td>\n",
       "      <td>no</td>\n",
       "      <td>unknown</td>\n",
       "      <td>unknown</td>\n",
       "      <td>999</td>\n",
       "      <td>0</td>\n",
       "      <td>nonexistent</td>\n",
       "      <td>1.4</td>\n",
       "      <td>94.465</td>\n",
       "      <td>-41.8</td>\n",
       "      <td>4.959</td>\n",
       "      <td>5228.1</td>\n",
       "      <td>no</td>\n",
       "    </tr>\n",
       "    <tr>\n",
       "      <th>4</th>\n",
       "      <td>47</td>\n",
       "      <td>admin.</td>\n",
       "      <td>married</td>\n",
       "      <td>university.degree</td>\n",
       "      <td>no</td>\n",
       "      <td>yes</td>\n",
       "      <td>no</td>\n",
       "      <td>999</td>\n",
       "      <td>0</td>\n",
       "      <td>nonexistent</td>\n",
       "      <td>-0.1</td>\n",
       "      <td>93.200</td>\n",
       "      <td>-42.0</td>\n",
       "      <td>4.191</td>\n",
       "      <td>5195.8</td>\n",
       "      <td>no</td>\n",
       "    </tr>\n",
       "  </tbody>\n",
       "</table>\n",
       "</div>"
      ],
      "text/plain": [
       "   age          job  marital          education default  housing     loan  \\\n",
       "0   30  blue-collar  married           basic.9y      no      yes       no   \n",
       "1   39     services   single        high.school      no       no       no   \n",
       "2   25     services  married        high.school      no      yes       no   \n",
       "3   38     services  married           basic.9y      no  unknown  unknown   \n",
       "4   47       admin.  married  university.degree      no      yes       no   \n",
       "\n",
       "   pdays  previous     poutcome  emp.var.rate  cons.price.idx  cons.conf.idx  \\\n",
       "0    999         0  nonexistent          -1.8          92.893          -46.2   \n",
       "1    999         0  nonexistent           1.1          93.994          -36.4   \n",
       "2    999         0  nonexistent           1.4          94.465          -41.8   \n",
       "3    999         0  nonexistent           1.4          94.465          -41.8   \n",
       "4    999         0  nonexistent          -0.1          93.200          -42.0   \n",
       "\n",
       "   euribor3m  nr.employed   y  \n",
       "0      1.313       5099.1  no  \n",
       "1      4.855       5191.0  no  \n",
       "2      4.962       5228.1  no  \n",
       "3      4.959       5228.1  no  \n",
       "4      4.191       5195.8  no  "
      ]
     },
     "execution_count": 4,
     "metadata": {},
     "output_type": "execute_result"
    }
   ],
   "source": [
    "bank.head()"
   ]
  },
  {
   "cell_type": "code",
   "execution_count": 5,
   "metadata": {},
   "outputs": [
    {
     "name": "stdout",
     "output_type": "stream",
     "text": [
      "<class 'pandas.core.frame.DataFrame'>\n",
      "RangeIndex: 4119 entries, 0 to 4118\n",
      "Data columns (total 16 columns):\n",
      " #   Column          Non-Null Count  Dtype  \n",
      "---  ------          --------------  -----  \n",
      " 0   age             4119 non-null   int64  \n",
      " 1   job             4119 non-null   object \n",
      " 2   marital         4119 non-null   object \n",
      " 3   education       4119 non-null   object \n",
      " 4   default         4119 non-null   object \n",
      " 5   housing         4119 non-null   object \n",
      " 6   loan            4119 non-null   object \n",
      " 7   pdays           4119 non-null   int64  \n",
      " 8   previous        4119 non-null   int64  \n",
      " 9   poutcome        4119 non-null   object \n",
      " 10  emp.var.rate    4119 non-null   float64\n",
      " 11  cons.price.idx  4119 non-null   float64\n",
      " 12  cons.conf.idx   4119 non-null   float64\n",
      " 13  euribor3m       4119 non-null   float64\n",
      " 14  nr.employed     4119 non-null   float64\n",
      " 15  y               4119 non-null   object \n",
      "dtypes: float64(5), int64(3), object(8)\n",
      "memory usage: 515.0+ KB\n"
     ]
    }
   ],
   "source": [
    "bank.info()"
   ]
  },
  {
   "cell_type": "code",
   "execution_count": 6,
   "metadata": {},
   "outputs": [
    {
     "data": {
      "text/plain": [
       "Index(['age', 'job', 'marital', 'education', 'default', 'housing', 'loan',\n",
       "       'pdays', 'previous', 'poutcome', 'emp.var.rate', 'cons.price.idx',\n",
       "       'cons.conf.idx', 'euribor3m', 'nr.employed', 'y'],\n",
       "      dtype='object')"
      ]
     },
     "execution_count": 6,
     "metadata": {},
     "output_type": "execute_result"
    }
   ],
   "source": [
    "bank.columns"
   ]
  },
  {
   "cell_type": "markdown",
   "metadata": {},
   "source": [
    " We can see there are 'unknown' and 'nonexistent' cell values for some features which can be treated as missing values to get better insight. We will figure out what to do with these missing values from our data exploration."
   ]
  },
  {
   "cell_type": "code",
   "execution_count": 7,
   "metadata": {},
   "outputs": [],
   "source": [
    "bank.replace(['unknown','nonexistent'], np.nan, inplace=True)"
   ]
  },
  {
   "cell_type": "code",
   "execution_count": 8,
   "metadata": {},
   "outputs": [
    {
     "data": {
      "text/plain": [
       "Index(['job', 'marital', 'education', 'default', 'housing', 'loan',\n",
       "       'poutcome'],\n",
       "      dtype='object')"
      ]
     },
     "execution_count": 8,
     "metadata": {},
     "output_type": "execute_result"
    }
   ],
   "source": [
    "bank.loc[:, bank.isnull().any()].columns"
   ]
  },
  {
   "cell_type": "code",
   "execution_count": 9,
   "metadata": {},
   "outputs": [
    {
     "data": {
      "text/plain": [
       "0.0721200534110221"
      ]
     },
     "execution_count": 9,
     "metadata": {},
     "output_type": "execute_result"
    }
   ],
   "source": [
    "bank.isnull().sum().sum() / (4119*16)"
   ]
  },
  {
   "cell_type": "markdown",
   "metadata": {},
   "source": [
    "7.212% of the dataset contains null values which fulfils our requirement for missing values. Now, we'll explore the data for categorical columns and numerical columns."
   ]
  },
  {
   "cell_type": "code",
   "execution_count": 10,
   "metadata": {},
   "outputs": [
    {
     "data": {
      "text/plain": [
       "<AxesSubplot:title={'center':'Job Type Counts'}>"
      ]
     },
     "execution_count": 10,
     "metadata": {},
     "output_type": "execute_result"
    },
    {
     "data": {
      "image/png": "[encoded data removed]",
      "text/plain": [
       "<Figure size 720x720 with 7 Axes>"
      ]
     },
     "metadata": {
      "needs_background": "light"
     },
     "output_type": "display_data"
    }
   ],
   "source": [
    "#Distribution of categorical features\n",
    "# Set the global default size of matplotlib figures\n",
    "plt.rc('figure', figsize=(10, 5))\n",
    "\n",
    "# Size of matplotlib figures that contain subplots\n",
    "fizsize_with_subplots = (10, 10)\n",
    "\n",
    "# Size of matplotlib histogram bins\n",
    "bin_size = 10\n",
    "\n",
    "fig = plt.figure(figsize=fizsize_with_subplots) \n",
    "fig_dims = (3, 3)\n",
    "\n",
    "# Plot Marital status\n",
    "plt.subplot2grid(fig_dims, (0, 0))\n",
    "bank['marital'].value_counts().plot(kind='bar', \n",
    "                                         title='Marital Status')\n",
    "\n",
    "# Plot Education counts\n",
    "plt.subplot2grid(fig_dims, (0, 1))\n",
    "bank['education'].value_counts().plot(kind='bar', \n",
    "                                       title='Education')\n",
    "\n",
    "# Plot Default counts\n",
    "plt.subplot2grid(fig_dims, (0, 2))\n",
    "bank['default'].value_counts().plot(kind='bar', \n",
    "                                    title='Default Counts')\n",
    "plt.xticks(rotation=0)\n",
    "\n",
    "# Plot Housing counts\n",
    "plt.subplot2grid(fig_dims, (1, 0))\n",
    "bank['housing'].value_counts().plot(kind='bar', \n",
    "                                         title='Housing Counts')\n",
    "\n",
    "# Plot Loan counts\n",
    "plt.subplot2grid(fig_dims, (1, 1))\n",
    "bank['loan'].value_counts().plot(kind='bar', \n",
    "                                         title='Loan Counts')\n",
    "\n",
    "# Plot poutcome counts\n",
    "plt.subplot2grid(fig_dims, (1, 2))\n",
    "bank['poutcome'].value_counts().plot(kind='bar', \n",
    "                                         title='poutcome')\n",
    "# Plot Job counts\n",
    "plt.subplot2grid(fig_dims, (2, 0))\n",
    "bank['job'].value_counts().plot(kind='bar', \n",
    "                                         title='Job Type Counts')\n"
   ]
  },
  {
   "cell_type": "markdown",
   "metadata": {},
   "source": [
    "Looking at the amount of missing values for job, education, marital, poutcome, housing, loan, default"
   ]
  },
  {
   "cell_type": "code",
   "execution_count": 11,
   "metadata": {},
   "outputs": [
    {
     "data": {
      "text/plain": [
       "admin.           1012\n",
       "blue-collar       884\n",
       "technician        691\n",
       "services          393\n",
       "management        324\n",
       "retired           166\n",
       "self-employed     159\n",
       "entrepreneur      148\n",
       "unemployed        111\n",
       "housemaid         110\n",
       "student            82\n",
       "NaN                39\n",
       "Name: job, dtype: int64"
      ]
     },
     "execution_count": 11,
     "metadata": {},
     "output_type": "execute_result"
    },
    {
     "data": {
      "image/png": "[encoded data removed]",
      "text/plain": [
       "<Figure size 720x360 with 1 Axes>"
      ]
     },
     "metadata": {
      "needs_background": "light"
     },
     "output_type": "display_data"
    }
   ],
   "source": [
    "pd.crosstab(bank['job'].fillna('missing'), bank['y']).plot(kind = 'bar')\n",
    "bank[\"job\"].value_counts(dropna = False)"
   ]
  },
  {
   "cell_type": "code",
   "execution_count": 12,
   "metadata": {},
   "outputs": [
    {
     "data": {
      "text/plain": [
       "university.degree      1264\n",
       "high.school             921\n",
       "basic.9y                574\n",
       "professional.course     535\n",
       "basic.4y                429\n",
       "basic.6y                228\n",
       "NaN                     167\n",
       "illiterate                1\n",
       "Name: education, dtype: int64"
      ]
     },
     "execution_count": 12,
     "metadata": {},
     "output_type": "execute_result"
    },
    {
     "data": {
      "image/png": "[encoded data removed]",
      "text/plain": [
       "<Figure size 720x360 with 1 Axes>"
      ]
     },
     "metadata": {
      "needs_background": "light"
     },
     "output_type": "display_data"
    }
   ],
   "source": [
    "pd.crosstab(bank['education'].fillna('missing'), bank['y']).plot(kind = 'bar')\n",
    "bank[\"education\"].value_counts(dropna = False)"
   ]
  },
  {
   "cell_type": "markdown",
   "metadata": {},
   "source": [
    "We will replace the missing values for job with the majority class which is the best option here while education is having significant amount of missing values so replace them with category 'unknown'."
   ]
  },
  {
   "cell_type": "code",
   "execution_count": 13,
   "metadata": {},
   "outputs": [],
   "source": [
    "#impute null job, education\n",
    "bank['job'].replace(np.nan, 'admin.', inplace = True)\n",
    "bank['education'].replace(np.nan, 'unknown', inplace = True)"
   ]
  },
  {
   "cell_type": "code",
   "execution_count": 14,
   "metadata": {},
   "outputs": [
    {
     "data": {
      "text/plain": [
       "married     2509\n",
       "single      1153\n",
       "divorced     446\n",
       "NaN           11\n",
       "Name: marital, dtype: int64"
      ]
     },
     "execution_count": 14,
     "metadata": {},
     "output_type": "execute_result"
    }
   ],
   "source": [
    "bank[\"marital\"].value_counts(dropna = False)"
   ]
  },
  {
   "cell_type": "markdown",
   "metadata": {},
   "source": [
    "We will replace the missing values in marital column with the majority class 'married'."
   ]
  },
  {
   "cell_type": "code",
   "execution_count": 15,
   "metadata": {},
   "outputs": [],
   "source": [
    "#impute null marital\n",
    "bank['marital'].replace(np.nan, 'married', inplace = True)"
   ]
  },
  {
   "cell_type": "code",
   "execution_count": 16,
   "metadata": {},
   "outputs": [
    {
     "data": {
      "text/plain": [
       "NaN        3523\n",
       "failure     454\n",
       "success     142\n",
       "Name: poutcome, dtype: int64"
      ]
     },
     "execution_count": 16,
     "metadata": {},
     "output_type": "execute_result"
    }
   ],
   "source": [
    "bank[\"poutcome\"].value_counts(dropna = False)"
   ]
  },
  {
   "cell_type": "markdown",
   "metadata": {},
   "source": [
    "\n",
    "\n",
    "\n",
    "\n",
    "\n",
    "Is poutcome related with pdays?"
   ]
  },
  {
   "cell_type": "code",
   "execution_count": 17,
   "metadata": {},
   "outputs": [
    {
     "data": {
      "text/html": [
       "<div>\n",
       "<style scoped>\n",
       "    .dataframe tbody tr th:only-of-type {\n",
       "        vertical-align: middle;\n",
       "    }\n",
       "\n",
       "    .dataframe tbody tr th {\n",
       "        vertical-align: top;\n",
       "    }\n",
       "\n",
       "    .dataframe thead th {\n",
       "        text-align: right;\n",
       "    }\n",
       "</style>\n",
       "<table border=\"1\" class=\"dataframe\">\n",
       "  <thead>\n",
       "    <tr style=\"text-align: right;\">\n",
       "      <th>pdays</th>\n",
       "      <th>0</th>\n",
       "      <th>1</th>\n",
       "      <th>2</th>\n",
       "      <th>3</th>\n",
       "      <th>4</th>\n",
       "      <th>5</th>\n",
       "      <th>6</th>\n",
       "      <th>7</th>\n",
       "      <th>9</th>\n",
       "      <th>10</th>\n",
       "      <th>...</th>\n",
       "      <th>12</th>\n",
       "      <th>13</th>\n",
       "      <th>14</th>\n",
       "      <th>15</th>\n",
       "      <th>16</th>\n",
       "      <th>17</th>\n",
       "      <th>18</th>\n",
       "      <th>19</th>\n",
       "      <th>21</th>\n",
       "      <th>999</th>\n",
       "    </tr>\n",
       "    <tr>\n",
       "      <th>poutcome</th>\n",
       "      <th></th>\n",
       "      <th></th>\n",
       "      <th></th>\n",
       "      <th></th>\n",
       "      <th></th>\n",
       "      <th></th>\n",
       "      <th></th>\n",
       "      <th></th>\n",
       "      <th></th>\n",
       "      <th></th>\n",
       "      <th></th>\n",
       "      <th></th>\n",
       "      <th></th>\n",
       "      <th></th>\n",
       "      <th></th>\n",
       "      <th></th>\n",
       "      <th></th>\n",
       "      <th></th>\n",
       "      <th></th>\n",
       "      <th></th>\n",
       "      <th></th>\n",
       "    </tr>\n",
       "  </thead>\n",
       "  <tbody>\n",
       "    <tr>\n",
       "      <th>failure</th>\n",
       "      <td>0</td>\n",
       "      <td>0</td>\n",
       "      <td>0</td>\n",
       "      <td>2</td>\n",
       "      <td>0</td>\n",
       "      <td>0</td>\n",
       "      <td>3</td>\n",
       "      <td>1</td>\n",
       "      <td>2</td>\n",
       "      <td>2</td>\n",
       "      <td>...</td>\n",
       "      <td>1</td>\n",
       "      <td>1</td>\n",
       "      <td>1</td>\n",
       "      <td>1</td>\n",
       "      <td>0</td>\n",
       "      <td>1</td>\n",
       "      <td>2</td>\n",
       "      <td>0</td>\n",
       "      <td>1</td>\n",
       "      <td>436</td>\n",
       "    </tr>\n",
       "    <tr>\n",
       "      <th>missing</th>\n",
       "      <td>0</td>\n",
       "      <td>0</td>\n",
       "      <td>0</td>\n",
       "      <td>0</td>\n",
       "      <td>0</td>\n",
       "      <td>0</td>\n",
       "      <td>0</td>\n",
       "      <td>0</td>\n",
       "      <td>0</td>\n",
       "      <td>0</td>\n",
       "      <td>...</td>\n",
       "      <td>0</td>\n",
       "      <td>0</td>\n",
       "      <td>0</td>\n",
       "      <td>0</td>\n",
       "      <td>0</td>\n",
       "      <td>0</td>\n",
       "      <td>0</td>\n",
       "      <td>0</td>\n",
       "      <td>0</td>\n",
       "      <td>3523</td>\n",
       "    </tr>\n",
       "    <tr>\n",
       "      <th>success</th>\n",
       "      <td>2</td>\n",
       "      <td>3</td>\n",
       "      <td>4</td>\n",
       "      <td>50</td>\n",
       "      <td>14</td>\n",
       "      <td>4</td>\n",
       "      <td>39</td>\n",
       "      <td>9</td>\n",
       "      <td>1</td>\n",
       "      <td>6</td>\n",
       "      <td>...</td>\n",
       "      <td>4</td>\n",
       "      <td>1</td>\n",
       "      <td>0</td>\n",
       "      <td>1</td>\n",
       "      <td>2</td>\n",
       "      <td>0</td>\n",
       "      <td>0</td>\n",
       "      <td>1</td>\n",
       "      <td>0</td>\n",
       "      <td>0</td>\n",
       "    </tr>\n",
       "  </tbody>\n",
       "</table>\n",
       "<p>3 rows × 21 columns</p>\n",
       "</div>"
      ],
      "text/plain": [
       "pdays     0    1    2    3    4    5    6    7    9    10   ...  12   13   \\\n",
       "poutcome                                                    ...             \n",
       "failure     0    0    0    2    0    0    3    1    2    2  ...    1    1   \n",
       "missing     0    0    0    0    0    0    0    0    0    0  ...    0    0   \n",
       "success     2    3    4   50   14    4   39    9    1    6  ...    4    1   \n",
       "\n",
       "pdays     14   15   16   17   18   19   21    999  \n",
       "poutcome                                           \n",
       "failure     1    1    0    1    2    0    1   436  \n",
       "missing     0    0    0    0    0    0    0  3523  \n",
       "success     0    1    2    0    0    1    0     0  \n",
       "\n",
       "[3 rows x 21 columns]"
      ]
     },
     "execution_count": 17,
     "metadata": {},
     "output_type": "execute_result"
    }
   ],
   "source": [
    "pd.crosstab(bank['poutcome'].fillna('missing'), bank['pdays'])"
   ]
  },
  {
   "cell_type": "code",
   "execution_count": 18,
   "metadata": {},
   "outputs": [
    {
     "data": {
      "text/plain": [
       "<AxesSubplot:xlabel='poutcome', ylabel='pdays'>"
      ]
     },
     "execution_count": 18,
     "metadata": {},
     "output_type": "execute_result"
    },
    {
     "data": {
      "image/png": "[encoded data removed]",
      "text/plain": [
       "<Figure size 720x360 with 1 Axes>"
      ]
     },
     "metadata": {
      "needs_background": "light"
     },
     "output_type": "display_data"
    }
   ],
   "source": [
    "sns.boxplot(x=\"poutcome\", y = \"pdays\", data = bank)"
   ]
  },
  {
   "cell_type": "markdown",
   "metadata": {},
   "source": [
    "We see that there are significant number of new clients, who have not been contacted in the previous campaign have null values for poutcome. Hence we will replace the missing values in poutcome back to the category 'nonexistent', as we do not know the outcome from the previous campaign for these clients."
   ]
  },
  {
   "cell_type": "code",
   "execution_count": 19,
   "metadata": {},
   "outputs": [],
   "source": [
    "#impute null poutcome\n",
    "bank['poutcome'].replace(np.nan, 'nonexistent', inplace = True)"
   ]
  },
  {
   "cell_type": "code",
   "execution_count": 20,
   "metadata": {},
   "outputs": [
    {
     "data": {
      "text/plain": [
       "yes    2175\n",
       "no     1839\n",
       "NaN     105\n",
       "Name: housing, dtype: int64"
      ]
     },
     "execution_count": 20,
     "metadata": {},
     "output_type": "execute_result"
    }
   ],
   "source": [
    "bank[\"housing\"].value_counts(dropna = False)"
   ]
  },
  {
   "cell_type": "code",
   "execution_count": 21,
   "metadata": {},
   "outputs": [
    {
     "data": {
      "text/plain": [
       "no     3349\n",
       "yes     665\n",
       "NaN     105\n",
       "Name: loan, dtype: int64"
      ]
     },
     "execution_count": 21,
     "metadata": {},
     "output_type": "execute_result"
    }
   ],
   "source": [
    "bank[\"loan\"].value_counts(dropna = False)"
   ]
  },
  {
   "cell_type": "code",
   "execution_count": 22,
   "metadata": {},
   "outputs": [
    {
     "data": {
      "text/plain": [
       "no     3315\n",
       "NaN     803\n",
       "yes       1\n",
       "Name: default, dtype: int64"
      ]
     },
     "execution_count": 22,
     "metadata": {},
     "output_type": "execute_result"
    }
   ],
   "source": [
    "bank[\"default\"].value_counts(dropna = False)"
   ]
  },
  {
   "cell_type": "markdown",
   "metadata": {},
   "source": [
    "For the above three columns related to housing loan, personal loan and credit default with bank, there are significant amount of null values. Imputing them with the majority class may make our data unbalanced and affect our classification. Hence it is better to keep them as 'unknown'."
   ]
  },
  {
   "cell_type": "code",
   "execution_count": 23,
   "metadata": {},
   "outputs": [],
   "source": [
    "#impute null loan, housing, default\n",
    "bank['loan'].replace(np.nan, 'unknown', inplace = True)\n",
    "bank['housing'].replace(np.nan, 'unknown', inplace = True)\n",
    "bank['default'].replace(np.nan, 'unknown', inplace = True)"
   ]
  },
  {
   "cell_type": "markdown",
   "metadata": {},
   "source": [
    "Now let us look at the numerical columns"
   ]
  },
  {
   "cell_type": "code",
   "execution_count": 24,
   "metadata": {},
   "outputs": [
    {
     "data": {
      "text/plain": [
       "Text(0.5, 1.0, 'nr.employed Histogram')"
      ]
     },
     "execution_count": 24,
     "metadata": {},
     "output_type": "execute_result"
    },
    {
     "data": {
      "image/png": "[encoded data removed]",
      "text/plain": [
       "<Figure size 720x720 with 8 Axes>"
      ]
     },
     "metadata": {
      "needs_background": "light"
     },
     "output_type": "display_data"
    }
   ],
   "source": [
    "#Distribution of numerical features\n",
    "# Set the global default size of matplotlib figures\n",
    "plt.rc('figure', figsize=(15, 10))\n",
    "\n",
    "# Size of matplotlib figures that contain subplots\n",
    "fizsize_with_subplots = (10, 10)\n",
    "\n",
    "# Size of matplotlib histogram bins\n",
    "bin_size = 10\n",
    "\n",
    "fig = plt.figure(figsize=fizsize_with_subplots) \n",
    "fig_dims = (4, 3)\n",
    "\n",
    "# Plot the Age histogram\n",
    "plt.subplot2grid(fig_dims, (0, 0))\n",
    "bank['age'].hist()\n",
    "plt.title('Age Histogram')\n",
    "\n",
    "# Plot the pdays histogram\n",
    "plt.subplot2grid(fig_dims, (0, 1))\n",
    "bank['pdays'].hist()\n",
    "plt.title('Pdays Histogram')\n",
    "\n",
    "# Plot the previous histogram\n",
    "plt.subplot2grid(fig_dims, (0, 2))\n",
    "bank['previous'].hist()\n",
    "plt.title('Previous Histogram')\n",
    "\n",
    "# Plot the emp.var.rate histogram\n",
    "plt.subplot2grid(fig_dims, (1, 0))\n",
    "bank['emp.var.rate'].hist()\n",
    "plt.title('emp.var.rate Histogram')\n",
    "\n",
    "# Plot the cons.price.idx histogram\n",
    "plt.subplot2grid(fig_dims, (1, 1))\n",
    "bank['cons.price.idx'].hist()\n",
    "plt.title('cons.price.idx Histogram')\n",
    "\n",
    "# Plot the cons.conf.idx histogram\n",
    "plt.subplot2grid(fig_dims, (1, 2))\n",
    "bank['cons.conf.idx'].hist()\n",
    "plt.title('cons.conf.idx Histogram')\n",
    "\n",
    "# Plot the euribor3m histogram\n",
    "plt.subplot2grid(fig_dims, (2, 0))\n",
    "bank['euribor3m'].hist()\n",
    "plt.title('euribor3m Histogram')\n",
    "\n",
    "# Plot the nr.employed histogram\n",
    "plt.subplot2grid(fig_dims, (2, 1))\n",
    "bank['nr.employed'].hist()\n",
    "plt.title('nr.employed Histogram')\n"
   ]
  },
  {
   "cell_type": "code",
   "execution_count": 25,
   "metadata": {},
   "outputs": [
    {
     "data": {
      "text/html": [
       "<div>\n",
       "<style scoped>\n",
       "    .dataframe tbody tr th:only-of-type {\n",
       "        vertical-align: middle;\n",
       "    }\n",
       "\n",
       "    .dataframe tbody tr th {\n",
       "        vertical-align: top;\n",
       "    }\n",
       "\n",
       "    .dataframe thead th {\n",
       "        text-align: right;\n",
       "    }\n",
       "</style>\n",
       "<table border=\"1\" class=\"dataframe\">\n",
       "  <thead>\n",
       "    <tr style=\"text-align: right;\">\n",
       "      <th></th>\n",
       "      <th>age</th>\n",
       "      <th>pdays</th>\n",
       "      <th>previous</th>\n",
       "      <th>emp.var.rate</th>\n",
       "      <th>cons.price.idx</th>\n",
       "      <th>cons.conf.idx</th>\n",
       "      <th>euribor3m</th>\n",
       "      <th>nr.employed</th>\n",
       "    </tr>\n",
       "  </thead>\n",
       "  <tbody>\n",
       "    <tr>\n",
       "      <th>count</th>\n",
       "      <td>4119.000000</td>\n",
       "      <td>4119.000000</td>\n",
       "      <td>4119.000000</td>\n",
       "      <td>4119.000000</td>\n",
       "      <td>4119.000000</td>\n",
       "      <td>4119.000000</td>\n",
       "      <td>4119.000000</td>\n",
       "      <td>4119.000000</td>\n",
       "    </tr>\n",
       "    <tr>\n",
       "      <th>mean</th>\n",
       "      <td>40.113620</td>\n",
       "      <td>960.422190</td>\n",
       "      <td>0.190337</td>\n",
       "      <td>0.084972</td>\n",
       "      <td>93.579704</td>\n",
       "      <td>-40.499102</td>\n",
       "      <td>3.621356</td>\n",
       "      <td>5166.481695</td>\n",
       "    </tr>\n",
       "    <tr>\n",
       "      <th>std</th>\n",
       "      <td>10.313362</td>\n",
       "      <td>191.922786</td>\n",
       "      <td>0.541788</td>\n",
       "      <td>1.563114</td>\n",
       "      <td>0.579349</td>\n",
       "      <td>4.594578</td>\n",
       "      <td>1.733591</td>\n",
       "      <td>73.667904</td>\n",
       "    </tr>\n",
       "    <tr>\n",
       "      <th>min</th>\n",
       "      <td>18.000000</td>\n",
       "      <td>0.000000</td>\n",
       "      <td>0.000000</td>\n",
       "      <td>-3.400000</td>\n",
       "      <td>92.201000</td>\n",
       "      <td>-50.800000</td>\n",
       "      <td>0.635000</td>\n",
       "      <td>4963.600000</td>\n",
       "    </tr>\n",
       "    <tr>\n",
       "      <th>25%</th>\n",
       "      <td>32.000000</td>\n",
       "      <td>999.000000</td>\n",
       "      <td>0.000000</td>\n",
       "      <td>-1.800000</td>\n",
       "      <td>93.075000</td>\n",
       "      <td>-42.700000</td>\n",
       "      <td>1.334000</td>\n",
       "      <td>5099.100000</td>\n",
       "    </tr>\n",
       "    <tr>\n",
       "      <th>50%</th>\n",
       "      <td>38.000000</td>\n",
       "      <td>999.000000</td>\n",
       "      <td>0.000000</td>\n",
       "      <td>1.100000</td>\n",
       "      <td>93.749000</td>\n",
       "      <td>-41.800000</td>\n",
       "      <td>4.857000</td>\n",
       "      <td>5191.000000</td>\n",
       "    </tr>\n",
       "    <tr>\n",
       "      <th>75%</th>\n",
       "      <td>47.000000</td>\n",
       "      <td>999.000000</td>\n",
       "      <td>0.000000</td>\n",
       "      <td>1.400000</td>\n",
       "      <td>93.994000</td>\n",
       "      <td>-36.400000</td>\n",
       "      <td>4.961000</td>\n",
       "      <td>5228.100000</td>\n",
       "    </tr>\n",
       "    <tr>\n",
       "      <th>max</th>\n",
       "      <td>88.000000</td>\n",
       "      <td>999.000000</td>\n",
       "      <td>6.000000</td>\n",
       "      <td>1.400000</td>\n",
       "      <td>94.767000</td>\n",
       "      <td>-26.900000</td>\n",
       "      <td>5.045000</td>\n",
       "      <td>5228.100000</td>\n",
       "    </tr>\n",
       "  </tbody>\n",
       "</table>\n",
       "</div>"
      ],
      "text/plain": [
       "               age        pdays     previous  emp.var.rate  cons.price.idx  \\\n",
       "count  4119.000000  4119.000000  4119.000000   4119.000000     4119.000000   \n",
       "mean     40.113620   960.422190     0.190337      0.084972       93.579704   \n",
       "std      10.313362   191.922786     0.541788      1.563114        0.579349   \n",
       "min      18.000000     0.000000     0.000000     -3.400000       92.201000   \n",
       "25%      32.000000   999.000000     0.000000     -1.800000       93.075000   \n",
       "50%      38.000000   999.000000     0.000000      1.100000       93.749000   \n",
       "75%      47.000000   999.000000     0.000000      1.400000       93.994000   \n",
       "max      88.000000   999.000000     6.000000      1.400000       94.767000   \n",
       "\n",
       "       cons.conf.idx    euribor3m  nr.employed  \n",
       "count    4119.000000  4119.000000  4119.000000  \n",
       "mean      -40.499102     3.621356  5166.481695  \n",
       "std         4.594578     1.733591    73.667904  \n",
       "min       -50.800000     0.635000  4963.600000  \n",
       "25%       -42.700000     1.334000  5099.100000  \n",
       "50%       -41.800000     4.857000  5191.000000  \n",
       "75%       -36.400000     4.961000  5228.100000  \n",
       "max       -26.900000     5.045000  5228.100000  "
      ]
     },
     "execution_count": 25,
     "metadata": {},
     "output_type": "execute_result"
    }
   ],
   "source": [
    "bank.describe()"
   ]
  },
  {
   "cell_type": "markdown",
   "metadata": {},
   "source": [
    "It appears that pdays and duration have outliers, let us examine them."
   ]
  },
  {
   "cell_type": "code",
   "execution_count": 26,
   "metadata": {},
   "outputs": [
    {
     "data": {
      "text/plain": [
       "array([999,  12,   3,   6,   5,   2,  10,  11,   7,   1,  18,   4,  15,\n",
       "         0,  16,   9,  19,  17,  13,  21,  14], dtype=int64)"
      ]
     },
     "execution_count": 26,
     "metadata": {},
     "output_type": "execute_result"
    }
   ],
   "source": [
    "bank['pdays'].unique()"
   ]
  },
  {
   "cell_type": "code",
   "execution_count": 27,
   "metadata": {},
   "outputs": [
    {
     "data": {
      "text/plain": [
       "<AxesSubplot:xlabel='pdays'>"
      ]
     },
     "execution_count": 27,
     "metadata": {},
     "output_type": "execute_result"
    },
    {
     "data": {
      "image/png": "[encoded data removed]",
      "text/plain": [
       "<Figure size 1080x720 with 1 Axes>"
      ]
     },
     "metadata": {
      "needs_background": "light"
     },
     "output_type": "display_data"
    }
   ],
   "source": [
    "pd.crosstab(bank['pdays'], bank['y']).plot(kind = 'bar')"
   ]
  },
  {
   "cell_type": "markdown",
   "metadata": {},
   "source": [
    "The value 999 for pdays indicates that the client is new and no contact has been made with them before. We will use binary mapping to map 999 to value 0 and all other values from 0 to 21 to 1. We are combining all other values except 999 to make their impact more balanced as compared to the majority of 999. This is done in the pre-processing steps."
   ]
  },
  {
   "cell_type": "code",
   "execution_count": 28,
   "metadata": {},
   "outputs": [
    {
     "data": {
      "text/plain": [
       "<AxesSubplot:xlabel='y', ylabel='previous'>"
      ]
     },
     "execution_count": 28,
     "metadata": {},
     "output_type": "execute_result"
    },
    {
     "data": {
      "image/png": "[encoded data removed]",
      "text/plain": [
       "<Figure size 576x576 with 1 Axes>"
      ]
     },
     "metadata": {
      "needs_background": "light"
     },
     "output_type": "display_data"
    }
   ],
   "source": [
    "plt.figure(figsize=(8,8))\n",
    "sns.boxplot(x=\"y\", y = \"previous\", data = bank)"
   ]
  },
  {
   "cell_type": "markdown",
   "metadata": {},
   "source": [
    "Remove outliers from previous"
   ]
  },
  {
   "cell_type": "code",
   "execution_count": 29,
   "metadata": {},
   "outputs": [
    {
     "name": "stdout",
     "output_type": "stream",
     "text": [
      "0.0\n",
      "1.0\n"
     ]
    }
   ],
   "source": [
    "print(bank['previous'].quantile(0.05))\n",
    "print(bank['previous'].quantile(0.95))"
   ]
  },
  {
   "cell_type": "code",
   "execution_count": 30,
   "metadata": {},
   "outputs": [],
   "source": [
    "bank['previous'] = np.where(bank['previous'] >2, 2, bank['previous'])"
   ]
  },
  {
   "cell_type": "code",
   "execution_count": 31,
   "metadata": {},
   "outputs": [
    {
     "data": {
      "text/plain": [
       "<AxesSubplot:xlabel='y', ylabel='previous'>"
      ]
     },
     "execution_count": 31,
     "metadata": {},
     "output_type": "execute_result"
    },
    {
     "data": {
      "image/png": "[encoded data removed]",
      "text/plain": [
       "<Figure size 576x576 with 1 Axes>"
      ]
     },
     "metadata": {
      "needs_background": "light"
     },
     "output_type": "display_data"
    }
   ],
   "source": [
    "plt.figure(figsize=(8,8))\n",
    "sns.boxplot(x=\"y\", y = \"previous\", data = bank)"
   ]
  },
  {
   "cell_type": "code",
   "execution_count": 32,
   "metadata": {},
   "outputs": [
    {
     "data": {
      "text/plain": [
       "<AxesSubplot:xlabel='y', ylabel='age'>"
      ]
     },
     "execution_count": 32,
     "metadata": {},
     "output_type": "execute_result"
    },
    {
     "data": {
      "image/png": "[encoded data removed]",
      "text/plain": [
       "<Figure size 576x576 with 1 Axes>"
      ]
     },
     "metadata": {
      "needs_background": "light"
     },
     "output_type": "display_data"
    }
   ],
   "source": [
    "plt.figure(figsize=(8,8))\n",
    "sns.boxplot(x=\"y\", y = \"age\", data = bank)"
   ]
  },
  {
   "cell_type": "markdown",
   "metadata": {},
   "source": [
    "Check correlation between features with heatmap"
   ]
  },
  {
   "cell_type": "code",
   "execution_count": 33,
   "metadata": {},
   "outputs": [
    {
     "data": {
      "image/png": "[encoded data removed]",
      "text/plain": [
       "<Figure size 576x576 with 2 Axes>"
      ]
     },
     "metadata": {
      "needs_background": "light"
     },
     "output_type": "display_data"
    }
   ],
   "source": [
    "corrMatrix = bank.corr()\n",
    "plt.figure(figsize=(8,8))\n",
    "sns.heatmap(corrMatrix, annot=True)\n",
    "plt.show()"
   ]
  },
  {
   "cell_type": "markdown",
   "metadata": {},
   "source": [
    "We see that the economic variables euribor3m and nr.employed (no. of employees quaterly indicator) are highly correlated with emp.var.rate (employee variation rate quaterly indicator) as they should be. From the box plot of emp.var.rate we can see that it would not be much helpful for classification of y. We can drop emp.var.rate."
   ]
  },
  {
   "cell_type": "code",
   "execution_count": 34,
   "metadata": {},
   "outputs": [
    {
     "data": {
      "text/plain": [
       "<AxesSubplot:xlabel='y', ylabel='emp.var.rate'>"
      ]
     },
     "execution_count": 34,
     "metadata": {},
     "output_type": "execute_result"
    },
    {
     "data": {
      "image/png": "[encoded data removed]",
      "text/plain": [
       "<Figure size 576x576 with 1 Axes>"
      ]
     },
     "metadata": {
      "needs_background": "light"
     },
     "output_type": "display_data"
    }
   ],
   "source": [
    "plt.figure(figsize=(8,8))\n",
    "sns.boxplot(x=\"y\", y = \"emp.var.rate\", data = bank)"
   ]
  },
  {
   "cell_type": "code",
   "execution_count": 35,
   "metadata": {},
   "outputs": [],
   "source": [
    "bank.drop(['emp.var.rate'], axis=1, inplace=True)"
   ]
  },
  {
   "cell_type": "code",
   "execution_count": 36,
   "metadata": {},
   "outputs": [
    {
     "data": {
      "image/png": "[encoded data removed]",
      "text/plain": [
       "<Figure size 576x576 with 2 Axes>"
      ]
     },
     "metadata": {
      "needs_background": "light"
     },
     "output_type": "display_data"
    }
   ],
   "source": [
    "corrMatrix = bank.corr()\n",
    "plt.figure(figsize=(8,8))\n",
    "sns.heatmap(corrMatrix, annot=True)\n",
    "plt.show()"
   ]
  },
  {
   "cell_type": "markdown",
   "metadata": {},
   "source": [
    "#### Target variable y"
   ]
  },
  {
   "cell_type": "code",
   "execution_count": 37,
   "metadata": {},
   "outputs": [
    {
     "data": {
      "text/plain": [
       "<AxesSubplot:title={'center':'y value counts'}>"
      ]
     },
     "execution_count": 37,
     "metadata": {},
     "output_type": "execute_result"
    },
    {
     "data": {
      "image/png": "[encoded data removed]",
      "text/plain": [
       "<Figure size 1080x720 with 1 Axes>"
      ]
     },
     "metadata": {
      "needs_background": "light"
     },
     "output_type": "display_data"
    }
   ],
   "source": [
    "value_counts = bank['y'].value_counts()\n",
    "\n",
    "value_counts.plot.bar(title = 'y value counts')"
   ]
  },
  {
   "cell_type": "markdown",
   "metadata": {},
   "source": [
    "The distribution of the target variable shows that our dataset is highly imbalanced, so we cannot use accuracy as a reliable measure for finding the best model. We will use evaluation measures like confusion matrix, precision, recall, f1-score, roc_auc score and roc curve to evaluate our classification models. Let us proceed with pre-processing and model building."
   ]
  },
  {
   "cell_type": "markdown",
   "metadata": {},
   "source": [
    "## Data Pre-processing"
   ]
  },
  {
   "cell_type": "code",
   "execution_count": 38,
   "metadata": {
    "scrolled": false
   },
   "outputs": [
    {
     "name": "stdout",
     "output_type": "stream",
     "text": [
      "<class 'pandas.core.frame.DataFrame'>\n",
      "RangeIndex: 4119 entries, 0 to 4118\n",
      "Data columns (total 15 columns):\n",
      " #   Column          Non-Null Count  Dtype  \n",
      "---  ------          --------------  -----  \n",
      " 0   age             4119 non-null   int64  \n",
      " 1   job             4119 non-null   object \n",
      " 2   marital         4119 non-null   object \n",
      " 3   education       4119 non-null   object \n",
      " 4   default         4119 non-null   object \n",
      " 5   housing         4119 non-null   object \n",
      " 6   loan            4119 non-null   object \n",
      " 7   pdays           4119 non-null   int64  \n",
      " 8   previous        4119 non-null   int64  \n",
      " 9   poutcome        4119 non-null   object \n",
      " 10  cons.price.idx  4119 non-null   float64\n",
      " 11  cons.conf.idx   4119 non-null   float64\n",
      " 12  euribor3m       4119 non-null   float64\n",
      " 13  nr.employed     4119 non-null   float64\n",
      " 14  y               4119 non-null   object \n",
      "dtypes: float64(4), int64(3), object(8)\n",
      "memory usage: 482.8+ KB\n"
     ]
    }
   ],
   "source": [
    "bank.info()"
   ]
  },
  {
   "cell_type": "markdown",
   "metadata": {},
   "source": [
    "We will use one-hot or dummy encoding for features job, marital, default, housing, loan, poutcome and mapping for pdays and target y."
   ]
  },
  {
   "cell_type": "code",
   "execution_count": 39,
   "metadata": {},
   "outputs": [],
   "source": [
    "for column in ['job', 'education', 'marital', 'default', 'housing', 'loan', 'poutcome']:\n",
    "    dummies = pd.get_dummies(bank[column], prefix = column)\n",
    "    bank[dummies.columns] = dummies\n",
    "    bank.drop(column, axis = 1, inplace = True)"
   ]
  },
  {
   "cell_type": "code",
   "execution_count": 40,
   "metadata": {},
   "outputs": [],
   "source": [
    "# Binary map if called or not\n",
    "bank[\"pdays\"] = bank[\"pdays\"].map({999: 0, 0: 1, 1: 1, 2: 1, 3: 1, 4: 1, 5: 1, 6: 1, 7: 1, 8: 1, 9: 1, 10: 1, 11: 1, 12: 1,\n",
    "                                     13: 1, 14: 1, 15: 1, 16: 1, 17: 1, 18: 1, 19: 1, 20: 1, 21: 1, 22: 1,\n",
    "                                  25: 1, 26: 1, 27:1}).astype(int)"
   ]
  },
  {
   "cell_type": "code",
   "execution_count": 41,
   "metadata": {},
   "outputs": [],
   "source": [
    "bank['y'] = bank['y'].map({'no':0, 'yes':1}).astype(int)"
   ]
  },
  {
   "cell_type": "code",
   "execution_count": 42,
   "metadata": {},
   "outputs": [
    {
     "name": "stdout",
     "output_type": "stream",
     "text": [
      "<class 'pandas.core.frame.DataFrame'>\n",
      "RangeIndex: 4119 entries, 0 to 4118\n",
      "Data columns (total 42 columns):\n",
      " #   Column                         Non-Null Count  Dtype  \n",
      "---  ------                         --------------  -----  \n",
      " 0   age                            4119 non-null   int64  \n",
      " 1   pdays                          4119 non-null   int32  \n",
      " 2   previous                       4119 non-null   int64  \n",
      " 3   cons.price.idx                 4119 non-null   float64\n",
      " 4   cons.conf.idx                  4119 non-null   float64\n",
      " 5   euribor3m                      4119 non-null   float64\n",
      " 6   nr.employed                    4119 non-null   float64\n",
      " 7   y                              4119 non-null   int32  \n",
      " 8   job_admin.                     4119 non-null   uint8  \n",
      " 9   job_blue-collar                4119 non-null   uint8  \n",
      " 10  job_entrepreneur               4119 non-null   uint8  \n",
      " 11  job_housemaid                  4119 non-null   uint8  \n",
      " 12  job_management                 4119 non-null   uint8  \n",
      " 13  job_retired                    4119 non-null   uint8  \n",
      " 14  job_self-employed              4119 non-null   uint8  \n",
      " 15  job_services                   4119 non-null   uint8  \n",
      " 16  job_student                    4119 non-null   uint8  \n",
      " 17  job_technician                 4119 non-null   uint8  \n",
      " 18  job_unemployed                 4119 non-null   uint8  \n",
      " 19  education_basic.4y             4119 non-null   uint8  \n",
      " 20  education_basic.6y             4119 non-null   uint8  \n",
      " 21  education_basic.9y             4119 non-null   uint8  \n",
      " 22  education_high.school          4119 non-null   uint8  \n",
      " 23  education_illiterate           4119 non-null   uint8  \n",
      " 24  education_professional.course  4119 non-null   uint8  \n",
      " 25  education_university.degree    4119 non-null   uint8  \n",
      " 26  education_unknown              4119 non-null   uint8  \n",
      " 27  marital_divorced               4119 non-null   uint8  \n",
      " 28  marital_married                4119 non-null   uint8  \n",
      " 29  marital_single                 4119 non-null   uint8  \n",
      " 30  default_no                     4119 non-null   uint8  \n",
      " 31  default_unknown                4119 non-null   uint8  \n",
      " 32  default_yes                    4119 non-null   uint8  \n",
      " 33  housing_no                     4119 non-null   uint8  \n",
      " 34  housing_unknown                4119 non-null   uint8  \n",
      " 35  housing_yes                    4119 non-null   uint8  \n",
      " 36  loan_no                        4119 non-null   uint8  \n",
      " 37  loan_unknown                   4119 non-null   uint8  \n",
      " 38  loan_yes                       4119 non-null   uint8  \n",
      " 39  poutcome_failure               4119 non-null   uint8  \n",
      " 40  poutcome_nonexistent           4119 non-null   uint8  \n",
      " 41  poutcome_success               4119 non-null   uint8  \n",
      "dtypes: float64(4), int32(2), int64(2), uint8(34)\n",
      "memory usage: 362.1 KB\n"
     ]
    }
   ],
   "source": [
    "bank.info()"
   ]
  },
  {
   "cell_type": "code",
   "execution_count": 43,
   "metadata": {},
   "outputs": [
    {
     "data": {
      "text/html": [
       "<div>\n",
       "<style scoped>\n",
       "    .dataframe tbody tr th:only-of-type {\n",
       "        vertical-align: middle;\n",
       "    }\n",
       "\n",
       "    .dataframe tbody tr th {\n",
       "        vertical-align: top;\n",
       "    }\n",
       "\n",
       "    .dataframe thead th {\n",
       "        text-align: right;\n",
       "    }\n",
       "</style>\n",
       "<table border=\"1\" class=\"dataframe\">\n",
       "  <thead>\n",
       "    <tr style=\"text-align: right;\">\n",
       "      <th></th>\n",
       "      <th>age</th>\n",
       "      <th>pdays</th>\n",
       "      <th>previous</th>\n",
       "      <th>cons.price.idx</th>\n",
       "      <th>cons.conf.idx</th>\n",
       "      <th>euribor3m</th>\n",
       "      <th>nr.employed</th>\n",
       "      <th>y</th>\n",
       "      <th>job_admin.</th>\n",
       "      <th>job_blue-collar</th>\n",
       "      <th>...</th>\n",
       "      <th>default_yes</th>\n",
       "      <th>housing_no</th>\n",
       "      <th>housing_unknown</th>\n",
       "      <th>housing_yes</th>\n",
       "      <th>loan_no</th>\n",
       "      <th>loan_unknown</th>\n",
       "      <th>loan_yes</th>\n",
       "      <th>poutcome_failure</th>\n",
       "      <th>poutcome_nonexistent</th>\n",
       "      <th>poutcome_success</th>\n",
       "    </tr>\n",
       "  </thead>\n",
       "  <tbody>\n",
       "    <tr>\n",
       "      <th>0</th>\n",
       "      <td>30</td>\n",
       "      <td>0</td>\n",
       "      <td>0</td>\n",
       "      <td>92.893</td>\n",
       "      <td>-46.2</td>\n",
       "      <td>1.313</td>\n",
       "      <td>5099.1</td>\n",
       "      <td>0</td>\n",
       "      <td>0</td>\n",
       "      <td>1</td>\n",
       "      <td>...</td>\n",
       "      <td>0</td>\n",
       "      <td>0</td>\n",
       "      <td>0</td>\n",
       "      <td>1</td>\n",
       "      <td>1</td>\n",
       "      <td>0</td>\n",
       "      <td>0</td>\n",
       "      <td>0</td>\n",
       "      <td>1</td>\n",
       "      <td>0</td>\n",
       "    </tr>\n",
       "    <tr>\n",
       "      <th>1</th>\n",
       "      <td>39</td>\n",
       "      <td>0</td>\n",
       "      <td>0</td>\n",
       "      <td>93.994</td>\n",
       "      <td>-36.4</td>\n",
       "      <td>4.855</td>\n",
       "      <td>5191.0</td>\n",
       "      <td>0</td>\n",
       "      <td>0</td>\n",
       "      <td>0</td>\n",
       "      <td>...</td>\n",
       "      <td>0</td>\n",
       "      <td>1</td>\n",
       "      <td>0</td>\n",
       "      <td>0</td>\n",
       "      <td>1</td>\n",
       "      <td>0</td>\n",
       "      <td>0</td>\n",
       "      <td>0</td>\n",
       "      <td>1</td>\n",
       "      <td>0</td>\n",
       "    </tr>\n",
       "    <tr>\n",
       "      <th>2</th>\n",
       "      <td>25</td>\n",
       "      <td>0</td>\n",
       "      <td>0</td>\n",
       "      <td>94.465</td>\n",
       "      <td>-41.8</td>\n",
       "      <td>4.962</td>\n",
       "      <td>5228.1</td>\n",
       "      <td>0</td>\n",
       "      <td>0</td>\n",
       "      <td>0</td>\n",
       "      <td>...</td>\n",
       "      <td>0</td>\n",
       "      <td>0</td>\n",
       "      <td>0</td>\n",
       "      <td>1</td>\n",
       "      <td>1</td>\n",
       "      <td>0</td>\n",
       "      <td>0</td>\n",
       "      <td>0</td>\n",
       "      <td>1</td>\n",
       "      <td>0</td>\n",
       "    </tr>\n",
       "    <tr>\n",
       "      <th>3</th>\n",
       "      <td>38</td>\n",
       "      <td>0</td>\n",
       "      <td>0</td>\n",
       "      <td>94.465</td>\n",
       "      <td>-41.8</td>\n",
       "      <td>4.959</td>\n",
       "      <td>5228.1</td>\n",
       "      <td>0</td>\n",
       "      <td>0</td>\n",
       "      <td>0</td>\n",
       "      <td>...</td>\n",
       "      <td>0</td>\n",
       "      <td>0</td>\n",
       "      <td>1</td>\n",
       "      <td>0</td>\n",
       "      <td>0</td>\n",
       "      <td>1</td>\n",
       "      <td>0</td>\n",
       "      <td>0</td>\n",
       "      <td>1</td>\n",
       "      <td>0</td>\n",
       "    </tr>\n",
       "    <tr>\n",
       "      <th>4</th>\n",
       "      <td>47</td>\n",
       "      <td>0</td>\n",
       "      <td>0</td>\n",
       "      <td>93.200</td>\n",
       "      <td>-42.0</td>\n",
       "      <td>4.191</td>\n",
       "      <td>5195.8</td>\n",
       "      <td>0</td>\n",
       "      <td>1</td>\n",
       "      <td>0</td>\n",
       "      <td>...</td>\n",
       "      <td>0</td>\n",
       "      <td>0</td>\n",
       "      <td>0</td>\n",
       "      <td>1</td>\n",
       "      <td>1</td>\n",
       "      <td>0</td>\n",
       "      <td>0</td>\n",
       "      <td>0</td>\n",
       "      <td>1</td>\n",
       "      <td>0</td>\n",
       "    </tr>\n",
       "  </tbody>\n",
       "</table>\n",
       "<p>5 rows × 42 columns</p>\n",
       "</div>"
      ],
      "text/plain": [
       "   age  pdays  previous  cons.price.idx  cons.conf.idx  euribor3m  \\\n",
       "0   30      0         0          92.893          -46.2      1.313   \n",
       "1   39      0         0          93.994          -36.4      4.855   \n",
       "2   25      0         0          94.465          -41.8      4.962   \n",
       "3   38      0         0          94.465          -41.8      4.959   \n",
       "4   47      0         0          93.200          -42.0      4.191   \n",
       "\n",
       "   nr.employed  y  job_admin.  job_blue-collar  ...  default_yes  housing_no  \\\n",
       "0       5099.1  0           0                1  ...            0           0   \n",
       "1       5191.0  0           0                0  ...            0           1   \n",
       "2       5228.1  0           0                0  ...            0           0   \n",
       "3       5228.1  0           0                0  ...            0           0   \n",
       "4       5195.8  0           1                0  ...            0           0   \n",
       "\n",
       "   housing_unknown  housing_yes  loan_no  loan_unknown  loan_yes  \\\n",
       "0                0            1        1             0         0   \n",
       "1                0            0        1             0         0   \n",
       "2                0            1        1             0         0   \n",
       "3                1            0        0             1         0   \n",
       "4                0            1        1             0         0   \n",
       "\n",
       "   poutcome_failure  poutcome_nonexistent  poutcome_success  \n",
       "0                 0                     1                 0  \n",
       "1                 0                     1                 0  \n",
       "2                 0                     1                 0  \n",
       "3                 0                     1                 0  \n",
       "4                 0                     1                 0  \n",
       "\n",
       "[5 rows x 42 columns]"
      ]
     },
     "execution_count": 43,
     "metadata": {},
     "output_type": "execute_result"
    }
   ],
   "source": [
    "bank.head()"
   ]
  },
  {
   "cell_type": "code",
   "execution_count": 44,
   "metadata": {},
   "outputs": [],
   "source": [
    "X = bank.drop('y', axis = 1)\n",
    "y = bank['y']"
   ]
  },
  {
   "cell_type": "markdown",
   "metadata": {},
   "source": [
    "# Spliting and Scaling"
   ]
  },
  {
   "cell_type": "code",
   "execution_count": 45,
   "metadata": {},
   "outputs": [],
   "source": [
    "from sklearn.metrics import roc_curve\n",
    "from sklearn.metrics import roc_auc_score\n",
    "from sklearn.metrics import confusion_matrix, accuracy_score, f1_score, precision_score, recall_score\n",
    "from sklearn.metrics import auc\n",
    "from sklearn.metrics import classification_report\n",
    "from sklearn.metrics import precision_recall_curve\n",
    "from sklearn.model_selection import GridSearchCV"
   ]
  },
  {
   "cell_type": "code",
   "execution_count": 46,
   "metadata": {},
   "outputs": [],
   "source": [
    "from sklearn.metrics import classification_report\n",
    "from sklearn.neighbors import KNeighborsClassifier\n",
    "from sklearn.linear_model import LogisticRegression\n",
    "from sklearn.svm import SVC, LinearSVC\n",
    "from sklearn.tree import DecisionTreeClassifier"
   ]
  },
  {
   "cell_type": "code",
   "execution_count": 47,
   "metadata": {},
   "outputs": [],
   "source": [
    "from sklearn.model_selection import train_test_split\n",
    "X_train_org, X_test_org, y_train, y_test = train_test_split(X,y, random_state = 0)"
   ]
  },
  {
   "cell_type": "code",
   "execution_count": 48,
   "metadata": {},
   "outputs": [
    {
     "name": "stdout",
     "output_type": "stream",
     "text": [
      "Size of training set: 3089  size of test set: 1030\n",
      "\n"
     ]
    }
   ],
   "source": [
    "print(\"Size of training set: {}  size of test set:\"\n",
    "      \" {}\\n\".format(X_train_org.shape[0],X_test_org.shape[0]))"
   ]
  },
  {
   "cell_type": "code",
   "execution_count": 49,
   "metadata": {},
   "outputs": [
    {
     "name": "stdout",
     "output_type": "stream",
     "text": [
      "Checking the balance status of y train data set\n",
      " 0    2739\n",
      "1     350\n",
      "Name: y, dtype: int64\n"
     ]
    }
   ],
   "source": [
    "print(\"Checking the balance status of y train data set\\n\",y_train.value_counts())"
   ]
  },
  {
   "cell_type": "markdown",
   "metadata": {},
   "source": [
    "#### As we have highly unbalanced dataset, we will be using synthetic over-sampling method for positive class to make the train dataset balanced and use it to train our models for classification accuracy. We will be using Adaptive Synthetic Sampling (ADASYN) available in imblearn."
   ]
  },
  {
   "cell_type": "code",
   "execution_count": 50,
   "metadata": {},
   "outputs": [
    {
     "name": "stdout",
     "output_type": "stream",
     "text": [
      "(5575, 41)\n",
      "(5575,)\n"
     ]
    }
   ],
   "source": [
    "X_res, y_train = ADASYN(random_state = 42).fit_resample(X_train_org, y_train)\n",
    "\n",
    "print(X_res.shape)\n",
    "print(y_train.shape)"
   ]
  },
  {
   "cell_type": "markdown",
   "metadata": {},
   "source": [
    "We will use min-max scaler as we have removed the outliers from our data and the distribution of features is not following normal distribution."
   ]
  },
  {
   "cell_type": "code",
   "execution_count": 51,
   "metadata": {},
   "outputs": [],
   "source": [
    "from sklearn.preprocessing import MinMaxScaler\n",
    "scaler = MinMaxScaler()\n",
    "X_train = pd.DataFrame(scaler.fit_transform(X_res))\n",
    "X_test = pd.DataFrame(scaler.transform(X_test_org))"
   ]
  },
  {
   "cell_type": "code",
   "execution_count": 52,
   "metadata": {
    "scrolled": true
   },
   "outputs": [
    {
     "name": "stdout",
     "output_type": "stream",
     "text": [
      "Checking the balance status of y train data set\n",
      " 1    2836\n",
      "0    2739\n",
      "Name: y, dtype: int64\n"
     ]
    }
   ],
   "source": [
    "print(\"Checking the balance status of y train data set\\n\",y_train.value_counts())"
   ]
  },
  {
   "cell_type": "code",
   "execution_count": 53,
   "metadata": {},
   "outputs": [
    {
     "name": "stdout",
     "output_type": "stream",
     "text": [
      "(5575, 41)\n",
      "(5575,)\n",
      "(1030, 41)\n",
      "(1030,)\n"
     ]
    }
   ],
   "source": [
    "print(X_train.shape)\n",
    "print(y_train.shape)\n",
    "print(X_test.shape)\n",
    "print(y_test.shape)"
   ]
  },
  {
   "cell_type": "markdown",
   "metadata": {},
   "source": [
    "# Project 1"
   ]
  },
  {
   "cell_type": "markdown",
   "metadata": {},
   "source": [
    "# Model Building\n",
    "We will use grid search with cross-validation for all of our models."
   ]
  },
  {
   "cell_type": "markdown",
   "metadata": {},
   "source": [
    "## kNN classifier"
   ]
  },
  {
   "cell_type": "code",
   "execution_count": 54,
   "metadata": {},
   "outputs": [
    {
     "name": "stdout",
     "output_type": "stream",
     "text": [
      "Best parameters: {'algorithm': 'auto', 'leaf_size': 5, 'n_neighbors': 10}\n",
      "Best cross-validation score: 0.96\n"
     ]
    }
   ],
   "source": [
    "knn = KNeighborsClassifier()\n",
    "\n",
    "knn_param_grid = {'n_neighbors':[1,2,3,5,7,10,15,25],\n",
    "              'leaf_size':[1,3,5,7],\n",
    "              'algorithm':['auto']}\n",
    "\n",
    "#Fit the model 5-fold cross validation\n",
    "KNN_grid = GridSearchCV(knn, knn_param_grid, cv=5, scoring = 'roc_auc', n_jobs=-1)\n",
    "knn=KNN_grid.fit(X_train, y_train)\n",
    "print(\"Best parameters: {}\".format(knn.best_params_))\n",
    "print(\"Best cross-validation score: {:.2f}\".format(knn.best_score_))"
   ]
  },
  {
   "cell_type": "code",
   "execution_count": 55,
   "metadata": {},
   "outputs": [
    {
     "name": "stdout",
     "output_type": "stream",
     "text": [
      "        Model  Accuracy  Precision    Recall  F1 Score   ROC_AUC\n",
      "0  KNN_GridCV  0.852427   0.247525  0.247525  0.247525  0.582858\n"
     ]
    }
   ],
   "source": [
    "y_pred = knn.predict(X_test)\n",
    "\n",
    "acc = accuracy_score(y_test, y_pred)\n",
    "prec = precision_score(y_test, y_pred, pos_label=1)\n",
    "rec = recall_score(y_test, y_pred, pos_label=1)\n",
    "f1 = f1_score(y_test, y_pred, pos_label=1)\n",
    "roc_auc = roc_auc_score(y_test, y_pred)\n",
    "\n",
    "model_results_knn = pd.DataFrame([['KNN_GridCV', acc, prec, rec, f1, roc_auc]],\n",
    "               columns = ['Model', 'Accuracy', 'Precision', 'Recall', 'F1 Score', 'ROC_AUC'])\n",
    "\n",
    "print(model_results_knn)\n",
    "results=model_results_knn"
   ]
  },
  {
   "cell_type": "code",
   "execution_count": 56,
   "metadata": {},
   "outputs": [
    {
     "name": "stdout",
     "output_type": "stream",
     "text": [
      "Confusion matrix:\n",
      "[[853  76]\n",
      " [ 76  25]]\n",
      "              precision    recall  f1-score   support\n",
      "\n",
      "           0       0.92      0.92      0.92       929\n",
      "           1       0.25      0.25      0.25       101\n",
      "\n",
      "    accuracy                           0.85      1030\n",
      "   macro avg       0.58      0.58      0.58      1030\n",
      "weighted avg       0.85      0.85      0.85      1030\n",
      "\n"
     ]
    }
   ],
   "source": [
    "confusion = confusion_matrix(y_test, y_pred)\n",
    "print(\"Confusion matrix:\\n{}\".format(confusion))\n",
    "print(classification_report(y_test, y_pred, target_names=[\"0\", \"1\"]))"
   ]
  },
  {
   "cell_type": "code",
   "execution_count": 57,
   "metadata": {},
   "outputs": [
    {
     "data": {
      "image/png": "[encoded data removed]",
      "text/plain": [
       "<Figure size 576x576 with 1 Axes>"
      ]
     },
     "metadata": {
      "needs_background": "light"
     },
     "output_type": "display_data"
    }
   ],
   "source": [
    "#precision recall curve\n",
    "yhat = knn.predict_proba(X_test)\n",
    "pos_probs = yhat[:, 1]\n",
    "# calculate the no skill line as the proportion of the positive class\n",
    "no_skill = len(y[y==1]) / len(y)\n",
    "# plot the no skill precision-recall curve\n",
    "plt.figure(figsize=(8,8))\n",
    "plt.plot([0, 1], [no_skill, no_skill], linestyle='--', label='No Skill')\n",
    "precision, recall, _ = precision_recall_curve(y_test, pos_probs)\n",
    "plt.plot(recall, precision, marker='.', label='knn')\n",
    "plt.xlabel('Recall')\n",
    "plt.ylabel('Precision')\n",
    "plt.legend()\n",
    "plt.show()"
   ]
  },
  {
   "cell_type": "code",
   "execution_count": 58,
   "metadata": {},
   "outputs": [],
   "source": [
    "fpr, tpr, _ = roc_curve(y_test,  pos_probs)\n",
    "roc_table = pd.DataFrame([['KNN', fpr, tpr]],\n",
    "               columns=['classifiers', 'fpr', 'tpr'])"
   ]
  },
  {
   "cell_type": "markdown",
   "metadata": {},
   "source": [
    "## Logistic Regression"
   ]
  },
  {
   "cell_type": "code",
   "execution_count": 59,
   "metadata": {},
   "outputs": [
    {
     "name": "stdout",
     "output_type": "stream",
     "text": [
      "Best parameters: {'C': 0.1, 'max_iter': 10, 'penalty': 'l2'}\n",
      "Best cross-validation score: 0.96\n"
     ]
    }
   ],
   "source": [
    "lreg=LogisticRegression(random_state = 0)\n",
    "penalty = ['l1', 'l2']\n",
    "# Create regularization hyperparameter space\n",
    "C = [0.001,0.01,0.1,10,100,1000]\n",
    "max_iter=[10,100,1000]\n",
    "hyperparameters = dict(C=C, penalty=penalty, max_iter=max_iter)\n",
    "\n",
    "# Create grid search using 5-fold cross validation\n",
    "grid_lreg = GridSearchCV(lreg, hyperparameters, cv=5, scoring = 'roc_auc', verbose=0)\n",
    "# Fit grid search\n",
    "logistic = grid_lreg.fit(X_train, y_train)\n",
    "print(\"Best parameters: {}\".format(logistic.best_params_))\n",
    "print(\"Best cross-validation score: {:.2f}\".format(logistic.best_score_))"
   ]
  },
  {
   "cell_type": "code",
   "execution_count": 60,
   "metadata": {},
   "outputs": [
    {
     "name": "stdout",
     "output_type": "stream",
     "text": [
      "                        Model  Accuracy  Precision    Recall  F1 Score  \\\n",
      "0  Logistic_Regression_GridCV  0.897087   0.439024  0.178218  0.253521   \n",
      "\n",
      "   ROC_AUC  \n",
      "0  0.57673  \n"
     ]
    }
   ],
   "source": [
    "y_pred = logistic.predict(X_test)\n",
    "\n",
    "acc = accuracy_score(y_test, y_pred)\n",
    "prec = precision_score(y_test, y_pred,pos_label=1)\n",
    "rec = recall_score(y_test, y_pred, pos_label=1)\n",
    "f1 = f1_score(y_test, y_pred,pos_label=1)\n",
    "roc_auc = roc_auc_score(y_test, y_pred)\n",
    "\n",
    "model_results_lr = pd.DataFrame([['Logistic_Regression_GridCV', acc, prec, rec, f1, roc_auc]],\n",
    "                                columns = ['Model', 'Accuracy', 'Precision', 'Recall', 'F1 Score', 'ROC_AUC'])\n",
    "print(model_results_lr)\n",
    "results = results.append(model_results_lr, ignore_index = True)"
   ]
  },
  {
   "cell_type": "code",
   "execution_count": 61,
   "metadata": {},
   "outputs": [
    {
     "name": "stdout",
     "output_type": "stream",
     "text": [
      "Confusion matrix:\n",
      "[[906  23]\n",
      " [ 83  18]]\n",
      "              precision    recall  f1-score   support\n",
      "\n",
      "           0       0.92      0.98      0.94       929\n",
      "           1       0.44      0.18      0.25       101\n",
      "\n",
      "    accuracy                           0.90      1030\n",
      "   macro avg       0.68      0.58      0.60      1030\n",
      "weighted avg       0.87      0.90      0.88      1030\n",
      "\n"
     ]
    }
   ],
   "source": [
    "confusion = confusion_matrix(y_test, y_pred)\n",
    "print(\"Confusion matrix:\\n{}\".format(confusion))\n",
    "print(classification_report(y_test, y_pred, target_names=[\"0\", \"1\"]))"
   ]
  },
  {
   "cell_type": "code",
   "execution_count": 62,
   "metadata": {},
   "outputs": [
    {
     "data": {
      "image/png": "[encoded data removed]",
      "text/plain": [
       "<Figure size 576x576 with 1 Axes>"
      ]
     },
     "metadata": {
      "needs_background": "light"
     },
     "output_type": "display_data"
    }
   ],
   "source": [
    "#precision recall curve\n",
    "yhat = logistic.predict_proba(X_test)\n",
    "pos_probs = yhat[:, 1]\n",
    "# calculate the no skill line as the proportion of the positive class\n",
    "no_skill = len(y[y==1]) / len(y)\n",
    "# plot the no skill precision-recall curve\n",
    "plt.figure(figsize=(8,8))\n",
    "plt.plot([0, 1], [no_skill, no_skill], linestyle='--', label='No Skill')\n",
    "# calculate model precision-recall curve\n",
    "precision, recall, _ = precision_recall_curve(y_test, pos_probs)\n",
    "# plot the model precision-recall curve\n",
    "plt.plot(recall, precision, marker='.', label='logistic')\n",
    "plt.xlabel('Recall')\n",
    "plt.ylabel('Precision')\n",
    "plt.legend()\n",
    "plt.show()"
   ]
  },
  {
   "cell_type": "code",
   "execution_count": 63,
   "metadata": {},
   "outputs": [],
   "source": [
    "fpr, tpr, _ = roc_curve(y_test,  pos_probs)\n",
    "roc_table = roc_table.append({'classifiers': 'Logistic',\n",
    "                                        'fpr':fpr, \n",
    "                                        'tpr':tpr}, ignore_index=True)"
   ]
  },
  {
   "cell_type": "markdown",
   "metadata": {},
   "source": [
    "## Linear SVC"
   ]
  },
  {
   "cell_type": "code",
   "execution_count": 64,
   "metadata": {},
   "outputs": [
    {
     "name": "stdout",
     "output_type": "stream",
     "text": [
      "Fitting 5 folds for each of 7 candidates, totalling 35 fits\n"
     ]
    },
    {
     "name": "stderr",
     "output_type": "stream",
     "text": [
      "[Parallel(n_jobs=-1)]: Using backend LokyBackend with 8 concurrent workers.\n",
      "[Parallel(n_jobs=-1)]: Done   8 out of  35 | elapsed:    0.0s remaining:    0.1s\n"
     ]
    },
    {
     "name": "stdout",
     "output_type": "stream",
     "text": [
      "Best parameters: {'C': 0.1}\n",
      "Best cross-validation score: 0.96\n"
     ]
    },
    {
     "name": "stderr",
     "output_type": "stream",
     "text": [
      "[Parallel(n_jobs=-1)]: Done  35 out of  35 | elapsed:    1.2s finished\n"
     ]
    }
   ],
   "source": [
    "linear_SVM = LinearSVC(random_state=0)\n",
    "# Grid serach for hyperparameter tuning\n",
    "param_grid_svm = {'C': [0.001, 0.01, 0.10, 1, 10, 11, 100]}  \n",
    " \n",
    "linsvm_grid = GridSearchCV(linear_SVM, param_grid_svm, scoring = 'roc_auc', refit = True, verbose = 3, cv = 5, n_jobs=-1) \n",
    "  \n",
    "# fitting the model for grid search \n",
    "linSVM = linsvm_grid.fit(X_train, y_train)\n",
    "print(\"Best parameters: {}\".format(linSVM.best_params_))\n",
    "print(\"Best cross-validation score: {:.2f}\".format(linSVM.best_score_))"
   ]
  },
  {
   "cell_type": "code",
   "execution_count": 65,
   "metadata": {},
   "outputs": [
    {
     "name": "stdout",
     "output_type": "stream",
     "text": [
      "              Model  Accuracy  Precision    Recall  F1 Score   ROC_AUC\n",
      "0  LinearSVM_GridCV  0.903883   0.533333  0.158416  0.244275  0.571673\n"
     ]
    }
   ],
   "source": [
    "#Predict test data using best model\n",
    "y_pred=linSVM.predict(X_test)\n",
    "\n",
    "acc = accuracy_score(y_test, y_pred)\n",
    "prec = precision_score(y_test, y_pred,pos_label=1)\n",
    "rec = recall_score(y_test, y_pred, pos_label=1)\n",
    "f1 = f1_score(y_test, y_pred,pos_label=1)\n",
    "roc_auc = roc_auc_score(y_test, y_pred)\n",
    "\n",
    "model_results_linsvm = pd.DataFrame([['LinearSVM_GridCV', acc, prec, rec, f1, roc_auc]],\n",
    "               columns = ['Model', 'Accuracy', 'Precision', 'Recall', 'F1 Score', 'ROC_AUC'])\n",
    "print(model_results_linsvm)\n",
    "results = results.append(model_results_linsvm, ignore_index = True)"
   ]
  },
  {
   "cell_type": "code",
   "execution_count": 66,
   "metadata": {},
   "outputs": [
    {
     "name": "stdout",
     "output_type": "stream",
     "text": [
      "Confusion matrix:\n",
      "[[915  14]\n",
      " [ 85  16]]\n",
      "              precision    recall  f1-score   support\n",
      "\n",
      "           0       0.92      0.98      0.95       929\n",
      "           1       0.53      0.16      0.24       101\n",
      "\n",
      "    accuracy                           0.90      1030\n",
      "   macro avg       0.72      0.57      0.60      1030\n",
      "weighted avg       0.88      0.90      0.88      1030\n",
      "\n"
     ]
    }
   ],
   "source": [
    "confusion = confusion_matrix(y_test, y_pred)\n",
    "print(\"Confusion matrix:\\n{}\".format(confusion))\n",
    "print(classification_report(y_test, y_pred, target_names=[\"0\", \"1\"]))"
   ]
  },
  {
   "cell_type": "code",
   "execution_count": 67,
   "metadata": {},
   "outputs": [
    {
     "data": {
      "text/plain": [
       "<matplotlib.legend.Legend at 0x20e48b5a1c8>"
      ]
     },
     "execution_count": 67,
     "metadata": {},
     "output_type": "execute_result"
    },
    {
     "data": {
      "image/png": "[encoded data removed]",
      "text/plain": [
       "<Figure size 576x576 with 1 Axes>"
      ]
     },
     "metadata": {
      "needs_background": "light"
     },
     "output_type": "display_data"
    }
   ],
   "source": [
    "precision, recall, thresholds = precision_recall_curve(y_test, linSVM.decision_function(X_test))\n",
    "\n",
    "close_zero = np.argmin(np.abs(thresholds))\n",
    "plt.figure(figsize=(8,8))\n",
    "plt.plot(precision[close_zero], recall[close_zero], 'o', markersize=10,\n",
    "         label=\"threshold zero\", fillstyle=\"none\", c='k', mew=2)\n",
    "\n",
    "plt.plot(precision, recall, label=\"precision recall curve\")\n",
    "plt.xlabel(\"Precision\")\n",
    "plt.ylabel(\"Recall\")\n",
    "plt.legend(loc=\"best\")"
   ]
  },
  {
   "cell_type": "code",
   "execution_count": 68,
   "metadata": {},
   "outputs": [],
   "source": [
    "fpr, tpr, _ = roc_curve(y_test, linSVM.decision_function(X_test))\n",
    "roc_table = roc_table.append({'classifiers': 'linSVM',\n",
    "                                        'fpr':fpr, \n",
    "                                        'tpr':tpr}, ignore_index=True)"
   ]
  },
  {
   "cell_type": "markdown",
   "metadata": {},
   "source": [
    "## SVM - linear"
   ]
  },
  {
   "cell_type": "code",
   "execution_count": 69,
   "metadata": {
    "scrolled": true
   },
   "outputs": [
    {
     "name": "stdout",
     "output_type": "stream",
     "text": [
      "Fitting 5 folds for each of 5 candidates, totalling 25 fits\n"
     ]
    },
    {
     "name": "stderr",
     "output_type": "stream",
     "text": [
      "[Parallel(n_jobs=-1)]: Using backend LokyBackend with 8 concurrent workers.\n",
      "[Parallel(n_jobs=-1)]: Done  19 out of  25 | elapsed:    3.3s remaining:    1.0s\n",
      "[Parallel(n_jobs=-1)]: Done  25 out of  25 | elapsed:    3.9s finished\n"
     ]
    },
    {
     "name": "stdout",
     "output_type": "stream",
     "text": [
      "Best parameters: {'C': 0.01}\n",
      "Best cross-validation score: 0.96\n"
     ]
    }
   ],
   "source": [
    "kernelSVM_lin = SVC(kernel = 'linear')\n",
    "param_grid_ksvm_lin = {'C': [0.001,0.01, 0.1, 1, 10]}  \n",
    "ksvm_lin_grid = GridSearchCV(kernelSVM_lin, param_grid_ksvm_lin, scoring = 'roc_auc', refit = True, verbose = 3, cv = 5, n_jobs = -1)\n",
    "kernelsvm_lin= ksvm_lin_grid.fit(X_train, y_train)\n",
    "print(\"Best parameters: {}\".format(kernelsvm_lin.best_params_))\n",
    "print(\"Best cross-validation score: {:.2f}\".format(kernelsvm_lin.best_score_))"
   ]
  },
  {
   "cell_type": "code",
   "execution_count": 70,
   "metadata": {},
   "outputs": [
    {
     "name": "stdout",
     "output_type": "stream",
     "text": [
      "                     Model  Accuracy  Precision    Recall  F1 Score   ROC_AUC\n",
      "0  SVM_KernelLinear_GridCV  0.902913   0.517241  0.148515  0.230769  0.566722\n"
     ]
    }
   ],
   "source": [
    "#Predict test data using best model\n",
    "y_pred = kernelsvm_lin.predict(X_test)\n",
    "\n",
    "acc = accuracy_score(y_test, y_pred)\n",
    "prec = precision_score(y_test, y_pred,pos_label=1)\n",
    "rec = recall_score(y_test, y_pred, pos_label=1)\n",
    "f1 = f1_score(y_test, y_pred,pos_label=1)\n",
    "roc_auc = roc_auc_score(y_test, y_pred)\n",
    "\n",
    "model_results_klsvm = pd.DataFrame([['SVM_KernelLinear_GridCV', acc, prec, rec, f1, roc_auc]],\n",
    "               columns = ['Model', 'Accuracy', 'Precision', 'Recall', 'F1 Score', 'ROC_AUC'])\n",
    "\n",
    "print(model_results_klsvm)\n",
    "results = results.append(model_results_klsvm, ignore_index = True)"
   ]
  },
  {
   "cell_type": "code",
   "execution_count": 71,
   "metadata": {},
   "outputs": [
    {
     "name": "stdout",
     "output_type": "stream",
     "text": [
      "Confusion matrix:\n",
      "[[915  14]\n",
      " [ 86  15]]\n",
      "              precision    recall  f1-score   support\n",
      "\n",
      "           0       0.91      0.98      0.95       929\n",
      "           1       0.52      0.15      0.23       101\n",
      "\n",
      "    accuracy                           0.90      1030\n",
      "   macro avg       0.72      0.57      0.59      1030\n",
      "weighted avg       0.88      0.90      0.88      1030\n",
      "\n"
     ]
    }
   ],
   "source": [
    "confusion = confusion_matrix(y_test, y_pred)\n",
    "print(\"Confusion matrix:\\n{}\".format(confusion))\n",
    "print(classification_report(y_test, y_pred, target_names=[\"0\", \"1\"]))"
   ]
  },
  {
   "cell_type": "code",
   "execution_count": 72,
   "metadata": {
    "scrolled": true
   },
   "outputs": [
    {
     "data": {
      "text/plain": [
       "<matplotlib.legend.Legend at 0x20e485ba548>"
      ]
     },
     "execution_count": 72,
     "metadata": {},
     "output_type": "execute_result"
    },
    {
     "data": {
      "image/png": "[encoded data removed]",
      "text/plain": [
       "<Figure size 576x576 with 1 Axes>"
      ]
     },
     "metadata": {
      "needs_background": "light"
     },
     "output_type": "display_data"
    }
   ],
   "source": [
    "precision, recall, thresholds = precision_recall_curve(y_test, kernelsvm_lin.decision_function(X_test))\n",
    "\n",
    "close_zero = np.argmin(np.abs(thresholds))\n",
    "plt.figure(figsize=(8,8))\n",
    "plt.plot(precision[close_zero], recall[close_zero], 'o', markersize=10,\n",
    "         label=\"threshold zero\", fillstyle=\"none\", c='k', mew=2)\n",
    "\n",
    "plt.plot(precision, recall, label=\"precision recall curve\")\n",
    "plt.xlabel(\"Precision\")\n",
    "plt.ylabel(\"Recall\")\n",
    "plt.legend(loc=\"best\")"
   ]
  },
  {
   "cell_type": "code",
   "execution_count": 73,
   "metadata": {},
   "outputs": [],
   "source": [
    "fpr, tpr, _ = roc_curve(y_test, kernelsvm_lin.decision_function(X_test))\n",
    "roc_table = roc_table.append({'classifiers': 'KernelSVM_lin',\n",
    "                                        'fpr':fpr, \n",
    "                                        'tpr':tpr}, ignore_index=True)"
   ]
  },
  {
   "cell_type": "markdown",
   "metadata": {},
   "source": [
    "## SVM - poly"
   ]
  },
  {
   "cell_type": "code",
   "execution_count": 74,
   "metadata": {},
   "outputs": [
    {
     "name": "stdout",
     "output_type": "stream",
     "text": [
      "Fitting 5 folds for each of 20 candidates, totalling 100 fits\n"
     ]
    },
    {
     "name": "stderr",
     "output_type": "stream",
     "text": [
      "[Parallel(n_jobs=-1)]: Using backend LokyBackend with 8 concurrent workers.\n",
      "[Parallel(n_jobs=-1)]: Done  16 tasks      | elapsed:    2.2s\n",
      "[Parallel(n_jobs=-1)]: Done 100 out of 100 | elapsed:   18.7s finished\n"
     ]
    },
    {
     "name": "stdout",
     "output_type": "stream",
     "text": [
      "Best parameters: {'C': 0.1, 'coef0': 1, 'degree': 5, 'kernel': 'poly'}\n",
      "Best cross-validation score: 0.96\n"
     ]
    }
   ],
   "source": [
    "kernelSVM_poly = SVC()\n",
    "# Grid serach for hyperparameter tuning \n",
    "param_grid_ksvm_poly = {'C': [0.1, 1, 10, 20, 100], 'degree': [1,3,4,5], 'coef0': [1], \n",
    "                       'kernel': ['poly']}  \n",
    "ksvm_poly_grid = GridSearchCV(kernelSVM_poly, param_grid_ksvm_poly, scoring = 'roc_auc', refit = True, verbose = 3, cv = 5, n_jobs=-1) \n",
    "  \n",
    "# fitting the model for grid search \n",
    "kernelsvm_poly= ksvm_poly_grid.fit(X_train, y_train)\n",
    "print(\"Best parameters: {}\".format(kernelsvm_poly.best_params_))\n",
    "print(\"Best cross-validation score: {:.2f}\".format(kernelsvm_poly.best_score_))"
   ]
  },
  {
   "cell_type": "code",
   "execution_count": 75,
   "metadata": {},
   "outputs": [
    {
     "name": "stdout",
     "output_type": "stream",
     "text": [
      "                   Model  Accuracy  Precision    Recall  F1 Score   ROC_AUC\n",
      "0  SVM_KernelPoly_GridCV  0.895146   0.410256  0.158416  0.228571  0.566829\n"
     ]
    }
   ],
   "source": [
    "#Predict test data using best model\n",
    "y_pred = kernelsvm_poly.predict(X_test)\n",
    "\n",
    "acc = accuracy_score(y_test, y_pred)\n",
    "prec = precision_score(y_test, y_pred,pos_label=1)\n",
    "rec = recall_score(y_test, y_pred, pos_label=1)\n",
    "f1 = f1_score(y_test, y_pred,pos_label=1)\n",
    "roc_auc = roc_auc_score(y_test, y_pred)\n",
    "\n",
    "model_results_polysvm = pd.DataFrame([['SVM_KernelPoly_GridCV', acc, prec, rec, f1, roc_auc]],\n",
    "               columns = ['Model', 'Accuracy', 'Precision', 'Recall', 'F1 Score', 'ROC_AUC'])\n",
    "\n",
    "print(model_results_polysvm)\n",
    "results = results.append(model_results_polysvm, ignore_index = True)"
   ]
  },
  {
   "cell_type": "code",
   "execution_count": 76,
   "metadata": {},
   "outputs": [
    {
     "name": "stdout",
     "output_type": "stream",
     "text": [
      "Confusion matrix:\n",
      "[[906  23]\n",
      " [ 85  16]]\n",
      "              precision    recall  f1-score   support\n",
      "\n",
      "           0       0.91      0.98      0.94       929\n",
      "           1       0.41      0.16      0.23       101\n",
      "\n",
      "    accuracy                           0.90      1030\n",
      "   macro avg       0.66      0.57      0.59      1030\n",
      "weighted avg       0.86      0.90      0.87      1030\n",
      "\n"
     ]
    }
   ],
   "source": [
    "confusion = confusion_matrix(y_test, y_pred)\n",
    "print(\"Confusion matrix:\\n{}\".format(confusion))\n",
    "print(classification_report(y_test, y_pred, target_names=[\"0\", \"1\"]))"
   ]
  },
  {
   "cell_type": "code",
   "execution_count": 77,
   "metadata": {},
   "outputs": [
    {
     "data": {
      "text/plain": [
       "<matplotlib.legend.Legend at 0x20e4854a5c8>"
      ]
     },
     "execution_count": 77,
     "metadata": {},
     "output_type": "execute_result"
    },
    {
     "data": {
      "image/png": "[encoded data removed]",
      "text/plain": [
       "<Figure size 576x576 with 1 Axes>"
      ]
     },
     "metadata": {
      "needs_background": "light"
     },
     "output_type": "display_data"
    }
   ],
   "source": [
    "precision, recall, thresholds = precision_recall_curve(y_test, kernelsvm_poly.decision_function(X_test))\n",
    "\n",
    "close_zero = np.argmin(np.abs(thresholds))\n",
    "plt.figure(figsize=(8,8))\n",
    "plt.plot(precision[close_zero], recall[close_zero], 'o', markersize=10,\n",
    "         label=\"threshold zero\", fillstyle=\"none\", c='k', mew=2)\n",
    "\n",
    "plt.plot(precision, recall, label=\"precision recall curve\")\n",
    "plt.xlabel(\"Precision\")\n",
    "plt.ylabel(\"Recall\")\n",
    "plt.legend(loc=\"best\")"
   ]
  },
  {
   "cell_type": "code",
   "execution_count": 78,
   "metadata": {
    "scrolled": true
   },
   "outputs": [
    {
     "data": {
      "text/plain": [
       "<matplotlib.collections.PolyCollection at 0x20e47bbb588>"
      ]
     },
     "execution_count": 78,
     "metadata": {},
     "output_type": "execute_result"
    },
    {
     "data": {
      "image/png": "[encoded data removed]",
      "text/plain": [
       "<Figure size 1080x720 with 1 Axes>"
      ]
     },
     "metadata": {
      "needs_background": "light"
     },
     "output_type": "display_data"
    }
   ],
   "source": [
    "import mglearn\n",
    "scores = np.array(pd.DataFrame(ksvm_poly_grid.cv_results_).mean_test_score).reshape(5, 4)\n",
    "\n",
    "# plot the mean cross-validation scores\n",
    "mglearn.tools.heatmap(scores, xlabel='degree', xticklabels=param_grid_ksvm_poly['degree'], ylabel='C', yticklabels=param_grid_ksvm_poly['C'], cmap=\"viridis\")"
   ]
  },
  {
   "cell_type": "code",
   "execution_count": 79,
   "metadata": {},
   "outputs": [],
   "source": [
    "fpr, tpr, _ = roc_curve(y_test, kernelsvm_poly.decision_function(X_test))\n",
    "roc_table = roc_table.append({'classifiers': 'KernelSVM_poly',\n",
    "                                        'fpr':fpr, \n",
    "                                        'tpr':tpr}, ignore_index=True)"
   ]
  },
  {
   "cell_type": "markdown",
   "metadata": {},
   "source": [
    "## SVM - rbf"
   ]
  },
  {
   "cell_type": "code",
   "execution_count": 80,
   "metadata": {},
   "outputs": [
    {
     "name": "stdout",
     "output_type": "stream",
     "text": [
      "Fitting 5 folds for each of 25 candidates, totalling 125 fits\n"
     ]
    },
    {
     "name": "stderr",
     "output_type": "stream",
     "text": [
      "[Parallel(n_jobs=-1)]: Using backend LokyBackend with 8 concurrent workers.\n",
      "[Parallel(n_jobs=-1)]: Done  16 tasks      | elapsed:    5.8s\n",
      "[Parallel(n_jobs=-1)]: Done 125 out of 125 | elapsed:   33.2s finished\n"
     ]
    },
    {
     "name": "stdout",
     "output_type": "stream",
     "text": [
      "Best parameters: {'C': 0.1, 'gamma': 1, 'kernel': 'rbf'}\n",
      "Best cross-validation score: 0.97\n"
     ]
    }
   ],
   "source": [
    "kernelSVM_rbf = SVC()\n",
    "# Grid search\n",
    "param_grid_ksvm_rbf = {'C': [0.1, 1, 10, 100, 1000],  \n",
    "              'gamma': [1, 0.1, 0.01, 0.001, 0.0001], \n",
    "              'kernel': ['rbf']}  \n",
    "ksvm_rbf_grid = GridSearchCV(kernelSVM_rbf, param_grid_ksvm_rbf, scoring = 'roc_auc', refit = True, verbose = 3, cv = 5, n_jobs=-1) \n",
    "  \n",
    "# fitting the model for grid search \n",
    "kernelsvm_rbf= ksvm_rbf_grid.fit(X_train, y_train)\n",
    "print(\"Best parameters: {}\".format(kernelsvm_rbf.best_params_))\n",
    "print(\"Best cross-validation score: {:.2f}\".format(kernelsvm_rbf.best_score_))"
   ]
  },
  {
   "cell_type": "code",
   "execution_count": 81,
   "metadata": {},
   "outputs": [
    {
     "name": "stdout",
     "output_type": "stream",
     "text": [
      "                  Model  Accuracy  Precision  Recall  F1 Score  ROC_AUC\n",
      "0  SVM_Kernelrbf_GridCV  0.901942        0.0     0.0       0.0      0.5\n"
     ]
    }
   ],
   "source": [
    "#Predict test data using best model\n",
    "y_pred = kernelsvm_rbf.predict(X_test)\n",
    "\n",
    "acc = accuracy_score(y_test, y_pred)\n",
    "prec = precision_score(y_test, y_pred,pos_label=1)\n",
    "rec = recall_score(y_test, y_pred, pos_label=1)\n",
    "f1 = f1_score(y_test, y_pred,pos_label=1)\n",
    "roc_auc = roc_auc_score(y_test, y_pred)\n",
    "\n",
    "model_results_rbfsvm = pd.DataFrame([['SVM_Kernelrbf_GridCV', acc, prec, rec, f1, roc_auc]],\n",
    "               columns = ['Model', 'Accuracy', 'Precision', 'Recall', 'F1 Score', 'ROC_AUC'])\n",
    "\n",
    "print(model_results_rbfsvm)\n",
    "results = results.append(model_results_rbfsvm, ignore_index = True)"
   ]
  },
  {
   "cell_type": "code",
   "execution_count": 82,
   "metadata": {},
   "outputs": [
    {
     "name": "stdout",
     "output_type": "stream",
     "text": [
      "Confusion matrix:\n",
      "[[929   0]\n",
      " [101   0]]\n",
      "              precision    recall  f1-score   support\n",
      "\n",
      "           0       0.90      1.00      0.95       929\n",
      "           1       0.00      0.00      0.00       101\n",
      "\n",
      "    accuracy                           0.90      1030\n",
      "   macro avg       0.45      0.50      0.47      1030\n",
      "weighted avg       0.81      0.90      0.86      1030\n",
      "\n"
     ]
    }
   ],
   "source": [
    "confusion = confusion_matrix(y_test, y_pred)\n",
    "print(\"Confusion matrix:\\n{}\".format(confusion))\n",
    "print(classification_report(y_test, y_pred, target_names=[\"0\", \"1\"]))"
   ]
  },
  {
   "cell_type": "code",
   "execution_count": 83,
   "metadata": {},
   "outputs": [
    {
     "data": {
      "text/plain": [
       "<matplotlib.legend.Legend at 0x20e48be33c8>"
      ]
     },
     "execution_count": 83,
     "metadata": {},
     "output_type": "execute_result"
    },
    {
     "data": {
      "image/png": "[encoded data removed]",
      "text/plain": [
       "<Figure size 1080x720 with 1 Axes>"
      ]
     },
     "metadata": {
      "needs_background": "light"
     },
     "output_type": "display_data"
    }
   ],
   "source": [
    "precision, recall, thresholds = precision_recall_curve(y_test, kernelsvm_rbf.decision_function(X_test))\n",
    "\n",
    "close_zero = np.argmin(np.abs(thresholds))\n",
    "\n",
    "plt.plot(precision[close_zero], recall[close_zero], 'o', markersize=10,\n",
    "         label=\"threshold zero\", fillstyle=\"none\", c='k', mew=2)\n",
    "\n",
    "plt.plot(precision, recall, label=\"precision recall curve\")\n",
    "plt.xlabel(\"Precision\")\n",
    "plt.ylabel(\"Recall\")\n",
    "plt.legend(loc=\"best\")"
   ]
  },
  {
   "cell_type": "code",
   "execution_count": 84,
   "metadata": {
    "scrolled": true
   },
   "outputs": [
    {
     "data": {
      "text/plain": [
       "<matplotlib.collections.PolyCollection at 0x20e47dbf9c8>"
      ]
     },
     "execution_count": 84,
     "metadata": {},
     "output_type": "execute_result"
    },
    {
     "data": {
      "image/png": "[encoded data removed]",
      "text/plain": [
       "<Figure size 1080x720 with 1 Axes>"
      ]
     },
     "metadata": {
      "needs_background": "light"
     },
     "output_type": "display_data"
    }
   ],
   "source": [
    "import mglearn\n",
    "scores = np.array(pd.DataFrame(ksvm_rbf_grid.cv_results_).mean_test_score).reshape(5, 5)\n",
    "\n",
    "# plot the mean cross-validation scores\n",
    "mglearn.tools.heatmap(scores, xlabel='gamma', xticklabels=param_grid_ksvm_rbf['gamma'], ylabel='C', yticklabels=param_grid_ksvm_rbf['C'], cmap=\"viridis\")"
   ]
  },
  {
   "cell_type": "code",
   "execution_count": 85,
   "metadata": {},
   "outputs": [],
   "source": [
    "fpr, tpr, _ = roc_curve(y_test, kernelsvm_rbf.decision_function(X_test))\n",
    "roc_table = roc_table.append({'classifiers': 'KernelSVM_rbf',\n",
    "                                        'fpr':fpr, \n",
    "                                        'tpr':tpr}, ignore_index=True)"
   ]
  },
  {
   "cell_type": "markdown",
   "metadata": {},
   "source": [
    "## Decision tree classifier"
   ]
  },
  {
   "cell_type": "code",
   "execution_count": 86,
   "metadata": {},
   "outputs": [
    {
     "name": "stdout",
     "output_type": "stream",
     "text": [
      "Fitting 5 folds for each of 48 candidates, totalling 240 fits\n"
     ]
    },
    {
     "name": "stderr",
     "output_type": "stream",
     "text": [
      "[Parallel(n_jobs=-1)]: Using backend LokyBackend with 8 concurrent workers.\n",
      "[Parallel(n_jobs=-1)]: Done  16 tasks      | elapsed:    0.0s\n"
     ]
    },
    {
     "name": "stdout",
     "output_type": "stream",
     "text": [
      "Best parameters: {'criterion': 'gini', 'max_depth': 20, 'min_samples_split': 75}\n",
      "Best cross-validation score: 0.94\n"
     ]
    },
    {
     "name": "stderr",
     "output_type": "stream",
     "text": [
      "[Parallel(n_jobs=-1)]: Done 240 out of 240 | elapsed:    1.3s finished\n"
     ]
    }
   ],
   "source": [
    "dtree = DecisionTreeClassifier(random_state = 0)\n",
    "param_grid_dtree = {\"criterion\": [\"gini\", \"entropy\"],\n",
    "              \"min_samples_split\": [10, 20, 30, 40, 70, 75],\n",
    "              \"max_depth\": [7, 10, 20, 30]\n",
    "              }\n",
    "dtree_grid = GridSearchCV(dtree, param_grid_dtree, scoring = 'roc_auc', refit = True, verbose = 3, cv = 5, n_jobs=-1) \n",
    "  \n",
    "# fitting the model for grid search \n",
    "model_dtree = dtree_grid.fit(X_train, y_train)\n",
    "print(\"Best parameters: {}\".format(model_dtree.best_params_))\n",
    "print(\"Best cross-validation score: {:.2f}\".format(model_dtree.best_score_))"
   ]
  },
  {
   "cell_type": "code",
   "execution_count": 87,
   "metadata": {},
   "outputs": [
    {
     "name": "stdout",
     "output_type": "stream",
     "text": [
      "                  Model  Accuracy  Precision    Recall  F1 Score   ROC_AUC\n",
      "0  Decision_tree_GridCV  0.861165      0.325  0.386139  0.352941  0.649474\n"
     ]
    }
   ],
   "source": [
    "# Predicting Test Set\n",
    "y_pred = model_dtree.predict(X_test) \n",
    "\n",
    "acc = accuracy_score(y_test, y_pred)\n",
    "prec = precision_score(y_test, y_pred,pos_label=1)\n",
    "rec = recall_score(y_test, y_pred, pos_label=1)\n",
    "f1 = f1_score(y_test, y_pred,pos_label=1)\n",
    "roc_auc = roc_auc_score(y_test, y_pred)\n",
    "\n",
    "model_results_dtree = pd.DataFrame([['Decision_tree_GridCV', acc, prec, rec, f1, roc_auc]],\n",
    "               columns = ['Model', 'Accuracy', 'Precision', 'Recall', 'F1 Score', 'ROC_AUC'])\n",
    "\n",
    "print(model_results_dtree)\n",
    "results = results.append(model_results_dtree, ignore_index = True)"
   ]
  },
  {
   "cell_type": "code",
   "execution_count": 88,
   "metadata": {},
   "outputs": [
    {
     "name": "stdout",
     "output_type": "stream",
     "text": [
      "Confusion matrix:\n",
      "[[848  81]\n",
      " [ 62  39]]\n",
      "              precision    recall  f1-score   support\n",
      "\n",
      "           0       0.93      0.91      0.92       929\n",
      "           1       0.33      0.39      0.35       101\n",
      "\n",
      "    accuracy                           0.86      1030\n",
      "   macro avg       0.63      0.65      0.64      1030\n",
      "weighted avg       0.87      0.86      0.87      1030\n",
      "\n"
     ]
    }
   ],
   "source": [
    "confusion = confusion_matrix(y_test, y_pred)\n",
    "print(\"Confusion matrix:\\n{}\".format(confusion))\n",
    "print(classification_report(y_test, y_pred, target_names=[\"0\", \"1\"]))"
   ]
  },
  {
   "cell_type": "code",
   "execution_count": 89,
   "metadata": {},
   "outputs": [
    {
     "data": {
      "image/png": "[encoded data removed]",
      "text/plain": [
       "<Figure size 1080x720 with 1 Axes>"
      ]
     },
     "metadata": {
      "needs_background": "light"
     },
     "output_type": "display_data"
    }
   ],
   "source": [
    "#precision recall curve\n",
    "yhat = model_dtree.predict_proba(X_test)\n",
    "pos_probs = yhat[:, 1]\n",
    "# calculate the no skill line as the proportion of the positive class\n",
    "no_skill = len(y[y==1]) / len(y)\n",
    "# plot the no skill precision-recall curve\n",
    "plt.plot([0, 1], [no_skill, no_skill], linestyle='--', label='No Skill')\n",
    "precision, recall, _ = precision_recall_curve(y_test, pos_probs)\n",
    "plt.plot(recall, precision, marker='.', label='decision_tree')\n",
    "plt.xlabel('Recall')\n",
    "plt.ylabel('Precision')\n",
    "plt.legend()\n",
    "plt.show()"
   ]
  },
  {
   "cell_type": "code",
   "execution_count": 90,
   "metadata": {},
   "outputs": [],
   "source": [
    "fpr, tpr, _ = roc_curve(y_test, pos_probs)\n",
    "roc_table = roc_table.append({'classifiers': 'Decision_tree',\n",
    "                                        'fpr':fpr, \n",
    "                                        'tpr':tpr}, ignore_index=True)"
   ]
  },
  {
   "cell_type": "markdown",
   "metadata": {},
   "source": [
    "## Model comparision"
   ]
  },
  {
   "cell_type": "markdown",
   "metadata": {},
   "source": [
    "In order to compare the models and analyze the results, we need to decide our requirements.\n",
    "\n",
    "1. False Positives - The clients did NOT SUBSCRIBE to term deposit, but the model predicts they did\n",
    "   False Negatives - The clients SUBSCRIBED to term deposit, but the model predicts they did not\n",
    "   \n",
    "False Positives are more harmful to the firm as compared to False Negatives because it will cost the bank more money to market their product to the clients who will not subscribe to it eventually. Hence we need to reduce the amount of False Positives, maximize our accuracy and True Positives. Hence, a balance between True Positive Rate and False Positive Rate is needed.\n",
    "\n",
    "Area under the ROC curve (TPR vs FPR) is the best way to go about this. ROC is a probability curve and AUC represents degree or measure of separability. It tells how much model is capable of distinguishing between classes. Higher the AUC, better the model is at predicting 0s as 0s and 1s as 1s. We will use 'roc_auc' score as a metric to determine the best model. Higher the roc_auc score, higher the area under the curve."
   ]
  },
  {
   "cell_type": "code",
   "execution_count": 91,
   "metadata": {
    "scrolled": true
   },
   "outputs": [
    {
     "name": "stdout",
     "output_type": "stream",
     "text": [
      "                        Model  Accuracy  Precision    Recall  F1 Score  \\\n",
      "0                  KNN_GridCV  0.852427   0.247525  0.247525  0.247525   \n",
      "1  Logistic_Regression_GridCV  0.897087   0.439024  0.178218  0.253521   \n",
      "2            LinearSVM_GridCV  0.903883   0.533333  0.158416  0.244275   \n",
      "3     SVM_KernelLinear_GridCV  0.902913   0.517241  0.148515  0.230769   \n",
      "4       SVM_KernelPoly_GridCV  0.895146   0.410256  0.158416  0.228571   \n",
      "5        SVM_Kernelrbf_GridCV  0.901942   0.000000  0.000000  0.000000   \n",
      "6        Decision_tree_GridCV  0.861165   0.325000  0.386139  0.352941   \n",
      "\n",
      "    ROC_AUC  \n",
      "0  0.582858  \n",
      "1  0.576730  \n",
      "2  0.571673  \n",
      "3  0.566722  \n",
      "4  0.566829  \n",
      "5  0.500000  \n",
      "6  0.649474  \n"
     ]
    }
   ],
   "source": [
    "org_results = pd.DataFrame(results)\n",
    "print(results)"
   ]
  },
  {
   "cell_type": "markdown",
   "metadata": {},
   "source": [
    "Decision trees have high roc_auc score of 0.6494. Let us look at the confusion matrices."
   ]
  },
  {
   "cell_type": "code",
   "execution_count": 92,
   "metadata": {
    "scrolled": false
   },
   "outputs": [
    {
     "name": "stdout",
     "output_type": "stream",
     "text": [
      "Confusion matrix knn:\n",
      "[[853  76]\n",
      " [ 76  25]]\n",
      "Confusion matrix logistic:\n",
      "[[906  23]\n",
      " [ 83  18]]\n",
      "Confusion matrix linSVC:\n",
      "[[915  14]\n",
      " [ 85  16]]\n",
      "Confusion matrix kernelSVM_lin:\n",
      "[[915  14]\n",
      " [ 86  15]]\n",
      "Confusion matrix kernelSVM_poly:\n",
      "[[906  23]\n",
      " [ 85  16]]\n",
      "Confusion matrix kernelSVM_rbf:\n",
      "[[929   0]\n",
      " [101   0]]\n",
      "Confusion matrix decision_tree:\n",
      "[[848  81]\n",
      " [ 62  39]]\n"
     ]
    }
   ],
   "source": [
    "confusion = confusion_matrix(y_test, knn.predict(X_test))\n",
    "print(\"Confusion matrix knn:\\n{}\".format(confusion))\n",
    "confusion = confusion_matrix(y_test, logistic.predict(X_test))\n",
    "print(\"Confusion matrix logistic:\\n{}\".format(confusion))\n",
    "confusion = confusion_matrix(y_test, linSVM.predict(X_test))\n",
    "print(\"Confusion matrix linSVC:\\n{}\".format(confusion))\n",
    "confusion = confusion_matrix(y_test, kernelsvm_lin.predict(X_test))\n",
    "print(\"Confusion matrix kernelSVM_lin:\\n{}\".format(confusion))\n",
    "confusion = confusion_matrix(y_test, kernelsvm_poly.predict(X_test))\n",
    "print(\"Confusion matrix kernelSVM_poly:\\n{}\".format(confusion))\n",
    "confusion = confusion_matrix(y_test, kernelsvm_rbf.predict(X_test))\n",
    "print(\"Confusion matrix kernelSVM_rbf:\\n{}\".format(confusion))\n",
    "confusion = confusion_matrix(y_test, model_dtree.predict(X_test))\n",
    "print(\"Confusion matrix decision_tree:\\n{}\".format(confusion))"
   ]
  },
  {
   "cell_type": "markdown",
   "metadata": {},
   "source": [
    "We will use decision tree as our final model because it has the highest ROC_AUC score."
   ]
  },
  {
   "cell_type": "code",
   "execution_count": 93,
   "metadata": {},
   "outputs": [
    {
     "data": {
      "image/png": "[encoded data removed]",
      "text/plain": [
       "<Figure size 576x432 with 1 Axes>"
      ]
     },
     "metadata": {
      "needs_background": "light"
     },
     "output_type": "display_data"
    }
   ],
   "source": [
    "#ROC curves for the models\n",
    "fig = plt.figure(figsize=(8,6))\n",
    "\n",
    "for i in roc_table.index:\n",
    "    plt.plot(roc_table.loc[i]['fpr'], \n",
    "             roc_table.loc[i]['tpr'], label=\"{}\".format(roc_table.loc[i]['classifiers']))\n",
    "    \n",
    "plt.plot([0,1], [0,1], color='orange', linestyle='--')\n",
    "\n",
    "plt.xticks(np.arange(0.0, 1.1, step=0.1))\n",
    "plt.xlabel(\"False Positive Rate\", fontsize=15)\n",
    "\n",
    "plt.yticks(np.arange(0.0, 1.1, step=0.1))\n",
    "plt.ylabel(\"True Positive Rate\", fontsize=15)\n",
    "\n",
    "plt.title('ROC Curve Analysis', fontweight='bold', fontsize=15)\n",
    "plt.legend(prop={'size':13}, loc='lower right')\n",
    "\n",
    "plt.show()"
   ]
  },
  {
   "cell_type": "markdown",
   "metadata": {},
   "source": [
    "### Final model : Decision tree"
   ]
  },
  {
   "cell_type": "code",
   "execution_count": 94,
   "metadata": {},
   "outputs": [
    {
     "name": "stdout",
     "output_type": "stream",
     "text": [
      "Train Set classification report:\n",
      "               precision    recall  f1-score   support\n",
      "\n",
      "           0       0.89      0.93      0.91      2739\n",
      "           1       0.93      0.89      0.91      2836\n",
      "\n",
      "    accuracy                           0.91      5575\n",
      "   macro avg       0.91      0.91      0.91      5575\n",
      "weighted avg       0.91      0.91      0.91      5575\n",
      "\n",
      "Test Set classification report:\n",
      "               precision    recall  f1-score   support\n",
      "\n",
      "           0       0.93      0.91      0.92       929\n",
      "           1       0.33      0.39      0.35       101\n",
      "\n",
      "    accuracy                           0.86      1030\n",
      "   macro avg       0.63      0.65      0.64      1030\n",
      "weighted avg       0.87      0.86      0.87      1030\n",
      "\n"
     ]
    }
   ],
   "source": [
    "dtree = DecisionTreeClassifier(criterion= 'gini', max_depth= 20, min_samples_split= 75, random_state = 0)\n",
    "model_dtree = dtree.fit(X_train, y_train)\n",
    "predicted = model_dtree.predict(X_test)\n",
    "print(\"Train Set classification report:\\n\" ,classification_report(y_train, model_dtree.predict(X_train)))\n",
    "print(\"Test Set classification report:\\n\" ,classification_report(y_test, model_dtree.predict(X_test)))"
   ]
  },
  {
   "cell_type": "code",
   "execution_count": 95,
   "metadata": {},
   "outputs": [
    {
     "data": {
      "text/plain": [
       "0    910\n",
       "1    120\n",
       "Name: predicted, dtype: int64"
      ]
     },
     "execution_count": 95,
     "metadata": {},
     "output_type": "execute_result"
    }
   ],
   "source": [
    "out = pd.DataFrame(predicted.reshape(-1,1), columns = ['predicted'])\n",
    "out['predicted'].value_counts()"
   ]
  },
  {
   "cell_type": "markdown",
   "metadata": {},
   "source": []
  },
  {
   "cell_type": "markdown",
   "metadata": {},
   "source": [
    "# Project 2\n",
    "\n",
    "### Here we will use the same data and pre-processing steps from previous part. "
   ]
  },
  {
   "cell_type": "markdown",
   "metadata": {},
   "source": [
    "## Ensembles"
   ]
  },
  {
   "cell_type": "markdown",
   "metadata": {},
   "source": [
    "## Hard voting"
   ]
  },
  {
   "cell_type": "code",
   "execution_count": 96,
   "metadata": {},
   "outputs": [
    {
     "name": "stdout",
     "output_type": "stream",
     "text": [
      "LogisticRegression 0.5767300088458791\n",
      "KNeighborsClassifier 0.582858178175191\n",
      "SVC 0.5868441526606912\n",
      "VotingClassifier 0.5850163595476877\n"
     ]
    }
   ],
   "source": [
    "log_clf = LogisticRegression(C= 0.1, max_iter= 10, penalty= 'l2', random_state=0)\n",
    "log_clf.fit(X_train, y_train)\n",
    "knn_clf = KNeighborsClassifier(algorithm= 'auto', leaf_size= 5, n_neighbors= 10)\n",
    "knn_clf.fit(X_train, y_train)\n",
    "#svc_clf = LinearSVC(C= 0.1,random_state=0)\n",
    "#svc_clf.fit(X_train, y_train)\n",
    "svm_clf = SVC(kernel = 'poly', C= 0.01, probability = True)\n",
    "svm_clf.fit(X_train, y_train)\n",
    "\n",
    "voting_clf = VotingClassifier(estimators=[('lr', log_clf), ('knn', knn_clf), ('ksvc', svm_clf)], voting='hard')\n",
    "voting_clf.fit(X_train, y_train)\n",
    "\n",
    "for clf in (log_clf, knn_clf, svm_clf, voting_clf):\n",
    "    clf.fit(X_train, y_train)\n",
    "    y_pred = clf.predict(X_test)\n",
    "    print(clf.__class__.__name__, roc_auc_score(y_test, y_pred))\n",
    "    \n",
    "acc = accuracy_score(y_test, y_pred)\n",
    "roc_auc = roc_auc_score(y_test, y_pred)"
   ]
  },
  {
   "cell_type": "code",
   "execution_count": 97,
   "metadata": {},
   "outputs": [],
   "source": [
    "results_HV = pd.DataFrame([['Hard_Voting_clf', acc, roc_auc]],\n",
    "               columns = ['Model', 'Accuracy', 'ROC_AUC'])\n",
    "results_ensemble = results_HV"
   ]
  },
  {
   "cell_type": "markdown",
   "metadata": {},
   "source": [
    "## Soft voting"
   ]
  },
  {
   "cell_type": "code",
   "execution_count": 98,
   "metadata": {},
   "outputs": [
    {
     "name": "stdout",
     "output_type": "stream",
     "text": [
      "LogisticRegression 0.5767300088458791\n",
      "KNeighborsClassifier 0.582858178175191\n",
      "SVC 0.5868441526606912\n",
      "VotingClassifier 0.5861993626703897\n"
     ]
    }
   ],
   "source": [
    "log_clf = LogisticRegression(C= 0.1, max_iter= 10, penalty= 'l2',random_state=0)\n",
    "log_clf.fit(X_train, y_train)\n",
    "knn_clf = KNeighborsClassifier(algorithm= 'auto', leaf_size= 5, n_neighbors= 10)\n",
    "knn_clf.fit(X_train, y_train)\n",
    "svm_clf = SVC(kernel = 'poly', C= 0.01, probability = True)\n",
    "svm_clf.fit(X_train, y_train)\n",
    "\n",
    "voting_clf = VotingClassifier(estimators=[('lr', log_clf), ('knn', knn_clf), ('ksvc', svm_clf)], voting='soft')\n",
    "voting_clf.fit(X_train, y_train)\n",
    "\n",
    "for clf in (log_clf, knn_clf, svm_clf, voting_clf):\n",
    "    clf.fit(X_train, y_train)\n",
    "    y_pred = clf.predict(X_test)\n",
    "    print(clf.__class__.__name__, roc_auc_score(y_test, y_pred))\n",
    "    \n",
    "acc = accuracy_score(y_test, y_pred)\n",
    "roc_auc = roc_auc_score(y_test, y_pred)"
   ]
  },
  {
   "cell_type": "code",
   "execution_count": 99,
   "metadata": {},
   "outputs": [],
   "source": [
    "results_SV = pd.DataFrame([['Soft_Voting_clf', acc, roc_auc]],\n",
    "               columns = ['Model', 'Accuracy', 'ROC_AUC'])\n",
    "results_ensemble = results_ensemble.append(results_SV, ignore_index=True)"
   ]
  },
  {
   "cell_type": "markdown",
   "metadata": {},
   "source": [
    "Both Hard Voting Classifier and Soft Voting Classifier give us roc_auc score around 0.5855."
   ]
  },
  {
   "cell_type": "markdown",
   "metadata": {},
   "source": [
    "## Bagging and Pasting: Decision Tree Classifier"
   ]
  },
  {
   "cell_type": "code",
   "execution_count": 100,
   "metadata": {},
   "outputs": [
    {
     "name": "stdout",
     "output_type": "stream",
     "text": [
      "Train score: 0.90\n",
      "Test score: 0.87\n",
      "Out-of-bag score: 0.89\n",
      "roc_auc score: 0.70\n",
      "Confusion matrix decision_tree:\n",
      "[[842  87]\n",
      " [ 51  50]]\n",
      "Train Set classification report:\n",
      "               precision    recall  f1-score   support\n",
      "\n",
      "           0       0.88      0.92      0.90      2739\n",
      "           1       0.92      0.88      0.90      2836\n",
      "\n",
      "    accuracy                           0.90      5575\n",
      "   macro avg       0.90      0.90      0.90      5575\n",
      "weighted avg       0.90      0.90      0.90      5575\n",
      "\n",
      "Test Set classification report:\n",
      "               precision    recall  f1-score   support\n",
      "\n",
      "           0       0.94      0.91      0.92       929\n",
      "           1       0.36      0.50      0.42       101\n",
      "\n",
      "    accuracy                           0.87      1030\n",
      "   macro avg       0.65      0.70      0.67      1030\n",
      "weighted avg       0.89      0.87      0.87      1030\n",
      "\n"
     ]
    }
   ],
   "source": [
    "dt_clf = DecisionTreeClassifier(criterion= 'gini', max_depth= 20, min_samples_split= 75, random_state = 0)\n",
    "bag_clf = BaggingClassifier(dt_clf, n_estimators=5, max_samples=1000, bootstrap=True, random_state=0, oob_score = True)\n",
    "\n",
    "bag_clf.fit(X_train, y_train)\n",
    "y_pred = bag_clf.predict(X_test)\n",
    "\n",
    "print('Train score: %.2f'%bag_clf.score(X_train, y_train))\n",
    "print('Test score: %.2f'%bag_clf.score(X_test, y_test))\n",
    "print('Out-of-bag score: %.2f'%bag_clf.oob_score_)\n",
    "print('roc_auc score: %.2f'%roc_auc_score(y_test, y_pred))\n",
    "confusion = confusion_matrix(y_test, y_pred)\n",
    "print(\"Confusion matrix decision_tree:\\n{}\".format(confusion))\n",
    "print(\"Train Set classification report:\\n\" ,classification_report(y_train, bag_clf.predict(X_train)))\n",
    "print(\"Test Set classification report:\\n\" ,classification_report(y_test, bag_clf.predict(X_test)))"
   ]
  },
  {
   "cell_type": "code",
   "execution_count": 101,
   "metadata": {},
   "outputs": [],
   "source": [
    "acc = accuracy_score(y_test, y_pred)\n",
    "roc_auc = roc_auc_score(y_test, y_pred)\n",
    "results_dtbag = pd.DataFrame([['Bagging_DTree', acc, roc_auc]],\n",
    "               columns = ['Model', 'Accuracy', 'ROC_AUC'])\n",
    "results_ensemble = results_ensemble.append(results_dtbag, ignore_index=True)"
   ]
  },
  {
   "cell_type": "markdown",
   "metadata": {},
   "source": [
    "#### roc_auc score without bagging: 0.65, accuracy: 0.86\n",
    "#### roc_auc score with bagging: 0.7, accuracy: 0.87"
   ]
  },
  {
   "cell_type": "code",
   "execution_count": 102,
   "metadata": {},
   "outputs": [
    {
     "name": "stdout",
     "output_type": "stream",
     "text": [
      "Train score: 0.90\n",
      "Test score: 0.86\n",
      "roc_auc score: 0.70\n",
      "Confusion matrix decision_tree:\n",
      "[[837  92]\n",
      " [ 51  50]]\n",
      "Train Set classification report:\n",
      "               precision    recall  f1-score   support\n",
      "\n",
      "           0       0.89      0.91      0.90      2739\n",
      "           1       0.91      0.89      0.90      2836\n",
      "\n",
      "    accuracy                           0.90      5575\n",
      "   macro avg       0.90      0.90      0.90      5575\n",
      "weighted avg       0.90      0.90      0.90      5575\n",
      "\n",
      "Test Set classification report:\n",
      "               precision    recall  f1-score   support\n",
      "\n",
      "           0       0.94      0.90      0.92       929\n",
      "           1       0.35      0.50      0.41       101\n",
      "\n",
      "    accuracy                           0.86      1030\n",
      "   macro avg       0.65      0.70      0.67      1030\n",
      "weighted avg       0.88      0.86      0.87      1030\n",
      "\n"
     ]
    }
   ],
   "source": [
    "dt_clf = DecisionTreeClassifier(criterion= 'gini', max_depth= 20, min_samples_split= 75, random_state = 0)\n",
    "bag_clf = BaggingClassifier(dt_clf, n_estimators=400, max_samples=700, bootstrap=False, random_state=0)\n",
    "\n",
    "bag_clf.fit(X_train, y_train)\n",
    "y_pred = bag_clf.predict(X_test)\n",
    "\n",
    "print('Train score: %.2f'%bag_clf.score(X_train, y_train))\n",
    "print('Test score: %.2f'%bag_clf.score(X_test, y_test))\n",
    "print('roc_auc score: %.2f'%roc_auc_score(y_test, y_pred))\n",
    "confusion = confusion_matrix(y_test, y_pred)\n",
    "print(\"Confusion matrix decision_tree:\\n{}\".format(confusion))\n",
    "print(\"Train Set classification report:\\n\" ,classification_report(y_train, bag_clf.predict(X_train)))\n",
    "print(\"Test Set classification report:\\n\" ,classification_report(y_test, bag_clf.predict(X_test)))"
   ]
  },
  {
   "cell_type": "code",
   "execution_count": 103,
   "metadata": {},
   "outputs": [],
   "source": [
    "acc = accuracy_score(y_test, y_pred)\n",
    "roc_auc = roc_auc_score(y_test, y_pred)\n",
    "results_dtpaste = pd.DataFrame([['Pasting_DTree', acc, roc_auc]],\n",
    "               columns = ['Model', 'Accuracy', 'ROC_AUC'])\n",
    "results_ensemble = results_ensemble.append(results_dtpaste, ignore_index=True)"
   ]
  },
  {
   "cell_type": "markdown",
   "metadata": {},
   "source": [
    "#### roc_auc score without pasting: 0.65, accuracy: 0.86\n",
    "#### roc_auc score with pasting: 0.7, accuracy: 0.86"
   ]
  },
  {
   "cell_type": "markdown",
   "metadata": {},
   "source": [
    "## Bagging and pasting: kNN classifier"
   ]
  },
  {
   "cell_type": "code",
   "execution_count": 104,
   "metadata": {},
   "outputs": [
    {
     "name": "stdout",
     "output_type": "stream",
     "text": [
      "Train score: 0.85\n",
      "Test score: 0.74\n",
      "Out-of-bag score: 0.85\n",
      "roc_auc score: 0.62\n",
      "Confusion matrix:\n",
      "[[716 213]\n",
      " [ 54  47]]\n",
      "Train Set classification report:\n",
      "               precision    recall  f1-score   support\n",
      "\n",
      "           0       0.90      0.79      0.84      2739\n",
      "           1       0.82      0.91      0.86      2836\n",
      "\n",
      "    accuracy                           0.85      5575\n",
      "   macro avg       0.86      0.85      0.85      5575\n",
      "weighted avg       0.86      0.85      0.85      5575\n",
      "\n",
      "Test Set classification report:\n",
      "               precision    recall  f1-score   support\n",
      "\n",
      "           0       0.93      0.77      0.84       929\n",
      "           1       0.18      0.47      0.26       101\n",
      "\n",
      "    accuracy                           0.74      1030\n",
      "   macro avg       0.56      0.62      0.55      1030\n",
      "weighted avg       0.86      0.74      0.79      1030\n",
      "\n"
     ]
    }
   ],
   "source": [
    "knn = KNeighborsClassifier(leaf_size= 5, n_neighbors= 10)\n",
    "bag_clf = BaggingClassifier(knn, n_estimators=50, max_samples=500, bootstrap=True, random_state=0, oob_score = True)\n",
    "\n",
    "bag_clf.fit(X_train, y_train)\n",
    "y_pred = bag_clf.predict(X_test)\n",
    "\n",
    "print('Train score: %.2f'%bag_clf.score(X_train, y_train))\n",
    "print('Test score: %.2f'%bag_clf.score(X_test, y_test))\n",
    "print('Out-of-bag score: %.2f'%bag_clf.oob_score_)\n",
    "print('roc_auc score: %.2f'%roc_auc_score(y_test, y_pred))\n",
    "confusion = confusion_matrix(y_test, y_pred)\n",
    "print(\"Confusion matrix:\\n{}\".format(confusion))\n",
    "print(\"Train Set classification report:\\n\" ,classification_report(y_train, bag_clf.predict(X_train)))\n",
    "print(\"Test Set classification report:\\n\" ,classification_report(y_test, y_pred))"
   ]
  },
  {
   "cell_type": "code",
   "execution_count": 105,
   "metadata": {},
   "outputs": [],
   "source": [
    "acc = accuracy_score(y_test, y_pred)\n",
    "roc_auc = roc_auc_score(y_test, y_pred)\n",
    "results_knnbag = pd.DataFrame([['Bagging_kNN', acc, roc_auc]],\n",
    "               columns = ['Model', 'Accuracy', 'ROC_AUC'])\n",
    "results_ensemble = results_ensemble.append(results_knnbag, ignore_index=True)"
   ]
  },
  {
   "cell_type": "markdown",
   "metadata": {},
   "source": [
    "#### roc_auc score without bagging: 0.58, accuracy: 0.85\n",
    "#### roc_auc score with bagging: 0.62, accuracy: 0.74"
   ]
  },
  {
   "cell_type": "code",
   "execution_count": 106,
   "metadata": {},
   "outputs": [
    {
     "name": "stdout",
     "output_type": "stream",
     "text": [
      "Train score: 0.85\n",
      "Test score: 0.73\n",
      "roc_auc score: 0.62\n",
      "Confusion matrix:\n",
      "[[707 222]\n",
      " [ 52  49]]\n",
      "Train Set classification report:\n",
      "               precision    recall  f1-score   support\n",
      "\n",
      "           0       0.90      0.78      0.83      2739\n",
      "           1       0.81      0.91      0.86      2836\n",
      "\n",
      "    accuracy                           0.85      5575\n",
      "   macro avg       0.85      0.85      0.85      5575\n",
      "weighted avg       0.85      0.85      0.85      5575\n",
      "\n",
      "Test Set classification report:\n",
      "               precision    recall  f1-score   support\n",
      "\n",
      "           0       0.93      0.76      0.84       929\n",
      "           1       0.18      0.49      0.26       101\n",
      "\n",
      "    accuracy                           0.73      1030\n",
      "   macro avg       0.56      0.62      0.55      1030\n",
      "weighted avg       0.86      0.73      0.78      1030\n",
      "\n"
     ]
    }
   ],
   "source": [
    "knn = KNeighborsClassifier(leaf_size= 5, n_neighbors= 10)\n",
    "bag_clf = BaggingClassifier(knn, n_estimators=100, max_samples=400, bootstrap=False, random_state=0)\n",
    "\n",
    "bag_clf.fit(X_train, y_train)\n",
    "y_pred = bag_clf.predict(X_test)\n",
    "\n",
    "print('Train score: %.2f'%bag_clf.score(X_train, y_train))\n",
    "print('Test score: %.2f'%bag_clf.score(X_test, y_test))\n",
    "print('roc_auc score: %.2f'%roc_auc_score(y_test, y_pred))\n",
    "confusion = confusion_matrix(y_test, y_pred)\n",
    "print(\"Confusion matrix:\\n{}\".format(confusion))\n",
    "print(\"Train Set classification report:\\n\" ,classification_report(y_train, bag_clf.predict(X_train)))\n",
    "print(\"Test Set classification report:\\n\" ,classification_report(y_test, y_pred))"
   ]
  },
  {
   "cell_type": "code",
   "execution_count": 107,
   "metadata": {},
   "outputs": [],
   "source": [
    "acc = accuracy_score(y_test, y_pred)\n",
    "roc_auc = roc_auc_score(y_test, y_pred)\n",
    "results_knnpaste = pd.DataFrame([['Pasting_kNN', acc, roc_auc]],\n",
    "               columns = ['Model', 'Accuracy', 'ROC_AUC'])\n",
    "results_ensemble = results_ensemble.append(results_knnpaste, ignore_index=True)"
   ]
  },
  {
   "cell_type": "markdown",
   "metadata": {},
   "source": [
    "#### roc_auc score without pasting: 0.58, accuracy: 0.85\n",
    "#### roc_auc score with pasting: 0.62, accuracy: 0.73"
   ]
  },
  {
   "cell_type": "markdown",
   "metadata": {},
   "source": [
    "## AdaBoost: Decision Tree Classifier"
   ]
  },
  {
   "cell_type": "code",
   "execution_count": 108,
   "metadata": {},
   "outputs": [
    {
     "name": "stdout",
     "output_type": "stream",
     "text": [
      "Train score: 1.00\n",
      "Test score: 0.88\n",
      "roc_auc score: 0.62\n",
      "Confusion matrix decision_tree:\n",
      "[[873  56]\n",
      " [ 71  30]]\n",
      "Train Set classification report:\n",
      "               precision    recall  f1-score   support\n",
      "\n",
      "           0       1.00      1.00      1.00      2739\n",
      "           1       1.00      1.00      1.00      2836\n",
      "\n",
      "    accuracy                           1.00      5575\n",
      "   macro avg       1.00      1.00      1.00      5575\n",
      "weighted avg       1.00      1.00      1.00      5575\n",
      "\n",
      "Test Set classification report:\n",
      "               precision    recall  f1-score   support\n",
      "\n",
      "           0       0.92      0.94      0.93       929\n",
      "           1       0.35      0.30      0.32       101\n",
      "\n",
      "    accuracy                           0.88      1030\n",
      "   macro avg       0.64      0.62      0.63      1030\n",
      "weighted avg       0.87      0.88      0.87      1030\n",
      "\n"
     ]
    }
   ],
   "source": [
    "ada_clf = AdaBoostClassifier(dt_clf, n_estimators=300, learning_rate=0.15, random_state=0)\n",
    "\n",
    "ada_clf.fit(X_train, y_train)\n",
    "y_pred = ada_clf.predict(X_test)\n",
    "\n",
    "print('Train score: %.2f'%ada_clf.score(X_train, y_train))\n",
    "print('Test score: %.2f'%ada_clf.score(X_test, y_test))\n",
    "print('roc_auc score: %.2f'%roc_auc_score(y_test, y_pred))\n",
    "confusion = confusion_matrix(y_test, y_pred)\n",
    "print(\"Confusion matrix decision_tree:\\n{}\".format(confusion))\n",
    "print(\"Train Set classification report:\\n\" ,classification_report(y_train, ada_clf.predict(X_train)))\n",
    "print(\"Test Set classification report:\\n\" ,classification_report(y_test, y_pred))"
   ]
  },
  {
   "cell_type": "code",
   "execution_count": 109,
   "metadata": {},
   "outputs": [],
   "source": [
    "acc = accuracy_score(y_test, y_pred)\n",
    "roc_auc = roc_auc_score(y_test, y_pred)\n",
    "results_dtAB = pd.DataFrame([['AdaBoost_DTree', acc, roc_auc]],\n",
    "               columns = ['Model', 'Accuracy', 'ROC_AUC'])\n",
    "results_ensemble = results_ensemble.append(results_dtAB, ignore_index=True)"
   ]
  },
  {
   "cell_type": "markdown",
   "metadata": {},
   "source": [
    "##### roc_auc_score before AdaBoost: 0.65, accuracy: 0.86\n",
    "##### roc_auc_score after AdaBoost: 0.62, accuracy: 0.88"
   ]
  },
  {
   "cell_type": "markdown",
   "metadata": {},
   "source": [
    "## AdaBoost: Logistic regression"
   ]
  },
  {
   "cell_type": "code",
   "execution_count": 110,
   "metadata": {},
   "outputs": [
    {
     "name": "stdout",
     "output_type": "stream",
     "text": [
      "Train score: 0.89\n",
      "Test score: 0.87\n",
      "roc_auc score: 0.63\n",
      "Confusion matrix decision_tree:\n",
      "[[863  66]\n",
      " [ 68  33]]\n",
      "Train Set classification report:\n",
      "               precision    recall  f1-score   support\n",
      "\n",
      "           0       0.85      0.94      0.89      2739\n",
      "           1       0.94      0.84      0.89      2836\n",
      "\n",
      "    accuracy                           0.89      5575\n",
      "   macro avg       0.89      0.89      0.89      5575\n",
      "weighted avg       0.89      0.89      0.89      5575\n",
      "\n",
      "Test Set classification report:\n",
      "               precision    recall  f1-score   support\n",
      "\n",
      "           0       0.93      0.93      0.93       929\n",
      "           1       0.33      0.33      0.33       101\n",
      "\n",
      "    accuracy                           0.87      1030\n",
      "   macro avg       0.63      0.63      0.63      1030\n",
      "weighted avg       0.87      0.87      0.87      1030\n",
      "\n"
     ]
    }
   ],
   "source": [
    "ada_clf = AdaBoostClassifier(log_clf, n_estimators=400, learning_rate=0.9, random_state=0)\n",
    "\n",
    "ada_clf.fit(X_train, y_train)\n",
    "y_pred = ada_clf.predict(X_test)\n",
    "\n",
    "print('Train score: %.2f'%ada_clf.score(X_train, y_train))\n",
    "print('Test score: %.2f'%ada_clf.score(X_test, y_test))\n",
    "print('roc_auc score: %.2f'%roc_auc_score(y_test, y_pred))\n",
    "confusion = confusion_matrix(y_test, y_pred)\n",
    "print(\"Confusion matrix decision_tree:\\n{}\".format(confusion))\n",
    "print(\"Train Set classification report:\\n\" ,classification_report(y_train, ada_clf.predict(X_train)))\n",
    "print(\"Test Set classification report:\\n\" ,classification_report(y_test, y_pred))"
   ]
  },
  {
   "cell_type": "code",
   "execution_count": 111,
   "metadata": {},
   "outputs": [],
   "source": [
    "acc = accuracy_score(y_test, y_pred)\n",
    "roc_auc = roc_auc_score(y_test, y_pred)\n",
    "results_logAB = pd.DataFrame([['AdaBoost_Logistic', acc, roc_auc]],\n",
    "               columns = ['Model', 'Accuracy', 'ROC_AUC'])\n",
    "results_ensemble = results_ensemble.append(results_logAB, ignore_index=True)"
   ]
  },
  {
   "cell_type": "markdown",
   "metadata": {},
   "source": [
    "##### roc_auc score before AdaBoost: 0.5767, accuracy: 0.8970\n",
    "##### roc_auc score after AdaBoost: 0.63, accuracy: 0.87"
   ]
  },
  {
   "cell_type": "markdown",
   "metadata": {},
   "source": [
    "## Gradient Boosting"
   ]
  },
  {
   "cell_type": "code",
   "execution_count": 112,
   "metadata": {},
   "outputs": [
    {
     "name": "stdout",
     "output_type": "stream",
     "text": [
      "Fitting 5 folds for each of 24 candidates, totalling 120 fits\n"
     ]
    },
    {
     "name": "stderr",
     "output_type": "stream",
     "text": [
      "[Parallel(n_jobs=-1)]: Using backend LokyBackend with 8 concurrent workers.\n",
      "[Parallel(n_jobs=-1)]: Done  16 tasks      | elapsed:   16.8s\n",
      "[Parallel(n_jobs=-1)]: Done 120 out of 120 | elapsed:  2.6min finished\n"
     ]
    },
    {
     "name": "stdout",
     "output_type": "stream",
     "text": [
      "Best parameters: {'learning_rate': 0.5, 'max_depth': 20, 'min_samples_split': 20, 'n_estimators': 200}\n",
      "Best cross-validation score: 0.98\n",
      "Train score: 1.00\n",
      "Test score: 0.70\n",
      "roc_auc score: 0.60\n",
      "Confusion matrix decision_tree:\n",
      "[[883  46]\n",
      " [ 75  26]]\n"
     ]
    }
   ],
   "source": [
    "grbt_grid = GradientBoostingClassifier(random_state=0)\n",
    "param_grid_grbt = {\"learning_rate\": [0.5, 0.8],\n",
    "                   \"n_estimators\": [100, 200],\n",
    "              \"min_samples_split\": [15, 20],\n",
    "              \"max_depth\": [10, 20, 30]\n",
    "              }\n",
    "grbt_clf = GridSearchCV(grbt_grid, param_grid_grbt, scoring = 'roc_auc', refit = True, verbose = 3, cv = 5, n_jobs=-1) \n",
    "  \n",
    "grbt_clf.fit(X_train, y_train)\n",
    "y_pred = grbt_clf.predict(X_test)\n",
    "\n",
    "print(\"Best parameters: {}\".format(grbt_clf.best_params_))\n",
    "print(\"Best cross-validation score: {:.2f}\".format(grbt_clf.best_score_))\n",
    "\n",
    "print('Train score: %.2f'%grbt_clf.score(X_train, y_train))\n",
    "print('Test score: %.2f'%grbt_clf.score(X_test, y_test))\n",
    "print('roc_auc score: %.2f'%roc_auc_score(y_test, y_pred))\n",
    "confusion = confusion_matrix(y_test, y_pred)\n",
    "print(\"Confusion matrix decision_tree:\\n{}\".format(confusion))"
   ]
  },
  {
   "cell_type": "markdown",
   "metadata": {},
   "source": [
    "roc_auc score and accuracy both decrease in gradient boosting as compared to the base decision tree model."
   ]
  },
  {
   "cell_type": "code",
   "execution_count": 113,
   "metadata": {},
   "outputs": [],
   "source": [
    "acc = accuracy_score(y_test, y_pred)\n",
    "roc_auc = roc_auc_score(y_test, y_pred)\n",
    "results_grbt = pd.DataFrame([['GradientB_clf', acc, roc_auc]],\n",
    "               columns = ['Model', 'Accuracy', 'ROC_AUC'])\n",
    "results_ensemble = results_ensemble.append(results_grbt, ignore_index=True)"
   ]
  },
  {
   "cell_type": "markdown",
   "metadata": {},
   "source": [
    "### Feature importances using gradient boosting classifier"
   ]
  },
  {
   "cell_type": "code",
   "execution_count": 114,
   "metadata": {},
   "outputs": [
    {
     "data": {
      "text/plain": [
       "([<matplotlib.axis.YTick at 0x20e4f431308>,\n",
       "  <matplotlib.axis.YTick at 0x20e4f6f0248>,\n",
       "  <matplotlib.axis.YTick at 0x20e4f682c48>,\n",
       "  <matplotlib.axis.YTick at 0x20e4f474d48>,\n",
       "  <matplotlib.axis.YTick at 0x20e4f4eaec8>,\n",
       "  <matplotlib.axis.YTick at 0x20e4f4f36c8>,\n",
       "  <matplotlib.axis.YTick at 0x20e4f4f3ec8>,\n",
       "  <matplotlib.axis.YTick at 0x20e4f4f96c8>,\n",
       "  <matplotlib.axis.YTick at 0x20e4f4f9ec8>,\n",
       "  <matplotlib.axis.YTick at 0x20e4f4fd1c8>,\n",
       "  <matplotlib.axis.YTick at 0x20e4f4fdb48>,\n",
       "  <matplotlib.axis.YTick at 0x20e4f500588>,\n",
       "  <matplotlib.axis.YTick at 0x20e4f502108>,\n",
       "  <matplotlib.axis.YTick at 0x20e4f502c48>,\n",
       "  <matplotlib.axis.YTick at 0x20e4f5077c8>,\n",
       "  <matplotlib.axis.YTick at 0x20e4f50a348>,\n",
       "  <matplotlib.axis.YTick at 0x20e4f50ae88>,\n",
       "  <matplotlib.axis.YTick at 0x20e4f500e08>,\n",
       "  <matplotlib.axis.YTick at 0x20e4f4742c8>,\n",
       "  <matplotlib.axis.YTick at 0x20e4f512248>,\n",
       "  <matplotlib.axis.YTick at 0x20e4f512c08>,\n",
       "  <matplotlib.axis.YTick at 0x20e4f514608>,\n",
       "  <matplotlib.axis.YTick at 0x20e4f518108>,\n",
       "  <matplotlib.axis.YTick at 0x20e4f518c48>,\n",
       "  <matplotlib.axis.YTick at 0x20e4f51e7c8>,\n",
       "  <matplotlib.axis.YTick at 0x20e4f521348>,\n",
       "  <matplotlib.axis.YTick at 0x20e4f521e88>,\n",
       "  <matplotlib.axis.YTick at 0x20e4f5146c8>,\n",
       "  <matplotlib.axis.YTick at 0x20e4f5246c8>,\n",
       "  <matplotlib.axis.YTick at 0x20e4f5260c8>,\n",
       "  <matplotlib.axis.YTick at 0x20e4f526a88>,\n",
       "  <matplotlib.axis.YTick at 0x20e4f52a588>,\n",
       "  <matplotlib.axis.YTick at 0x20e4f52d108>,\n",
       "  <matplotlib.axis.YTick at 0x20e4f52dc48>,\n",
       "  <matplotlib.axis.YTick at 0x20e4f5317c8>,\n",
       "  <matplotlib.axis.YTick at 0x20e4f536348>,\n",
       "  <matplotlib.axis.YTick at 0x20e4f52dbc8>,\n",
       "  <matplotlib.axis.YTick at 0x20e4f5367c8>,\n",
       "  <matplotlib.axis.YTick at 0x20e4f53a488>,\n",
       "  <matplotlib.axis.YTick at 0x20e4f53ae48>,\n",
       "  <matplotlib.axis.YTick at 0x20e4f53d848>],\n",
       " [Text(0, 0, 'age'),\n",
       "  Text(0, 1, 'pdays'),\n",
       "  Text(0, 2, 'previous'),\n",
       "  Text(0, 3, 'cons.price.idx'),\n",
       "  Text(0, 4, 'cons.conf.idx'),\n",
       "  Text(0, 5, 'euribor3m'),\n",
       "  Text(0, 6, 'nr.employed'),\n",
       "  Text(0, 7, 'job_admin.'),\n",
       "  Text(0, 8, 'job_blue-collar'),\n",
       "  Text(0, 9, 'job_entrepreneur'),\n",
       "  Text(0, 10, 'job_housemaid'),\n",
       "  Text(0, 11, 'job_management'),\n",
       "  Text(0, 12, 'job_retired'),\n",
       "  Text(0, 13, 'job_self-employed'),\n",
       "  Text(0, 14, 'job_services'),\n",
       "  Text(0, 15, 'job_student'),\n",
       "  Text(0, 16, 'job_technician'),\n",
       "  Text(0, 17, 'job_unemployed'),\n",
       "  Text(0, 18, 'education_basic.4y'),\n",
       "  Text(0, 19, 'education_basic.6y'),\n",
       "  Text(0, 20, 'education_basic.9y'),\n",
       "  Text(0, 21, 'education_high.school'),\n",
       "  Text(0, 22, 'education_illiterate'),\n",
       "  Text(0, 23, 'education_professional.course'),\n",
       "  Text(0, 24, 'education_university.degree'),\n",
       "  Text(0, 25, 'education_unknown'),\n",
       "  Text(0, 26, 'marital_divorced'),\n",
       "  Text(0, 27, 'marital_married'),\n",
       "  Text(0, 28, 'marital_single'),\n",
       "  Text(0, 29, 'default_no'),\n",
       "  Text(0, 30, 'default_unknown'),\n",
       "  Text(0, 31, 'default_yes'),\n",
       "  Text(0, 32, 'housing_no'),\n",
       "  Text(0, 33, 'housing_unknown'),\n",
       "  Text(0, 34, 'housing_yes'),\n",
       "  Text(0, 35, 'loan_no'),\n",
       "  Text(0, 36, 'loan_unknown'),\n",
       "  Text(0, 37, 'loan_yes'),\n",
       "  Text(0, 38, 'poutcome_failure'),\n",
       "  Text(0, 39, 'poutcome_nonexistent'),\n",
       "  Text(0, 40, 'poutcome_success')])"
      ]
     },
     "execution_count": 114,
     "metadata": {},
     "output_type": "execute_result"
    },
    {
     "data": {
      "image/png": "[encoded data removed]",
      "text/plain": [
       "<Figure size 1440x720 with 1 Axes>"
      ]
     },
     "metadata": {
      "needs_background": "light"
     },
     "output_type": "display_data"
    }
   ],
   "source": [
    "grbt = GradientBoostingClassifier(learning_rate=0.5, max_depth=20, min_samples_split=20, n_estimators=200, random_state=0)\n",
    "grbt.fit(X_train, y_train)\n",
    "%matplotlib inline\n",
    "\n",
    "plt.subplots(figsize = (20,10))\n",
    "y_list = grbt.feature_importances_\n",
    "y_pos = np.arange(len(y_list))\n",
    "features = list(X.columns)\n",
    "plt.barh(y_pos, y_list, align='center', alpha=0.4)\n",
    "plt.yticks(y_pos, features)"
   ]
  },
  {
   "cell_type": "markdown",
   "metadata": {},
   "source": [
    "## Principal Component Analysis"
   ]
  },
  {
   "cell_type": "code",
   "execution_count": 116,
   "metadata": {},
   "outputs": [],
   "source": [
    "from sklearn.decomposition import PCA\n",
    "pca = PCA(n_components=0.95)\n",
    "X_train_pca= pd.DataFrame(pca.fit_transform(X_train))\n",
    "X_test_pca = pd.DataFrame(pca.transform(X_test))"
   ]
  },
  {
   "cell_type": "code",
   "execution_count": 117,
   "metadata": {},
   "outputs": [
    {
     "data": {
      "text/plain": [
       "0.9563926586175797"
      ]
     },
     "execution_count": 117,
     "metadata": {},
     "output_type": "execute_result"
    }
   ],
   "source": [
    "pca.explained_variance_ratio_.sum()"
   ]
  },
  {
   "cell_type": "code",
   "execution_count": 118,
   "metadata": {},
   "outputs": [
    {
     "name": "stdout",
     "output_type": "stream",
     "text": [
      "<class 'pandas.core.frame.DataFrame'>\n",
      "RangeIndex: 5575 entries, 0 to 5574\n",
      "Data columns (total 26 columns):\n",
      " #   Column  Non-Null Count  Dtype  \n",
      "---  ------  --------------  -----  \n",
      " 0   0       5575 non-null   float64\n",
      " 1   1       5575 non-null   float64\n",
      " 2   2       5575 non-null   float64\n",
      " 3   3       5575 non-null   float64\n",
      " 4   4       5575 non-null   float64\n",
      " 5   5       5575 non-null   float64\n",
      " 6   6       5575 non-null   float64\n",
      " 7   7       5575 non-null   float64\n",
      " 8   8       5575 non-null   float64\n",
      " 9   9       5575 non-null   float64\n",
      " 10  10      5575 non-null   float64\n",
      " 11  11      5575 non-null   float64\n",
      " 12  12      5575 non-null   float64\n",
      " 13  13      5575 non-null   float64\n",
      " 14  14      5575 non-null   float64\n",
      " 15  15      5575 non-null   float64\n",
      " 16  16      5575 non-null   float64\n",
      " 17  17      5575 non-null   float64\n",
      " 18  18      5575 non-null   float64\n",
      " 19  19      5575 non-null   float64\n",
      " 20  20      5575 non-null   float64\n",
      " 21  21      5575 non-null   float64\n",
      " 22  22      5575 non-null   float64\n",
      " 23  23      5575 non-null   float64\n",
      " 24  24      5575 non-null   float64\n",
      " 25  25      5575 non-null   float64\n",
      "dtypes: float64(26)\n",
      "memory usage: 1.1 MB\n"
     ]
    }
   ],
   "source": [
    "X_train_pca.info()"
   ]
  },
  {
   "cell_type": "markdown",
   "metadata": {},
   "source": [
    "# Models after dimension reduction"
   ]
  },
  {
   "cell_type": "markdown",
   "metadata": {},
   "source": [
    "## kNN classifier"
   ]
  },
  {
   "cell_type": "code",
   "execution_count": 119,
   "metadata": {},
   "outputs": [
    {
     "name": "stdout",
     "output_type": "stream",
     "text": [
      "Best parameters: {'algorithm': 'auto', 'leaf_size': 1, 'n_neighbors': 10}\n",
      "Best cross-validation score: 0.95\n"
     ]
    }
   ],
   "source": [
    "knn = KNeighborsClassifier()\n",
    "\n",
    "knn_param_grid = {'n_neighbors':[1,2,3,5,7,10,15,25],\n",
    "              'leaf_size':[1,3,5,7],\n",
    "              'algorithm':['auto']}\n",
    "\n",
    "#Fit the model 5-fold cross validation\n",
    "KNN_grid = GridSearchCV(knn, knn_param_grid, cv=5, scoring = 'roc_auc', n_jobs=-1)\n",
    "knn=KNN_grid.fit(X_train_pca, y_train)\n",
    "print(\"Best parameters: {}\".format(knn.best_params_))\n",
    "print(\"Best cross-validation score: {:.2f}\".format(knn.best_score_))"
   ]
  },
  {
   "cell_type": "code",
   "execution_count": 120,
   "metadata": {},
   "outputs": [
    {
     "name": "stdout",
     "output_type": "stream",
     "text": [
      "     Model  Accuracy  Precision    Recall  F1 Score  ROC_AUC\n",
      "0  KNN_PCA   0.83301   0.237037  0.316832  0.271186  0.60298\n"
     ]
    }
   ],
   "source": [
    "y_pred = knn.predict(X_test_pca)\n",
    "\n",
    "acc = accuracy_score(y_test, y_pred)\n",
    "prec = precision_score(y_test, y_pred, pos_label=1)\n",
    "rec = recall_score(y_test, y_pred, pos_label=1)\n",
    "f1 = f1_score(y_test, y_pred, pos_label=1)\n",
    "roc_auc = roc_auc_score(y_test, y_pred)\n",
    "\n",
    "model_results_knn = pd.DataFrame([['KNN_PCA', acc, prec, rec, f1, roc_auc]],\n",
    "               columns = ['Model', 'Accuracy', 'Precision', 'Recall', 'F1 Score', 'ROC_AUC'])\n",
    "\n",
    "print(model_results_knn)\n",
    "results_pca=model_results_knn"
   ]
  },
  {
   "cell_type": "code",
   "execution_count": 121,
   "metadata": {},
   "outputs": [],
   "source": [
    "fpr, tpr, _ = roc_curve(y_test,  pos_probs)\n",
    "roc_table_pca = pd.DataFrame([['KNN', fpr, tpr]],\n",
    "               columns=['classifiers', 'fpr', 'tpr'])"
   ]
  },
  {
   "cell_type": "markdown",
   "metadata": {},
   "source": [
    "## Logistic regression"
   ]
  },
  {
   "cell_type": "code",
   "execution_count": 122,
   "metadata": {},
   "outputs": [
    {
     "name": "stdout",
     "output_type": "stream",
     "text": [
      "Best parameters: {'C': 0.1, 'max_iter': 10, 'penalty': 'l2'}\n",
      "Best cross-validation score: 0.95\n"
     ]
    }
   ],
   "source": [
    "lreg=LogisticRegression(random_state = 0)\n",
    "penalty = ['l1', 'l2']\n",
    "# Create regularization hyperparameter space\n",
    "C = [0.001,0.01,0.1,10,100,1000]\n",
    "max_iter=[10,100,1000]\n",
    "hyperparameters = dict(C=C, penalty=penalty, max_iter=max_iter)\n",
    "\n",
    "# Create grid search using 5-fold cross validation\n",
    "grid_lreg = GridSearchCV(lreg, hyperparameters, cv=5, scoring = 'roc_auc', verbose=0)\n",
    "# Fit grid search\n",
    "logistic = grid_lreg.fit(X_train_pca, y_train)\n",
    "print(\"Best parameters: {}\".format(logistic.best_params_))\n",
    "print(\"Best cross-validation score: {:.2f}\".format(logistic.best_score_))"
   ]
  },
  {
   "cell_type": "code",
   "execution_count": 123,
   "metadata": {},
   "outputs": [
    {
     "name": "stdout",
     "output_type": "stream",
     "text": [
      "                     Model  Accuracy  Precision    Recall  F1 Score   ROC_AUC\n",
      "0  Logistic_Regression_PCA  0.899029   0.459459  0.168317  0.246377  0.573394\n"
     ]
    }
   ],
   "source": [
    "y_pred = logistic.predict(X_test_pca)\n",
    "\n",
    "acc = accuracy_score(y_test, y_pred)\n",
    "prec = precision_score(y_test, y_pred,pos_label=1)\n",
    "rec = recall_score(y_test, y_pred, pos_label=1)\n",
    "f1 = f1_score(y_test, y_pred,pos_label=1)\n",
    "roc_auc = roc_auc_score(y_test, y_pred)\n",
    "\n",
    "model_results_lr = pd.DataFrame([['Logistic_Regression_PCA', acc, prec, rec, f1, roc_auc]],\n",
    "                                columns = ['Model', 'Accuracy', 'Precision', 'Recall', 'F1 Score', 'ROC_AUC'])\n",
    "print(model_results_lr)\n",
    "results_pca = results_pca.append(model_results_lr, ignore_index = True)"
   ]
  },
  {
   "cell_type": "code",
   "execution_count": 124,
   "metadata": {},
   "outputs": [],
   "source": [
    "fpr, tpr, _ = roc_curve(y_test,  pos_probs)\n",
    "roc_table_pca = roc_table_pca.append({'classifiers': 'Logistic',\n",
    "                                        'fpr':fpr, \n",
    "                                        'tpr':tpr}, ignore_index=True)"
   ]
  },
  {
   "cell_type": "markdown",
   "metadata": {},
   "source": [
    "## Linear SVC"
   ]
  },
  {
   "cell_type": "code",
   "execution_count": 125,
   "metadata": {},
   "outputs": [
    {
     "name": "stdout",
     "output_type": "stream",
     "text": [
      "Fitting 5 folds for each of 7 candidates, totalling 35 fits\n"
     ]
    },
    {
     "name": "stderr",
     "output_type": "stream",
     "text": [
      "[Parallel(n_jobs=-1)]: Using backend LokyBackend with 8 concurrent workers.\n",
      "[Parallel(n_jobs=-1)]: Done   8 out of  35 | elapsed:    0.0s remaining:    0.1s\n"
     ]
    },
    {
     "name": "stdout",
     "output_type": "stream",
     "text": [
      "Best parameters: {'C': 0.01}\n",
      "Best cross-validation score: 0.95\n"
     ]
    },
    {
     "name": "stderr",
     "output_type": "stream",
     "text": [
      "[Parallel(n_jobs=-1)]: Done  35 out of  35 | elapsed:    1.5s finished\n"
     ]
    }
   ],
   "source": [
    "linear_SVM = LinearSVC(random_state=0)\n",
    "# Grid search for hyperparameter tuning\n",
    "param_grid_svm = {'C': [0.001, 0.01, 0.10, 1, 10, 11, 100]}  \n",
    " \n",
    "linsvm_grid = GridSearchCV(linear_SVM, param_grid_svm, scoring = 'roc_auc', refit = True, verbose = 3, cv = 5, n_jobs=-1) \n",
    "  \n",
    "# fitting the model for grid search \n",
    "linSVM = linsvm_grid.fit(X_train_pca, y_train)\n",
    "print(\"Best parameters: {}\".format(linSVM.best_params_))\n",
    "print(\"Best cross-validation score: {:.2f}\".format(linSVM.best_score_))"
   ]
  },
  {
   "cell_type": "code",
   "execution_count": 126,
   "metadata": {},
   "outputs": [
    {
     "name": "stdout",
     "output_type": "stream",
     "text": [
      "           Model  Accuracy  Precision    Recall  F1 Score   ROC_AUC\n",
      "0  LinearSVM_PCA  0.899029   0.457143  0.158416  0.235294  0.568982\n"
     ]
    }
   ],
   "source": [
    "#Predict test data using best model\n",
    "y_pred=linSVM.predict(X_test_pca)\n",
    "\n",
    "acc = accuracy_score(y_test, y_pred)\n",
    "prec = precision_score(y_test, y_pred,pos_label=1)\n",
    "rec = recall_score(y_test, y_pred, pos_label=1)\n",
    "f1 = f1_score(y_test, y_pred,pos_label=1)\n",
    "roc_auc = roc_auc_score(y_test, y_pred)\n",
    "\n",
    "model_results_linsvm = pd.DataFrame([['LinearSVM_PCA', acc, prec, rec, f1, roc_auc]],\n",
    "               columns = ['Model', 'Accuracy', 'Precision', 'Recall', 'F1 Score', 'ROC_AUC'])\n",
    "print(model_results_linsvm)\n",
    "results_pca = results_pca.append(model_results_linsvm, ignore_index = True)"
   ]
  },
  {
   "cell_type": "code",
   "execution_count": 127,
   "metadata": {},
   "outputs": [],
   "source": [
    "fpr, tpr, _ = roc_curve(y_test, linSVM.decision_function(X_test_pca))\n",
    "roc_table_pca = roc_table_pca.append({'classifiers': 'linSVM',\n",
    "                                        'fpr':fpr, \n",
    "                                        'tpr':tpr}, ignore_index=True)"
   ]
  },
  {
   "cell_type": "markdown",
   "metadata": {},
   "source": [
    "## Kernel SVM: Linear"
   ]
  },
  {
   "cell_type": "code",
   "execution_count": 128,
   "metadata": {},
   "outputs": [
    {
     "name": "stderr",
     "output_type": "stream",
     "text": [
      "[Parallel(n_jobs=-1)]: Using backend LokyBackend with 8 concurrent workers.\n"
     ]
    },
    {
     "name": "stdout",
     "output_type": "stream",
     "text": [
      "Fitting 5 folds for each of 5 candidates, totalling 25 fits\n"
     ]
    },
    {
     "name": "stderr",
     "output_type": "stream",
     "text": [
      "[Parallel(n_jobs=-1)]: Done  19 out of  25 | elapsed:    2.3s remaining:    0.7s\n",
      "[Parallel(n_jobs=-1)]: Done  25 out of  25 | elapsed:    5.0s finished\n"
     ]
    },
    {
     "name": "stdout",
     "output_type": "stream",
     "text": [
      "Best parameters: {'C': 0.01}\n",
      "Best cross-validation score: 0.95\n"
     ]
    }
   ],
   "source": [
    "kernelSVM_lin = SVC(kernel = 'linear')\n",
    "param_grid_ksvm_lin = {'C': [0.001,0.01, 0.1, 1, 10]}  \n",
    "ksvm_lin_grid = GridSearchCV(kernelSVM_lin, param_grid_ksvm_lin, scoring = 'roc_auc', refit = True, verbose = 3, cv = 5, n_jobs = -1)\n",
    "kernelsvm_lin= ksvm_lin_grid.fit(X_train_pca, y_train)\n",
    "print(\"Best parameters: {}\".format(kernelsvm_lin.best_params_))\n",
    "print(\"Best cross-validation score: {:.2f}\".format(kernelsvm_lin.best_score_))"
   ]
  },
  {
   "cell_type": "code",
   "execution_count": 129,
   "metadata": {},
   "outputs": [
    {
     "name": "stdout",
     "output_type": "stream",
     "text": [
      "                  Model  Accuracy  Precision    Recall  F1 Score   ROC_AUC\n",
      "0  SVM_KernelLinear_PCA  0.901942        0.5  0.148515  0.229008  0.566184\n"
     ]
    }
   ],
   "source": [
    "#Predict test data using best model\n",
    "y_pred = kernelsvm_lin.predict(X_test_pca)\n",
    "\n",
    "acc = accuracy_score(y_test, y_pred)\n",
    "prec = precision_score(y_test, y_pred,pos_label=1)\n",
    "rec = recall_score(y_test, y_pred, pos_label=1)\n",
    "f1 = f1_score(y_test, y_pred,pos_label=1)\n",
    "roc_auc = roc_auc_score(y_test, y_pred)\n",
    "\n",
    "model_results_klsvm = pd.DataFrame([['SVM_KernelLinear_PCA', acc, prec, rec, f1, roc_auc]],\n",
    "               columns = ['Model', 'Accuracy', 'Precision', 'Recall', 'F1 Score', 'ROC_AUC'])\n",
    "\n",
    "print(model_results_klsvm)\n",
    "results_pca = results_pca.append(model_results_klsvm, ignore_index = True)"
   ]
  },
  {
   "cell_type": "code",
   "execution_count": 130,
   "metadata": {},
   "outputs": [],
   "source": [
    "fpr, tpr, _ = roc_curve(y_test, kernelsvm_lin.decision_function(X_test_pca))\n",
    "roc_table_pca = roc_table_pca.append({'classifiers': 'KernelSVM_lin',\n",
    "                                        'fpr':fpr, \n",
    "                                        'tpr':tpr}, ignore_index=True)"
   ]
  },
  {
   "cell_type": "markdown",
   "metadata": {},
   "source": [
    "## Kernel SVM: Poly"
   ]
  },
  {
   "cell_type": "code",
   "execution_count": 131,
   "metadata": {},
   "outputs": [
    {
     "name": "stdout",
     "output_type": "stream",
     "text": [
      "Fitting 5 folds for each of 20 candidates, totalling 100 fits\n"
     ]
    },
    {
     "name": "stderr",
     "output_type": "stream",
     "text": [
      "[Parallel(n_jobs=-1)]: Using backend LokyBackend with 8 concurrent workers.\n",
      "[Parallel(n_jobs=-1)]: Done  16 tasks      | elapsed:    1.4s\n",
      "[Parallel(n_jobs=-1)]: Done 100 out of 100 | elapsed:   23.4s finished\n"
     ]
    },
    {
     "name": "stdout",
     "output_type": "stream",
     "text": [
      "Best parameters: {'C': 0.1, 'coef0': 1, 'degree': 5, 'kernel': 'poly'}\n",
      "Best cross-validation score: 0.96\n"
     ]
    }
   ],
   "source": [
    "kernelSVM_poly = SVC()\n",
    "# Grid search for hyperparameter tuning \n",
    "param_grid_ksvm_poly = {'C': [0.1, 1, 10, 20, 100], 'degree': [1,3,4,5], 'coef0': [1], \n",
    "                       'kernel': ['poly']}  \n",
    "ksvm_poly_grid = GridSearchCV(kernelSVM_poly, param_grid_ksvm_poly, scoring = 'roc_auc', refit = True, verbose = 3, cv = 5, n_jobs=-1) \n",
    "  \n",
    "# fitting the model for grid search \n",
    "kernelsvm_poly= ksvm_poly_grid.fit(X_train_pca, y_train)\n",
    "print(\"Best parameters: {}\".format(kernelsvm_poly.best_params_))\n",
    "print(\"Best cross-validation score: {:.2f}\".format(kernelsvm_poly.best_score_))"
   ]
  },
  {
   "cell_type": "code",
   "execution_count": 132,
   "metadata": {},
   "outputs": [
    {
     "name": "stdout",
     "output_type": "stream",
     "text": [
      "                Model  Accuracy  Precision    Recall  F1 Score   ROC_AUC\n",
      "0  SVM_KernelPoly_PCA  0.879612   0.305085  0.178218     0.225  0.567042\n"
     ]
    }
   ],
   "source": [
    "#Predict test data using best model\n",
    "y_pred = kernelsvm_poly.predict(X_test_pca)\n",
    "\n",
    "acc = accuracy_score(y_test, y_pred)\n",
    "prec = precision_score(y_test, y_pred,pos_label=1)\n",
    "rec = recall_score(y_test, y_pred, pos_label=1)\n",
    "f1 = f1_score(y_test, y_pred,pos_label=1)\n",
    "roc_auc = roc_auc_score(y_test, y_pred)\n",
    "\n",
    "model_results_polysvm = pd.DataFrame([['SVM_KernelPoly_PCA', acc, prec, rec, f1, roc_auc]],\n",
    "               columns = ['Model', 'Accuracy', 'Precision', 'Recall', 'F1 Score', 'ROC_AUC'])\n",
    "\n",
    "print(model_results_polysvm)\n",
    "results_pca = results_pca.append(model_results_polysvm, ignore_index = True)"
   ]
  },
  {
   "cell_type": "code",
   "execution_count": 133,
   "metadata": {},
   "outputs": [],
   "source": [
    "fpr, tpr, _ = roc_curve(y_test, kernelsvm_poly.decision_function(X_test_pca))\n",
    "roc_table_pca = roc_table_pca.append({'classifiers': 'KernelSVM_poly',\n",
    "                                        'fpr':fpr, \n",
    "                                        'tpr':tpr}, ignore_index=True)"
   ]
  },
  {
   "cell_type": "markdown",
   "metadata": {},
   "source": [
    "## Kernel SVM: rbf"
   ]
  },
  {
   "cell_type": "code",
   "execution_count": 134,
   "metadata": {},
   "outputs": [
    {
     "name": "stdout",
     "output_type": "stream",
     "text": [
      "Fitting 5 folds for each of 25 candidates, totalling 125 fits\n"
     ]
    },
    {
     "name": "stderr",
     "output_type": "stream",
     "text": [
      "[Parallel(n_jobs=-1)]: Using backend LokyBackend with 8 concurrent workers.\n",
      "[Parallel(n_jobs=-1)]: Done  16 tasks      | elapsed:    4.3s\n",
      "[Parallel(n_jobs=-1)]: Done 125 out of 125 | elapsed:   22.8s finished\n"
     ]
    },
    {
     "name": "stdout",
     "output_type": "stream",
     "text": [
      "Best parameters: {'C': 0.1, 'gamma': 1, 'kernel': 'rbf'}\n",
      "Best cross-validation score: 0.96\n"
     ]
    }
   ],
   "source": [
    "kernelSVM_rbf = SVC()\n",
    "# Grid search\n",
    "param_grid_ksvm_rbf = {'C': [0.1, 1, 10, 100, 1000],  \n",
    "              'gamma': [1, 0.1, 0.01, 0.001, 0.0001], \n",
    "              'kernel': ['rbf']}  \n",
    "ksvm_rbf_grid = GridSearchCV(kernelSVM_rbf, param_grid_ksvm_rbf, scoring = 'roc_auc', refit = True, verbose = 3, cv = 5, n_jobs=-1) \n",
    "  \n",
    "# fitting the model for grid search \n",
    "kernelsvm_rbf= ksvm_rbf_grid.fit(X_train_pca, y_train)\n",
    "print(\"Best parameters: {}\".format(kernelsvm_rbf.best_params_))\n",
    "print(\"Best cross-validation score: {:.2f}\".format(kernelsvm_rbf.best_score_))"
   ]
  },
  {
   "cell_type": "code",
   "execution_count": 135,
   "metadata": {},
   "outputs": [
    {
     "name": "stdout",
     "output_type": "stream",
     "text": [
      "               Model  Accuracy  Precision    Recall  F1 Score   ROC_AUC\n",
      "0  SVM_Kernelrbf_PCA  0.899029   0.333333  0.029703  0.054545  0.511622\n"
     ]
    }
   ],
   "source": [
    "#Predict test data using best model\n",
    "y_pred = kernelsvm_rbf.predict(X_test_pca)\n",
    "\n",
    "acc = accuracy_score(y_test, y_pred)\n",
    "prec = precision_score(y_test, y_pred,pos_label=1)\n",
    "rec = recall_score(y_test, y_pred, pos_label=1)\n",
    "f1 = f1_score(y_test, y_pred,pos_label=1)\n",
    "roc_auc = roc_auc_score(y_test, y_pred)\n",
    "\n",
    "model_results_rbfsvm = pd.DataFrame([['SVM_Kernelrbf_PCA', acc, prec, rec, f1, roc_auc]],\n",
    "               columns = ['Model', 'Accuracy', 'Precision', 'Recall', 'F1 Score', 'ROC_AUC'])\n",
    "\n",
    "print(model_results_rbfsvm)\n",
    "results_pca = results_pca.append(model_results_rbfsvm, ignore_index = True)"
   ]
  },
  {
   "cell_type": "code",
   "execution_count": 136,
   "metadata": {},
   "outputs": [],
   "source": [
    "fpr, tpr, _ = roc_curve(y_test, kernelsvm_rbf.decision_function(X_test_pca))\n",
    "roc_table_pca = roc_table_pca.append({'classifiers': 'KernelSVM_rbf',\n",
    "                                        'fpr':fpr, \n",
    "                                        'tpr':tpr}, ignore_index=True)"
   ]
  },
  {
   "cell_type": "markdown",
   "metadata": {},
   "source": [
    "## Decision tree classifier"
   ]
  },
  {
   "cell_type": "code",
   "execution_count": 137,
   "metadata": {},
   "outputs": [
    {
     "name": "stdout",
     "output_type": "stream",
     "text": [
      "Fitting 5 folds for each of 48 candidates, totalling 240 fits\n"
     ]
    },
    {
     "name": "stderr",
     "output_type": "stream",
     "text": [
      "[Parallel(n_jobs=-1)]: Using backend LokyBackend with 8 concurrent workers.\n",
      "[Parallel(n_jobs=-1)]: Done  16 tasks      | elapsed:    0.2s\n",
      "[Parallel(n_jobs=-1)]: Done 208 tasks      | elapsed:    7.5s\n"
     ]
    },
    {
     "name": "stdout",
     "output_type": "stream",
     "text": [
      "Best parameters: {'criterion': 'entropy', 'max_depth': 10, 'min_samples_split': 70}\n",
      "Best cross-validation score: 0.92\n"
     ]
    },
    {
     "name": "stderr",
     "output_type": "stream",
     "text": [
      "[Parallel(n_jobs=-1)]: Done 240 out of 240 | elapsed:    8.9s finished\n"
     ]
    }
   ],
   "source": [
    "dtree = DecisionTreeClassifier(random_state = 0)\n",
    "param_grid_dtree = {\"criterion\": [\"gini\", \"entropy\"],\n",
    "              \"min_samples_split\": [10, 20, 30, 40, 70, 75],\n",
    "              \"max_depth\": [7, 10, 20, 30]\n",
    "              }\n",
    "dtree_grid = GridSearchCV(dtree, param_grid_dtree, scoring = 'roc_auc', refit = True, verbose = 3, cv = 5, n_jobs=-1) \n",
    "  \n",
    "# fitting the model for grid search \n",
    "model_dtree = dtree_grid.fit(X_train_pca, y_train)\n",
    "print(\"Best parameters: {}\".format(model_dtree.best_params_))\n",
    "print(\"Best cross-validation score: {:.2f}\".format(model_dtree.best_score_))"
   ]
  },
  {
   "cell_type": "code",
   "execution_count": 138,
   "metadata": {},
   "outputs": [
    {
     "name": "stdout",
     "output_type": "stream",
     "text": [
      "               Model  Accuracy  Precision    Recall  F1 Score   ROC_AUC\n",
      "0  Decision_tree_PCA  0.857282     0.2125  0.168317  0.187845  0.550251\n"
     ]
    }
   ],
   "source": [
    "# Predicting Test Set\n",
    "y_pred = model_dtree.predict(X_test_pca) \n",
    "\n",
    "acc = accuracy_score(y_test, y_pred)\n",
    "prec = precision_score(y_test, y_pred,pos_label=1)\n",
    "rec = recall_score(y_test, y_pred, pos_label=1)\n",
    "f1 = f1_score(y_test, y_pred,pos_label=1)\n",
    "roc_auc = roc_auc_score(y_test, y_pred)\n",
    "\n",
    "model_results_dtree = pd.DataFrame([['Decision_tree_PCA', acc, prec, rec, f1, roc_auc]],\n",
    "               columns = ['Model', 'Accuracy', 'Precision', 'Recall', 'F1 Score', 'ROC_AUC'])\n",
    "\n",
    "print(model_results_dtree)\n",
    "results_pca = results_pca.append(model_results_dtree, ignore_index = True)"
   ]
  },
  {
   "cell_type": "code",
   "execution_count": 139,
   "metadata": {},
   "outputs": [],
   "source": [
    "fpr, tpr, _ = roc_curve(y_test, pos_probs)\n",
    "roc_table_pca = roc_table_pca.append({'classifiers': 'Decision_tree',\n",
    "                                        'fpr':fpr, \n",
    "                                        'tpr':tpr}, ignore_index=True)"
   ]
  },
  {
   "cell_type": "markdown",
   "metadata": {},
   "source": [
    "## Comparision of reduced models with original models"
   ]
  },
  {
   "cell_type": "code",
   "execution_count": 140,
   "metadata": {},
   "outputs": [],
   "source": [
    "PCA_results = pd.DataFrame(results_pca)"
   ]
  },
  {
   "cell_type": "code",
   "execution_count": 141,
   "metadata": {},
   "outputs": [
    {
     "data": {
      "text/html": [
       "<div>\n",
       "<style scoped>\n",
       "    .dataframe tbody tr th:only-of-type {\n",
       "        vertical-align: middle;\n",
       "    }\n",
       "\n",
       "    .dataframe tbody tr th {\n",
       "        vertical-align: top;\n",
       "    }\n",
       "\n",
       "    .dataframe thead th {\n",
       "        text-align: right;\n",
       "    }\n",
       "</style>\n",
       "<table border=\"1\" class=\"dataframe\">\n",
       "  <thead>\n",
       "    <tr style=\"text-align: right;\">\n",
       "      <th></th>\n",
       "      <th>Model</th>\n",
       "      <th>Accuracy</th>\n",
       "      <th>Precision</th>\n",
       "      <th>Recall</th>\n",
       "      <th>F1 Score</th>\n",
       "      <th>ROC_AUC</th>\n",
       "    </tr>\n",
       "  </thead>\n",
       "  <tbody>\n",
       "    <tr>\n",
       "      <th>0</th>\n",
       "      <td>KNN_GridCV</td>\n",
       "      <td>0.852427</td>\n",
       "      <td>0.247525</td>\n",
       "      <td>0.247525</td>\n",
       "      <td>0.247525</td>\n",
       "      <td>0.582858</td>\n",
       "    </tr>\n",
       "    <tr>\n",
       "      <th>1</th>\n",
       "      <td>Logistic_Regression_GridCV</td>\n",
       "      <td>0.897087</td>\n",
       "      <td>0.439024</td>\n",
       "      <td>0.178218</td>\n",
       "      <td>0.253521</td>\n",
       "      <td>0.576730</td>\n",
       "    </tr>\n",
       "    <tr>\n",
       "      <th>2</th>\n",
       "      <td>LinearSVM_GridCV</td>\n",
       "      <td>0.903883</td>\n",
       "      <td>0.533333</td>\n",
       "      <td>0.158416</td>\n",
       "      <td>0.244275</td>\n",
       "      <td>0.571673</td>\n",
       "    </tr>\n",
       "    <tr>\n",
       "      <th>3</th>\n",
       "      <td>SVM_KernelLinear_GridCV</td>\n",
       "      <td>0.902913</td>\n",
       "      <td>0.517241</td>\n",
       "      <td>0.148515</td>\n",
       "      <td>0.230769</td>\n",
       "      <td>0.566722</td>\n",
       "    </tr>\n",
       "    <tr>\n",
       "      <th>4</th>\n",
       "      <td>SVM_KernelPoly_GridCV</td>\n",
       "      <td>0.895146</td>\n",
       "      <td>0.410256</td>\n",
       "      <td>0.158416</td>\n",
       "      <td>0.228571</td>\n",
       "      <td>0.566829</td>\n",
       "    </tr>\n",
       "    <tr>\n",
       "      <th>5</th>\n",
       "      <td>SVM_Kernelrbf_GridCV</td>\n",
       "      <td>0.901942</td>\n",
       "      <td>0.000000</td>\n",
       "      <td>0.000000</td>\n",
       "      <td>0.000000</td>\n",
       "      <td>0.500000</td>\n",
       "    </tr>\n",
       "    <tr>\n",
       "      <th>6</th>\n",
       "      <td>Decision_tree_GridCV</td>\n",
       "      <td>0.861165</td>\n",
       "      <td>0.325000</td>\n",
       "      <td>0.386139</td>\n",
       "      <td>0.352941</td>\n",
       "      <td>0.649474</td>\n",
       "    </tr>\n",
       "    <tr>\n",
       "      <th>7</th>\n",
       "      <td>KNN_PCA</td>\n",
       "      <td>0.833010</td>\n",
       "      <td>0.237037</td>\n",
       "      <td>0.316832</td>\n",
       "      <td>0.271186</td>\n",
       "      <td>0.602980</td>\n",
       "    </tr>\n",
       "    <tr>\n",
       "      <th>8</th>\n",
       "      <td>Logistic_Regression_PCA</td>\n",
       "      <td>0.899029</td>\n",
       "      <td>0.459459</td>\n",
       "      <td>0.168317</td>\n",
       "      <td>0.246377</td>\n",
       "      <td>0.573394</td>\n",
       "    </tr>\n",
       "    <tr>\n",
       "      <th>9</th>\n",
       "      <td>LinearSVM_PCA</td>\n",
       "      <td>0.899029</td>\n",
       "      <td>0.457143</td>\n",
       "      <td>0.158416</td>\n",
       "      <td>0.235294</td>\n",
       "      <td>0.568982</td>\n",
       "    </tr>\n",
       "    <tr>\n",
       "      <th>10</th>\n",
       "      <td>SVM_KernelLinear_PCA</td>\n",
       "      <td>0.901942</td>\n",
       "      <td>0.500000</td>\n",
       "      <td>0.148515</td>\n",
       "      <td>0.229008</td>\n",
       "      <td>0.566184</td>\n",
       "    </tr>\n",
       "    <tr>\n",
       "      <th>11</th>\n",
       "      <td>SVM_KernelPoly_PCA</td>\n",
       "      <td>0.879612</td>\n",
       "      <td>0.305085</td>\n",
       "      <td>0.178218</td>\n",
       "      <td>0.225000</td>\n",
       "      <td>0.567042</td>\n",
       "    </tr>\n",
       "    <tr>\n",
       "      <th>12</th>\n",
       "      <td>SVM_Kernelrbf_PCA</td>\n",
       "      <td>0.899029</td>\n",
       "      <td>0.333333</td>\n",
       "      <td>0.029703</td>\n",
       "      <td>0.054545</td>\n",
       "      <td>0.511622</td>\n",
       "    </tr>\n",
       "    <tr>\n",
       "      <th>13</th>\n",
       "      <td>Decision_tree_PCA</td>\n",
       "      <td>0.857282</td>\n",
       "      <td>0.212500</td>\n",
       "      <td>0.168317</td>\n",
       "      <td>0.187845</td>\n",
       "      <td>0.550251</td>\n",
       "    </tr>\n",
       "  </tbody>\n",
       "</table>\n",
       "</div>"
      ],
      "text/plain": [
       "                         Model  Accuracy  Precision    Recall  F1 Score  \\\n",
       "0                   KNN_GridCV  0.852427   0.247525  0.247525  0.247525   \n",
       "1   Logistic_Regression_GridCV  0.897087   0.439024  0.178218  0.253521   \n",
       "2             LinearSVM_GridCV  0.903883   0.533333  0.158416  0.244275   \n",
       "3      SVM_KernelLinear_GridCV  0.902913   0.517241  0.148515  0.230769   \n",
       "4        SVM_KernelPoly_GridCV  0.895146   0.410256  0.158416  0.228571   \n",
       "5         SVM_Kernelrbf_GridCV  0.901942   0.000000  0.000000  0.000000   \n",
       "6         Decision_tree_GridCV  0.861165   0.325000  0.386139  0.352941   \n",
       "7                      KNN_PCA  0.833010   0.237037  0.316832  0.271186   \n",
       "8      Logistic_Regression_PCA  0.899029   0.459459  0.168317  0.246377   \n",
       "9                LinearSVM_PCA  0.899029   0.457143  0.158416  0.235294   \n",
       "10        SVM_KernelLinear_PCA  0.901942   0.500000  0.148515  0.229008   \n",
       "11          SVM_KernelPoly_PCA  0.879612   0.305085  0.178218  0.225000   \n",
       "12           SVM_Kernelrbf_PCA  0.899029   0.333333  0.029703  0.054545   \n",
       "13           Decision_tree_PCA  0.857282   0.212500  0.168317  0.187845   \n",
       "\n",
       "     ROC_AUC  \n",
       "0   0.582858  \n",
       "1   0.576730  \n",
       "2   0.571673  \n",
       "3   0.566722  \n",
       "4   0.566829  \n",
       "5   0.500000  \n",
       "6   0.649474  \n",
       "7   0.602980  \n",
       "8   0.573394  \n",
       "9   0.568982  \n",
       "10  0.566184  \n",
       "11  0.567042  \n",
       "12  0.511622  \n",
       "13  0.550251  "
      ]
     },
     "execution_count": 141,
     "metadata": {},
     "output_type": "execute_result"
    }
   ],
   "source": [
    "pd.concat([org_results,PCA_results],ignore_index=True,sort=False)"
   ]
  },
  {
   "cell_type": "markdown",
   "metadata": {},
   "source": [
    "From the results, we see that after dimensional reduction, the roc_auc score decreases slightly for most of the models except kNN, along with F1 score. We also observe that the accuracy remains similar to the original models. Hence, we conclude that PCA did not help in improving our binary classification. With 95% of variance in the data retained, there is loss of information that can help in identifying positive class in our dataset."
   ]
  },
  {
   "cell_type": "markdown",
   "metadata": {},
   "source": [
    "# Deep Learning models"
   ]
  },
  {
   "cell_type": "code",
   "execution_count": 142,
   "metadata": {},
   "outputs": [],
   "source": [
    "from keras.models import Sequential\n",
    "from keras.layers import Dense\n",
    "from keras.wrappers.scikit_learn import KerasClassifier"
   ]
  },
  {
   "cell_type": "markdown",
   "metadata": {},
   "source": [
    "## Sequential model"
   ]
  },
  {
   "cell_type": "code",
   "execution_count": 143,
   "metadata": {},
   "outputs": [],
   "source": [
    "#create model\n",
    "model = Sequential()\n",
    "\n",
    "#get number of columns in training data\n",
    "n_cols = X_train.shape[1]\n",
    "\n",
    "#add model layers\n",
    "model.add(Dense(10, activation='relu', input_shape=(n_cols,)))\n",
    "model.add(Dense(8, activation='relu'))\n",
    "model.add(Dense(1, activation='sigmoid'))"
   ]
  },
  {
   "cell_type": "code",
   "execution_count": 144,
   "metadata": {},
   "outputs": [],
   "source": [
    "# Compile model\n",
    "model.compile(loss='binary_crossentropy', optimizer='adam', metrics=['accuracy', 'AUC'])"
   ]
  },
  {
   "cell_type": "code",
   "execution_count": 145,
   "metadata": {},
   "outputs": [
    {
     "name": "stdout",
     "output_type": "stream",
     "text": [
      "Epoch 1/150\n",
      "175/175 [==============================] - 0s 659us/step - loss: 0.6852 - accuracy: 0.5388 - auc: 0.5609\n",
      "Epoch 2/150\n",
      "175/175 [==============================] - 0s 684us/step - loss: 0.5309 - accuracy: 0.7846 - auc: 0.8595\n",
      "Epoch 3/150\n",
      "175/175 [==============================] - 0s 663us/step - loss: 0.2837 - accuracy: 0.9107 - auc: 0.9538\n",
      "Epoch 4/150\n",
      "175/175 [==============================] - 0s 642us/step - loss: 0.2223 - accuracy: 0.9266 - auc: 0.9645\n",
      "Epoch 5/150\n",
      "175/175 [==============================] - 0s 645us/step - loss: 0.2003 - accuracy: 0.9340 - auc: 0.9680\n",
      "Epoch 6/150\n",
      "175/175 [==============================] - 0s 668us/step - loss: 0.1901 - accuracy: 0.9374 - auc: 0.9689\n",
      "Epoch 7/150\n",
      "175/175 [==============================] - 0s 648us/step - loss: 0.1829 - accuracy: 0.9415 - auc: 0.9708\n",
      "Epoch 8/150\n",
      "175/175 [==============================] - 0s 647us/step - loss: 0.1787 - accuracy: 0.9410 - auc: 0.9712\n",
      "Epoch 9/150\n",
      "175/175 [==============================] - 0s 647us/step - loss: 0.1741 - accuracy: 0.9422 - auc: 0.9717\n",
      "Epoch 10/150\n",
      "175/175 [==============================] - 0s 657us/step - loss: 0.1714 - accuracy: 0.9430 - auc: 0.9726\n",
      "Epoch 11/150\n",
      "175/175 [==============================] - 0s 647us/step - loss: 0.1694 - accuracy: 0.9417 - auc: 0.9726\n",
      "Epoch 12/150\n",
      "175/175 [==============================] - 0s 655us/step - loss: 0.1676 - accuracy: 0.9431 - auc: 0.9735\n",
      "Epoch 13/150\n",
      "175/175 [==============================] - 0s 651us/step - loss: 0.1649 - accuracy: 0.9433 - auc: 0.9734\n",
      "Epoch 14/150\n",
      "175/175 [==============================] - 0s 652us/step - loss: 0.1633 - accuracy: 0.9446 - auc: 0.9739\n",
      "Epoch 15/150\n",
      "175/175 [==============================] - 0s 647us/step - loss: 0.1633 - accuracy: 0.9442 - auc: 0.9736\n",
      "Epoch 16/150\n",
      "175/175 [==============================] - 0s 657us/step - loss: 0.1606 - accuracy: 0.9431 - auc: 0.9749\n",
      "Epoch 17/150\n",
      "175/175 [==============================] - 0s 652us/step - loss: 0.1614 - accuracy: 0.9444 - auc: 0.9743\n",
      "Epoch 18/150\n",
      "175/175 [==============================] - 0s 668us/step - loss: 0.1581 - accuracy: 0.9440 - auc: 0.9753\n",
      "Epoch 19/150\n",
      "175/175 [==============================] - 0s 696us/step - loss: 0.1580 - accuracy: 0.9448 - auc: 0.9748\n",
      "Epoch 20/150\n",
      "175/175 [==============================] - 0s 669us/step - loss: 0.1569 - accuracy: 0.9460 - auc: 0.9752\n",
      "Epoch 21/150\n",
      "175/175 [==============================] - 0s 704us/step - loss: 0.1563 - accuracy: 0.9464 - auc: 0.9755\n",
      "Epoch 22/150\n",
      "175/175 [==============================] - 0s 694us/step - loss: 0.1569 - accuracy: 0.9458 - auc: 0.9754\n",
      "Epoch 23/150\n",
      "175/175 [==============================] - 0s 679us/step - loss: 0.1548 - accuracy: 0.9464 - auc: 0.9759\n",
      "Epoch 24/150\n",
      "175/175 [==============================] - 0s 666us/step - loss: 0.1547 - accuracy: 0.9451 - auc: 0.9755\n",
      "Epoch 25/150\n",
      "175/175 [==============================] - 0s 657us/step - loss: 0.1526 - accuracy: 0.9471 - auc: 0.9762\n",
      "Epoch 26/150\n",
      "175/175 [==============================] - 0s 640us/step - loss: 0.1533 - accuracy: 0.9469 - auc: 0.9764\n",
      "Epoch 27/150\n",
      "175/175 [==============================] - 0s 663us/step - loss: 0.1529 - accuracy: 0.9467 - auc: 0.9763\n",
      "Epoch 28/150\n",
      "175/175 [==============================] - 0s 663us/step - loss: 0.1529 - accuracy: 0.9453 - auc: 0.9764\n",
      "Epoch 29/150\n",
      "175/175 [==============================] - 0s 667us/step - loss: 0.1537 - accuracy: 0.9474 - auc: 0.9752\n",
      "Epoch 30/150\n",
      "175/175 [==============================] - 0s 687us/step - loss: 0.1524 - accuracy: 0.9455 - auc: 0.9758\n",
      "Epoch 31/150\n",
      "175/175 [==============================] - 0s 685us/step - loss: 0.1522 - accuracy: 0.9474 - auc: 0.9762\n",
      "Epoch 32/150\n",
      "175/175 [==============================] - 0s 657us/step - loss: 0.1514 - accuracy: 0.9483 - auc: 0.9764\n",
      "Epoch 33/150\n",
      "175/175 [==============================] - 0s 669us/step - loss: 0.1513 - accuracy: 0.9478 - auc: 0.9768\n",
      "Epoch 34/150\n",
      "175/175 [==============================] - 0s 758us/step - loss: 0.1511 - accuracy: 0.9469 - auc: 0.9765\n",
      "Epoch 35/150\n",
      "175/175 [==============================] - 0s 825us/step - loss: 0.1514 - accuracy: 0.9487 - auc: 0.9762\n",
      "Epoch 36/150\n",
      "175/175 [==============================] - 0s 742us/step - loss: 0.1493 - accuracy: 0.9485 - auc: 0.9766\n",
      "Epoch 37/150\n",
      "175/175 [==============================] - 0s 673us/step - loss: 0.1512 - accuracy: 0.9467 - auc: 0.9765\n",
      "Epoch 38/150\n",
      "175/175 [==============================] - 0s 651us/step - loss: 0.1486 - accuracy: 0.9480 - auc: 0.9770\n",
      "Epoch 39/150\n",
      "175/175 [==============================] - 0s 675us/step - loss: 0.1494 - accuracy: 0.9476 - auc: 0.9769\n",
      "Epoch 40/150\n",
      "175/175 [==============================] - 0s 854us/step - loss: 0.1480 - accuracy: 0.9492 - auc: 0.9775\n",
      "Epoch 41/150\n",
      "175/175 [==============================] - 0s 737us/step - loss: 0.1483 - accuracy: 0.9487 - auc: 0.9773\n",
      "Epoch 42/150\n",
      "175/175 [==============================] - 0s 671us/step - loss: 0.1490 - accuracy: 0.9494 - auc: 0.9772\n",
      "Epoch 43/150\n",
      "175/175 [==============================] - 0s 644us/step - loss: 0.1495 - accuracy: 0.9485 - auc: 0.9765\n",
      "Epoch 44/150\n",
      "175/175 [==============================] - 0s 677us/step - loss: 0.1482 - accuracy: 0.9492 - auc: 0.9774\n",
      "Epoch 45/150\n",
      "175/175 [==============================] - 0s 713us/step - loss: 0.1477 - accuracy: 0.9485 - auc: 0.9774\n",
      "Epoch 46/150\n",
      "175/175 [==============================] - 0s 804us/step - loss: 0.1477 - accuracy: 0.9496 - auc: 0.9775\n",
      "Epoch 47/150\n",
      "175/175 [==============================] - 0s 679us/step - loss: 0.1489 - accuracy: 0.9512 - auc: 0.9769\n",
      "Epoch 48/150\n",
      "175/175 [==============================] - 0s 650us/step - loss: 0.1488 - accuracy: 0.9485 - auc: 0.9771\n",
      "Epoch 49/150\n",
      "175/175 [==============================] - 0s 693us/step - loss: 0.1475 - accuracy: 0.9494 - auc: 0.9771\n",
      "Epoch 50/150\n",
      "175/175 [==============================] - 0s 756us/step - loss: 0.1468 - accuracy: 0.9501 - auc: 0.9775\n",
      "Epoch 51/150\n",
      "175/175 [==============================] - 0s 793us/step - loss: 0.1489 - accuracy: 0.9478 - auc: 0.9777\n",
      "Epoch 52/150\n",
      "175/175 [==============================] - 0s 760us/step - loss: 0.1457 - accuracy: 0.9516 - auc: 0.9780\n",
      "Epoch 53/150\n",
      "175/175 [==============================] - 0s 680us/step - loss: 0.1454 - accuracy: 0.9514 - auc: 0.9777\n",
      "Epoch 54/150\n",
      "175/175 [==============================] - 0s 638us/step - loss: 0.1466 - accuracy: 0.9492 - auc: 0.9783\n",
      "Epoch 55/150\n",
      "175/175 [==============================] - 0s 678us/step - loss: 0.1470 - accuracy: 0.9491 - auc: 0.9781\n",
      "Epoch 56/150\n",
      "175/175 [==============================] - 0s 694us/step - loss: 0.1460 - accuracy: 0.9505 - auc: 0.9784\n",
      "Epoch 57/150\n",
      "175/175 [==============================] - 0s 663us/step - loss: 0.1454 - accuracy: 0.9496 - auc: 0.9785\n",
      "Epoch 58/150\n",
      "175/175 [==============================] - 0s 691us/step - loss: 0.1447 - accuracy: 0.9498 - auc: 0.9784\n",
      "Epoch 59/150\n",
      "175/175 [==============================] - 0s 686us/step - loss: 0.1444 - accuracy: 0.9517 - auc: 0.9782\n",
      "Epoch 60/150\n",
      "175/175 [==============================] - 0s 664us/step - loss: 0.1442 - accuracy: 0.9482 - auc: 0.9784\n",
      "Epoch 61/150\n",
      "175/175 [==============================] - 0s 633us/step - loss: 0.1448 - accuracy: 0.9510 - auc: 0.9786\n",
      "Epoch 62/150\n",
      "175/175 [==============================] - 0s 628us/step - loss: 0.1447 - accuracy: 0.9498 - auc: 0.9789\n",
      "Epoch 63/150\n",
      "175/175 [==============================] - 0s 674us/step - loss: 0.1445 - accuracy: 0.9498 - auc: 0.9788\n",
      "Epoch 64/150\n",
      "175/175 [==============================] - 0s 804us/step - loss: 0.1437 - accuracy: 0.9505 - auc: 0.9789\n",
      "Epoch 65/150\n",
      "175/175 [==============================] - 0s 681us/step - loss: 0.1443 - accuracy: 0.9507 - auc: 0.9784\n",
      "Epoch 66/150\n",
      "175/175 [==============================] - 0s 636us/step - loss: 0.1444 - accuracy: 0.9503 - auc: 0.9781\n",
      "Epoch 67/150\n",
      "175/175 [==============================] - 0s 635us/step - loss: 0.1442 - accuracy: 0.9494 - auc: 0.9788\n",
      "Epoch 68/150\n",
      "175/175 [==============================] - 0s 634us/step - loss: 0.1430 - accuracy: 0.9509 - auc: 0.9789\n",
      "Epoch 69/150\n",
      "175/175 [==============================] - 0s 640us/step - loss: 0.1441 - accuracy: 0.9501 - auc: 0.9788\n",
      "Epoch 70/150\n",
      "175/175 [==============================] - 0s 702us/step - loss: 0.1427 - accuracy: 0.9503 - auc: 0.9793\n",
      "Epoch 71/150\n",
      "175/175 [==============================] - 0s 704us/step - loss: 0.1440 - accuracy: 0.9498 - auc: 0.9788\n",
      "Epoch 72/150\n",
      "175/175 [==============================] - 0s 693us/step - loss: 0.1454 - accuracy: 0.9487 - auc: 0.9790\n",
      "Epoch 73/150\n",
      "175/175 [==============================] - 0s 680us/step - loss: 0.1429 - accuracy: 0.9491 - auc: 0.9796\n",
      "Epoch 74/150\n",
      "175/175 [==============================] - 0s 691us/step - loss: 0.1429 - accuracy: 0.9500 - auc: 0.9798\n",
      "Epoch 75/150\n",
      "175/175 [==============================] - 0s 669us/step - loss: 0.1426 - accuracy: 0.9517 - auc: 0.9793\n",
      "Epoch 76/150\n",
      "175/175 [==============================] - 0s 669us/step - loss: 0.1422 - accuracy: 0.9503 - auc: 0.9793\n",
      "Epoch 77/150\n",
      "175/175 [==============================] - 0s 662us/step - loss: 0.1421 - accuracy: 0.9498 - auc: 0.9794\n",
      "Epoch 78/150\n",
      "175/175 [==============================] - 0s 677us/step - loss: 0.1430 - accuracy: 0.9517 - auc: 0.9790\n",
      "Epoch 79/150\n",
      "175/175 [==============================] - 0s 645us/step - loss: 0.1422 - accuracy: 0.9512 - auc: 0.9794\n",
      "Epoch 80/150\n",
      "175/175 [==============================] - 0s 656us/step - loss: 0.1430 - accuracy: 0.9494 - auc: 0.9795\n",
      "Epoch 81/150\n",
      "175/175 [==============================] - 0s 697us/step - loss: 0.1418 - accuracy: 0.9492 - auc: 0.9797\n",
      "Epoch 82/150\n",
      "175/175 [==============================] - 0s 688us/step - loss: 0.1409 - accuracy: 0.9503 - auc: 0.9799\n",
      "Epoch 83/150\n",
      "175/175 [==============================] - 0s 657us/step - loss: 0.1409 - accuracy: 0.9507 - auc: 0.9801\n",
      "Epoch 84/150\n",
      "175/175 [==============================] - 0s 665us/step - loss: 0.1413 - accuracy: 0.9492 - auc: 0.9801\n",
      "Epoch 85/150\n",
      "175/175 [==============================] - 0s 651us/step - loss: 0.1427 - accuracy: 0.9512 - auc: 0.9791\n",
      "Epoch 86/150\n",
      "175/175 [==============================] - 0s 797us/step - loss: 0.1409 - accuracy: 0.9514 - auc: 0.9801\n",
      "Epoch 87/150\n",
      "175/175 [==============================] - 0s 651us/step - loss: 0.1412 - accuracy: 0.9507 - auc: 0.9798\n",
      "Epoch 88/150\n",
      "175/175 [==============================] - 0s 648us/step - loss: 0.1399 - accuracy: 0.9516 - auc: 0.9806\n",
      "Epoch 89/150\n",
      "175/175 [==============================] - 0s 720us/step - loss: 0.1411 - accuracy: 0.9491 - auc: 0.9801\n",
      "Epoch 90/150\n",
      "175/175 [==============================] - 0s 674us/step - loss: 0.1400 - accuracy: 0.9519 - auc: 0.9800\n",
      "Epoch 91/150\n",
      "175/175 [==============================] - 0s 643us/step - loss: 0.1407 - accuracy: 0.9523 - auc: 0.9804\n",
      "Epoch 92/150\n",
      "175/175 [==============================] - 0s 651us/step - loss: 0.1415 - accuracy: 0.9507 - auc: 0.9797\n",
      "Epoch 93/150\n",
      "175/175 [==============================] - 0s 655us/step - loss: 0.1402 - accuracy: 0.9509 - auc: 0.9803\n",
      "Epoch 94/150\n",
      "175/175 [==============================] - 0s 652us/step - loss: 0.1415 - accuracy: 0.9521 - auc: 0.9801\n",
      "Epoch 95/150\n",
      "175/175 [==============================] - 0s 654us/step - loss: 0.1414 - accuracy: 0.9501 - auc: 0.9798\n",
      "Epoch 96/150\n",
      "175/175 [==============================] - 0s 664us/step - loss: 0.1407 - accuracy: 0.9509 - auc: 0.9802\n",
      "Epoch 97/150\n",
      "175/175 [==============================] - 0s 645us/step - loss: 0.1415 - accuracy: 0.9503 - auc: 0.9794\n",
      "Epoch 98/150\n",
      "175/175 [==============================] - 0s 662us/step - loss: 0.1407 - accuracy: 0.9519 - auc: 0.9801\n",
      "Epoch 99/150\n",
      "175/175 [==============================] - 0s 669us/step - loss: 0.1396 - accuracy: 0.9516 - auc: 0.9803\n",
      "Epoch 100/150\n",
      "175/175 [==============================] - 0s 755us/step - loss: 0.1404 - accuracy: 0.9510 - auc: 0.9803\n",
      "Epoch 101/150\n",
      "175/175 [==============================] - 0s 655us/step - loss: 0.1401 - accuracy: 0.9514 - auc: 0.9806\n",
      "Epoch 102/150\n",
      "175/175 [==============================] - 0s 650us/step - loss: 0.1407 - accuracy: 0.9523 - auc: 0.9806\n",
      "Epoch 103/150\n",
      "175/175 [==============================] - 0s 637us/step - loss: 0.1398 - accuracy: 0.9512 - auc: 0.9804\n",
      "Epoch 104/150\n",
      "175/175 [==============================] - 0s 636us/step - loss: 0.1382 - accuracy: 0.9534 - auc: 0.9809\n",
      "Epoch 105/150\n",
      "175/175 [==============================] - 0s 640us/step - loss: 0.1421 - accuracy: 0.9492 - auc: 0.9801\n",
      "Epoch 106/150\n",
      "175/175 [==============================] - 0s 647us/step - loss: 0.1387 - accuracy: 0.9523 - auc: 0.9806\n",
      "Epoch 107/150\n",
      "175/175 [==============================] - 0s 640us/step - loss: 0.1403 - accuracy: 0.9514 - auc: 0.9802\n",
      "Epoch 108/150\n",
      "175/175 [==============================] - 0s 640us/step - loss: 0.1379 - accuracy: 0.9519 - auc: 0.9810\n",
      "Epoch 109/150\n",
      "175/175 [==============================] - 0s 657us/step - loss: 0.1386 - accuracy: 0.9507 - auc: 0.9813\n",
      "Epoch 110/150\n",
      "175/175 [==============================] - 0s 645us/step - loss: 0.1395 - accuracy: 0.9514 - auc: 0.9811\n",
      "Epoch 111/150\n",
      "175/175 [==============================] - 0s 668us/step - loss: 0.1391 - accuracy: 0.9517 - auc: 0.9812\n",
      "Epoch 112/150\n",
      "175/175 [==============================] - 0s 727us/step - loss: 0.1396 - accuracy: 0.9507 - auc: 0.9806\n",
      "Epoch 113/150\n",
      "175/175 [==============================] - 0s 759us/step - loss: 0.1395 - accuracy: 0.9505 - auc: 0.9805\n",
      "Epoch 114/150\n",
      "175/175 [==============================] - 0s 790us/step - loss: 0.1375 - accuracy: 0.9514 - auc: 0.9815\n",
      "Epoch 115/150\n",
      "175/175 [==============================] - 0s 816us/step - loss: 0.1381 - accuracy: 0.9525 - auc: 0.9812\n",
      "Epoch 116/150\n",
      "175/175 [==============================] - 0s 810us/step - loss: 0.1393 - accuracy: 0.9514 - auc: 0.9810\n",
      "Epoch 117/150\n",
      "175/175 [==============================] - 0s 803us/step - loss: 0.1394 - accuracy: 0.9507 - auc: 0.9812\n",
      "Epoch 118/150\n",
      "175/175 [==============================] - 0s 959us/step - loss: 0.1377 - accuracy: 0.9526 - auc: 0.9809\n",
      "Epoch 119/150\n",
      "175/175 [==============================] - 0s 807us/step - loss: 0.1417 - accuracy: 0.9503 - auc: 0.9806\n",
      "Epoch 120/150\n",
      "175/175 [==============================] - 0s 789us/step - loss: 0.1374 - accuracy: 0.9519 - auc: 0.9813\n",
      "Epoch 121/150\n",
      "175/175 [==============================] - 0s 853us/step - loss: 0.1374 - accuracy: 0.9521 - auc: 0.9813\n",
      "Epoch 122/150\n",
      "175/175 [==============================] - 0s 820us/step - loss: 0.1390 - accuracy: 0.9507 - auc: 0.9812\n",
      "Epoch 123/150\n",
      "175/175 [==============================] - 0s 857us/step - loss: 0.1361 - accuracy: 0.9507 - auc: 0.9821\n",
      "Epoch 124/150\n",
      "175/175 [==============================] - 0s 905us/step - loss: 0.1383 - accuracy: 0.9507 - auc: 0.9809\n",
      "Epoch 125/150\n",
      "175/175 [==============================] - 0s 832us/step - loss: 0.1378 - accuracy: 0.9507 - auc: 0.9814\n",
      "Epoch 126/150\n",
      "175/175 [==============================] - 0s 797us/step - loss: 0.1382 - accuracy: 0.9507 - auc: 0.9812\n",
      "Epoch 127/150\n",
      "175/175 [==============================] - 0s 795us/step - loss: 0.1381 - accuracy: 0.9530 - auc: 0.9810\n",
      "Epoch 128/150\n",
      "175/175 [==============================] - 0s 810us/step - loss: 0.1384 - accuracy: 0.9510 - auc: 0.9812\n",
      "Epoch 129/150\n",
      "175/175 [==============================] - 0s 800us/step - loss: 0.1377 - accuracy: 0.9517 - auc: 0.9813\n",
      "Epoch 130/150\n",
      "175/175 [==============================] - 0s 792us/step - loss: 0.1373 - accuracy: 0.9528 - auc: 0.9812\n",
      "Epoch 131/150\n",
      "175/175 [==============================] - 0s 806us/step - loss: 0.1384 - accuracy: 0.9487 - auc: 0.9819\n",
      "Epoch 132/150\n",
      "175/175 [==============================] - 0s 815us/step - loss: 0.1371 - accuracy: 0.9512 - auc: 0.9817\n",
      "Epoch 133/150\n",
      "175/175 [==============================] - 0s 804us/step - loss: 0.1383 - accuracy: 0.9514 - auc: 0.9814\n",
      "Epoch 134/150\n",
      "175/175 [==============================] - 0s 793us/step - loss: 0.1370 - accuracy: 0.9528 - auc: 0.9815\n",
      "Epoch 135/150\n",
      "175/175 [==============================] - 0s 806us/step - loss: 0.1372 - accuracy: 0.9517 - auc: 0.9814\n",
      "Epoch 136/150\n",
      "175/175 [==============================] - 0s 808us/step - loss: 0.1375 - accuracy: 0.9510 - auc: 0.9814\n",
      "Epoch 137/150\n",
      "175/175 [==============================] - 0s 783us/step - loss: 0.1361 - accuracy: 0.9526 - auc: 0.9814\n",
      "Epoch 138/150\n",
      "175/175 [==============================] - 0s 804us/step - loss: 0.1364 - accuracy: 0.9525 - auc: 0.9817\n",
      "Epoch 139/150\n"
     ]
    },
    {
     "name": "stdout",
     "output_type": "stream",
     "text": [
      "175/175 [==============================] - 0s 817us/step - loss: 0.1385 - accuracy: 0.9514 - auc: 0.9813\n",
      "Epoch 140/150\n",
      "175/175 [==============================] - 0s 806us/step - loss: 0.1359 - accuracy: 0.9526 - auc: 0.9821\n",
      "Epoch 141/150\n",
      "175/175 [==============================] - 0s 799us/step - loss: 0.1373 - accuracy: 0.9501 - auc: 0.9818\n",
      "Epoch 142/150\n",
      "175/175 [==============================] - 0s 800us/step - loss: 0.1363 - accuracy: 0.9516 - auc: 0.9817\n",
      "Epoch 143/150\n",
      "175/175 [==============================] - 0s 796us/step - loss: 0.1358 - accuracy: 0.9517 - auc: 0.9818\n",
      "Epoch 144/150\n",
      "175/175 [==============================] - 0s 794us/step - loss: 0.1374 - accuracy: 0.9528 - auc: 0.9809\n",
      "Epoch 145/150\n",
      "175/175 [==============================] - 0s 784us/step - loss: 0.1353 - accuracy: 0.9539 - auc: 0.9817\n",
      "Epoch 146/150\n",
      "175/175 [==============================] - 0s 811us/step - loss: 0.1363 - accuracy: 0.9523 - auc: 0.9820\n",
      "Epoch 147/150\n",
      "175/175 [==============================] - 0s 789us/step - loss: 0.1344 - accuracy: 0.9526 - auc: 0.9825\n",
      "Epoch 148/150\n",
      "175/175 [==============================] - 0s 798us/step - loss: 0.1363 - accuracy: 0.9505 - auc: 0.9822\n",
      "Epoch 149/150\n",
      "175/175 [==============================] - 0s 791us/step - loss: 0.1373 - accuracy: 0.9514 - auc: 0.9809\n",
      "Epoch 150/150\n",
      "175/175 [==============================] - 0s 791us/step - loss: 0.1349 - accuracy: 0.9516 - auc: 0.9821\n"
     ]
    },
    {
     "data": {
      "text/plain": [
       "<tensorflow.python.keras.callbacks.History at 0x20e58a58448>"
      ]
     },
     "execution_count": 145,
     "metadata": {},
     "output_type": "execute_result"
    }
   ],
   "source": [
    "# Fit the model\n",
    "model.fit(X_train, y_train, epochs=150, batch_size=32)"
   ]
  },
  {
   "cell_type": "code",
   "execution_count": 146,
   "metadata": {},
   "outputs": [
    {
     "name": "stdout",
     "output_type": "stream",
     "text": [
      "33/33 [==============================] - 0s 665us/step - loss: 0.3706 - accuracy: 0.8757 - auc: 0.6933\n",
      "\n",
      "accuracy: 87.57%\n"
     ]
    }
   ],
   "source": [
    "# evaluate the model\n",
    "scores = model.evaluate(X_test, y_test)\n",
    "print(\"\\n%s: %.2f%%\" % (model.metrics_names[1], scores[1]*100))"
   ]
  },
  {
   "cell_type": "code",
   "execution_count": 147,
   "metadata": {},
   "outputs": [],
   "source": [
    "results_nn = pd.DataFrame([['Neural_net', scores[1], scores[2]]],\n",
    "               columns = ['Model', 'Accuracy', 'ROC_AUC'])\n",
    "results_ensemble = results_ensemble.append(results_nn, ignore_index=True)"
   ]
  },
  {
   "cell_type": "markdown",
   "metadata": {},
   "source": [
    "# Conclusions\n",
    "\n",
    "#### From the result tables below, we see that ensemble model with Bagging on the original Decision Tree model has the highest roc_auc score of 70% with 86.6% accuracy, rendering it to be the best model for our binary classification problem. Neural network model also does a good job with 69.32% roc_auc score and 87.57% accuracy. On the other hand, dimensionality reduction does not really help in improving our classification models."
   ]
  },
  {
   "cell_type": "code",
   "execution_count": 148,
   "metadata": {},
   "outputs": [
    {
     "data": {
      "text/html": [
       "<div>\n",
       "<style scoped>\n",
       "    .dataframe tbody tr th:only-of-type {\n",
       "        vertical-align: middle;\n",
       "    }\n",
       "\n",
       "    .dataframe tbody tr th {\n",
       "        vertical-align: top;\n",
       "    }\n",
       "\n",
       "    .dataframe thead th {\n",
       "        text-align: right;\n",
       "    }\n",
       "</style>\n",
       "<table border=\"1\" class=\"dataframe\">\n",
       "  <thead>\n",
       "    <tr style=\"text-align: right;\">\n",
       "      <th></th>\n",
       "      <th>Model</th>\n",
       "      <th>Accuracy</th>\n",
       "      <th>Precision</th>\n",
       "      <th>Recall</th>\n",
       "      <th>F1 Score</th>\n",
       "      <th>ROC_AUC</th>\n",
       "    </tr>\n",
       "  </thead>\n",
       "  <tbody>\n",
       "    <tr>\n",
       "      <th>0</th>\n",
       "      <td>KNN_GridCV</td>\n",
       "      <td>0.852427</td>\n",
       "      <td>0.247525</td>\n",
       "      <td>0.247525</td>\n",
       "      <td>0.247525</td>\n",
       "      <td>0.582858</td>\n",
       "    </tr>\n",
       "    <tr>\n",
       "      <th>1</th>\n",
       "      <td>Logistic_Regression_GridCV</td>\n",
       "      <td>0.897087</td>\n",
       "      <td>0.439024</td>\n",
       "      <td>0.178218</td>\n",
       "      <td>0.253521</td>\n",
       "      <td>0.576730</td>\n",
       "    </tr>\n",
       "    <tr>\n",
       "      <th>2</th>\n",
       "      <td>LinearSVM_GridCV</td>\n",
       "      <td>0.903883</td>\n",
       "      <td>0.533333</td>\n",
       "      <td>0.158416</td>\n",
       "      <td>0.244275</td>\n",
       "      <td>0.571673</td>\n",
       "    </tr>\n",
       "    <tr>\n",
       "      <th>3</th>\n",
       "      <td>SVM_KernelLinear_GridCV</td>\n",
       "      <td>0.902913</td>\n",
       "      <td>0.517241</td>\n",
       "      <td>0.148515</td>\n",
       "      <td>0.230769</td>\n",
       "      <td>0.566722</td>\n",
       "    </tr>\n",
       "    <tr>\n",
       "      <th>4</th>\n",
       "      <td>SVM_KernelPoly_GridCV</td>\n",
       "      <td>0.895146</td>\n",
       "      <td>0.410256</td>\n",
       "      <td>0.158416</td>\n",
       "      <td>0.228571</td>\n",
       "      <td>0.566829</td>\n",
       "    </tr>\n",
       "    <tr>\n",
       "      <th>5</th>\n",
       "      <td>SVM_Kernelrbf_GridCV</td>\n",
       "      <td>0.901942</td>\n",
       "      <td>0.000000</td>\n",
       "      <td>0.000000</td>\n",
       "      <td>0.000000</td>\n",
       "      <td>0.500000</td>\n",
       "    </tr>\n",
       "    <tr>\n",
       "      <th>6</th>\n",
       "      <td>Decision_tree_GridCV</td>\n",
       "      <td>0.861165</td>\n",
       "      <td>0.325000</td>\n",
       "      <td>0.386139</td>\n",
       "      <td>0.352941</td>\n",
       "      <td>0.649474</td>\n",
       "    </tr>\n",
       "    <tr>\n",
       "      <th>7</th>\n",
       "      <td>KNN_PCA</td>\n",
       "      <td>0.833010</td>\n",
       "      <td>0.237037</td>\n",
       "      <td>0.316832</td>\n",
       "      <td>0.271186</td>\n",
       "      <td>0.602980</td>\n",
       "    </tr>\n",
       "    <tr>\n",
       "      <th>8</th>\n",
       "      <td>Logistic_Regression_PCA</td>\n",
       "      <td>0.899029</td>\n",
       "      <td>0.459459</td>\n",
       "      <td>0.168317</td>\n",
       "      <td>0.246377</td>\n",
       "      <td>0.573394</td>\n",
       "    </tr>\n",
       "    <tr>\n",
       "      <th>9</th>\n",
       "      <td>LinearSVM_PCA</td>\n",
       "      <td>0.899029</td>\n",
       "      <td>0.457143</td>\n",
       "      <td>0.158416</td>\n",
       "      <td>0.235294</td>\n",
       "      <td>0.568982</td>\n",
       "    </tr>\n",
       "    <tr>\n",
       "      <th>10</th>\n",
       "      <td>SVM_KernelLinear_PCA</td>\n",
       "      <td>0.901942</td>\n",
       "      <td>0.500000</td>\n",
       "      <td>0.148515</td>\n",
       "      <td>0.229008</td>\n",
       "      <td>0.566184</td>\n",
       "    </tr>\n",
       "    <tr>\n",
       "      <th>11</th>\n",
       "      <td>SVM_KernelPoly_PCA</td>\n",
       "      <td>0.879612</td>\n",
       "      <td>0.305085</td>\n",
       "      <td>0.178218</td>\n",
       "      <td>0.225000</td>\n",
       "      <td>0.567042</td>\n",
       "    </tr>\n",
       "    <tr>\n",
       "      <th>12</th>\n",
       "      <td>SVM_Kernelrbf_PCA</td>\n",
       "      <td>0.899029</td>\n",
       "      <td>0.333333</td>\n",
       "      <td>0.029703</td>\n",
       "      <td>0.054545</td>\n",
       "      <td>0.511622</td>\n",
       "    </tr>\n",
       "    <tr>\n",
       "      <th>13</th>\n",
       "      <td>Decision_tree_PCA</td>\n",
       "      <td>0.857282</td>\n",
       "      <td>0.212500</td>\n",
       "      <td>0.168317</td>\n",
       "      <td>0.187845</td>\n",
       "      <td>0.550251</td>\n",
       "    </tr>\n",
       "  </tbody>\n",
       "</table>\n",
       "</div>"
      ],
      "text/plain": [
       "                         Model  Accuracy  Precision    Recall  F1 Score  \\\n",
       "0                   KNN_GridCV  0.852427   0.247525  0.247525  0.247525   \n",
       "1   Logistic_Regression_GridCV  0.897087   0.439024  0.178218  0.253521   \n",
       "2             LinearSVM_GridCV  0.903883   0.533333  0.158416  0.244275   \n",
       "3      SVM_KernelLinear_GridCV  0.902913   0.517241  0.148515  0.230769   \n",
       "4        SVM_KernelPoly_GridCV  0.895146   0.410256  0.158416  0.228571   \n",
       "5         SVM_Kernelrbf_GridCV  0.901942   0.000000  0.000000  0.000000   \n",
       "6         Decision_tree_GridCV  0.861165   0.325000  0.386139  0.352941   \n",
       "7                      KNN_PCA  0.833010   0.237037  0.316832  0.271186   \n",
       "8      Logistic_Regression_PCA  0.899029   0.459459  0.168317  0.246377   \n",
       "9                LinearSVM_PCA  0.899029   0.457143  0.158416  0.235294   \n",
       "10        SVM_KernelLinear_PCA  0.901942   0.500000  0.148515  0.229008   \n",
       "11          SVM_KernelPoly_PCA  0.879612   0.305085  0.178218  0.225000   \n",
       "12           SVM_Kernelrbf_PCA  0.899029   0.333333  0.029703  0.054545   \n",
       "13           Decision_tree_PCA  0.857282   0.212500  0.168317  0.187845   \n",
       "\n",
       "     ROC_AUC  \n",
       "0   0.582858  \n",
       "1   0.576730  \n",
       "2   0.571673  \n",
       "3   0.566722  \n",
       "4   0.566829  \n",
       "5   0.500000  \n",
       "6   0.649474  \n",
       "7   0.602980  \n",
       "8   0.573394  \n",
       "9   0.568982  \n",
       "10  0.566184  \n",
       "11  0.567042  \n",
       "12  0.511622  \n",
       "13  0.550251  "
      ]
     },
     "execution_count": 148,
     "metadata": {},
     "output_type": "execute_result"
    }
   ],
   "source": [
    "pd.concat([org_results,PCA_results],ignore_index=True,sort=False)"
   ]
  },
  {
   "cell_type": "code",
   "execution_count": 149,
   "metadata": {},
   "outputs": [
    {
     "data": {
      "text/html": [
       "<div>\n",
       "<style scoped>\n",
       "    .dataframe tbody tr th:only-of-type {\n",
       "        vertical-align: middle;\n",
       "    }\n",
       "\n",
       "    .dataframe tbody tr th {\n",
       "        vertical-align: top;\n",
       "    }\n",
       "\n",
       "    .dataframe thead th {\n",
       "        text-align: right;\n",
       "    }\n",
       "</style>\n",
       "<table border=\"1\" class=\"dataframe\">\n",
       "  <thead>\n",
       "    <tr style=\"text-align: right;\">\n",
       "      <th></th>\n",
       "      <th>Model</th>\n",
       "      <th>Accuracy</th>\n",
       "      <th>ROC_AUC</th>\n",
       "    </tr>\n",
       "  </thead>\n",
       "  <tbody>\n",
       "    <tr>\n",
       "      <th>0</th>\n",
       "      <td>Hard_Voting_clf</td>\n",
       "      <td>0.896117</td>\n",
       "      <td>0.585016</td>\n",
       "    </tr>\n",
       "    <tr>\n",
       "      <th>1</th>\n",
       "      <td>Soft_Voting_clf</td>\n",
       "      <td>0.890291</td>\n",
       "      <td>0.586199</td>\n",
       "    </tr>\n",
       "    <tr>\n",
       "      <th>2</th>\n",
       "      <td>Bagging_DTree</td>\n",
       "      <td>0.866019</td>\n",
       "      <td>0.700700</td>\n",
       "    </tr>\n",
       "    <tr>\n",
       "      <th>3</th>\n",
       "      <td>Pasting_DTree</td>\n",
       "      <td>0.861165</td>\n",
       "      <td>0.698009</td>\n",
       "    </tr>\n",
       "    <tr>\n",
       "      <th>4</th>\n",
       "      <td>Bagging_kNN</td>\n",
       "      <td>0.740777</td>\n",
       "      <td>0.618034</td>\n",
       "    </tr>\n",
       "    <tr>\n",
       "      <th>5</th>\n",
       "      <td>Pasting_kNN</td>\n",
       "      <td>0.733981</td>\n",
       "      <td>0.623091</td>\n",
       "    </tr>\n",
       "    <tr>\n",
       "      <th>6</th>\n",
       "      <td>AdaBoost_DTree</td>\n",
       "      <td>0.876699</td>\n",
       "      <td>0.618375</td>\n",
       "    </tr>\n",
       "    <tr>\n",
       "      <th>7</th>\n",
       "      <td>AdaBoost_Logistic</td>\n",
       "      <td>0.869903</td>\n",
       "      <td>0.627844</td>\n",
       "    </tr>\n",
       "    <tr>\n",
       "      <th>8</th>\n",
       "      <td>GradientB_clf</td>\n",
       "      <td>0.882524</td>\n",
       "      <td>0.603955</td>\n",
       "    </tr>\n",
       "    <tr>\n",
       "      <th>9</th>\n",
       "      <td>Neural_net</td>\n",
       "      <td>0.875728</td>\n",
       "      <td>0.693261</td>\n",
       "    </tr>\n",
       "  </tbody>\n",
       "</table>\n",
       "</div>"
      ],
      "text/plain": [
       "               Model  Accuracy   ROC_AUC\n",
       "0    Hard_Voting_clf  0.896117  0.585016\n",
       "1    Soft_Voting_clf  0.890291  0.586199\n",
       "2      Bagging_DTree  0.866019  0.700700\n",
       "3      Pasting_DTree  0.861165  0.698009\n",
       "4        Bagging_kNN  0.740777  0.618034\n",
       "5        Pasting_kNN  0.733981  0.623091\n",
       "6     AdaBoost_DTree  0.876699  0.618375\n",
       "7  AdaBoost_Logistic  0.869903  0.627844\n",
       "8      GradientB_clf  0.882524  0.603955\n",
       "9         Neural_net  0.875728  0.693261"
      ]
     },
     "execution_count": 149,
     "metadata": {},
     "output_type": "execute_result"
    }
   ],
   "source": [
    "pd.DataFrame(results_ensemble)"
   ]
  }
 ],
 "metadata": {
  "kernelspec": {
   "display_name": "Python 3",
   "language": "python",
   "name": "python3"
  },
  "language_info": {
   "codemirror_mode": {
    "name": "ipython",
    "version": 3
   },
   "file_extension": ".py",
   "mimetype": "text/x-python",
   "name": "python",
   "nbconvert_exporter": "python",
   "pygments_lexer": "ipython3",
   "version": "3.7.4"
  }
 },
 "nbformat": 4,
 "nbformat_minor": 2
}
